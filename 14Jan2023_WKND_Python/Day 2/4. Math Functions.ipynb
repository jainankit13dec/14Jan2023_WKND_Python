{
 "cells": [
  {
   "cell_type": "code",
   "execution_count": 1,
   "metadata": {},
   "outputs": [],
   "source": [
    "import numpy as np"
   ]
  },
  {
   "cell_type": "code",
   "execution_count": 2,
   "metadata": {},
   "outputs": [
    {
     "data": {
      "text/plain": [
       "array([[0.85437795, 0.1485011 , 0.13858   , 0.90844438, 0.87336941],\n",
       "       [0.17978553, 0.86743414, 0.5521273 , 0.69833469, 0.45763573],\n",
       "       [0.97860236, 0.49726308, 0.51907722, 0.22106386, 0.07079475],\n",
       "       [0.34004275, 0.82460196, 0.16004258, 0.39806216, 0.80266628],\n",
       "       [0.9595465 , 0.89638572, 0.96145272, 0.28021248, 0.11599335]])"
      ]
     },
     "execution_count": 2,
     "metadata": {},
     "output_type": "execute_result"
    }
   ],
   "source": [
    "arr = np.random.rand(5,5)\n",
    "arr"
   ]
  },
  {
   "cell_type": "markdown",
   "metadata": {},
   "source": [
    "### element-wise addition, subtraction, multiplication and division"
   ]
  },
  {
   "cell_type": "code",
   "execution_count": 3,
   "metadata": {},
   "outputs": [
    {
     "name": "stdout",
     "output_type": "stream",
     "text": [
      "[[10.85437795 10.1485011  10.13858    10.90844438 10.87336941]\n",
      " [10.17978553 10.86743414 10.5521273  10.69833469 10.45763573]\n",
      " [10.97860236 10.49726308 10.51907722 10.22106386 10.07079475]\n",
      " [10.34004275 10.82460196 10.16004258 10.39806216 10.80266628]\n",
      " [10.9595465  10.89638572 10.96145272 10.28021248 10.11599335]]\n",
      "\n",
      " --------------------\n"
     ]
    }
   ],
   "source": [
    "print(arr + 10)\n",
    "print('\\n','-'*20)"
   ]
  },
  {
   "cell_type": "code",
   "execution_count": 4,
   "metadata": {},
   "outputs": [
    {
     "name": "stdout",
     "output_type": "stream",
     "text": [
      "[[-9.14562205 -9.8514989  -9.86142    -9.09155562 -9.12663059]\n",
      " [-9.82021447 -9.13256586 -9.4478727  -9.30166531 -9.54236427]\n",
      " [-9.02139764 -9.50273692 -9.48092278 -9.77893614 -9.92920525]\n",
      " [-9.65995725 -9.17539804 -9.83995742 -9.60193784 -9.19733372]\n",
      " [-9.0404535  -9.10361428 -9.03854728 -9.71978752 -9.88400665]]\n",
      "\n",
      " --------------------\n"
     ]
    }
   ],
   "source": [
    "print(arr - 10)\n",
    "print('\\n','-'*20)\n"
   ]
  },
  {
   "cell_type": "code",
   "execution_count": 5,
   "metadata": {},
   "outputs": [
    {
     "name": "stdout",
     "output_type": "stream",
     "text": [
      "[[8.54377952 1.48501099 1.38580003 9.08444382 8.73369414]\n",
      " [1.79785529 8.67434143 5.521273   6.98334689 4.57635734]\n",
      " [9.78602364 4.97263077 5.19077216 2.21063862 0.70794754]\n",
      " [3.40042755 8.24601963 1.60042576 3.98062158 8.02666278]\n",
      " [9.59546499 8.96385721 9.61452719 2.8021248  1.1599335 ]]\n",
      "\n",
      " --------------------\n"
     ]
    }
   ],
   "source": [
    "print(arr * 10)\n",
    "print('\\n','-'*20)\n"
   ]
  },
  {
   "cell_type": "code",
   "execution_count": 6,
   "metadata": {},
   "outputs": [
    {
     "name": "stdout",
     "output_type": "stream",
     "text": [
      "[[0.0854378  0.01485011 0.013858   0.09084444 0.08733694]\n",
      " [0.01797855 0.08674341 0.05521273 0.06983347 0.04576357]\n",
      " [0.09786024 0.04972631 0.05190772 0.02210639 0.00707948]\n",
      " [0.03400428 0.0824602  0.01600426 0.03980622 0.08026663]\n",
      " [0.09595465 0.08963857 0.09614527 0.02802125 0.01159934]]\n",
      "\n",
      " --------------------\n"
     ]
    }
   ],
   "source": [
    "print(arr / 10)\n",
    "print('\\n','-'*20)"
   ]
  },
  {
   "cell_type": "code",
   "execution_count": null,
   "metadata": {},
   "outputs": [],
   "source": []
  },
  {
   "cell_type": "code",
   "execution_count": 12,
   "metadata": {},
   "outputs": [
    {
     "name": "stdout",
     "output_type": "stream",
     "text": [
      "[1 2 3]\n"
     ]
    }
   ],
   "source": [
    "# the above operations can be performed using numpy built-in functions\n",
    "# which can save memory as the output can be stored in the original array rather than assigning new memory\n",
    "arr1 = np.array([1,2,3])\n",
    "print(arr1)"
   ]
  },
  {
   "cell_type": "code",
   "execution_count": 22,
   "metadata": {},
   "outputs": [
    {
     "data": {
      "text/plain": [
       "array([[0.39732336, 0.53978371, 0.85364417],\n",
       "       [0.67545934, 0.65183304, 0.96160493]])"
      ]
     },
     "execution_count": 22,
     "metadata": {},
     "output_type": "execute_result"
    }
   ],
   "source": [
    "arr1 = np.random.rand(2,3)\n",
    "arr1"
   ]
  },
  {
   "cell_type": "code",
   "execution_count": 23,
   "metadata": {},
   "outputs": [
    {
     "ename": "ValueError",
     "evalue": "operands could not be broadcast together with shapes (2,3) (2,2) (2,3) ",
     "output_type": "error",
     "traceback": [
      "\u001b[0;31m---------------------------------------------------------------------------\u001b[0m",
      "\u001b[0;31mValueError\u001b[0m                                Traceback (most recent call last)",
      "\u001b[0;32m/var/folders/dq/452wvgp96nv2qcc3dn0dv8240000gn/T/ipykernel_1175/3511711430.py\u001b[0m in \u001b[0;36m<module>\u001b[0;34m\u001b[0m\n\u001b[0;32m----> 1\u001b[0;31m \u001b[0mnp\u001b[0m\u001b[0;34m.\u001b[0m\u001b[0madd\u001b[0m\u001b[0;34m(\u001b[0m\u001b[0marr1\u001b[0m\u001b[0;34m,\u001b[0m \u001b[0;34m[\u001b[0m\u001b[0;34m[\u001b[0m\u001b[0;36m8\u001b[0m\u001b[0;34m,\u001b[0m\u001b[0;36m9\u001b[0m\u001b[0;34m]\u001b[0m\u001b[0;34m,\u001b[0m\u001b[0;34m[\u001b[0m\u001b[0;36m1\u001b[0m\u001b[0;34m,\u001b[0m\u001b[0;36m2\u001b[0m\u001b[0;34m]\u001b[0m\u001b[0;34m]\u001b[0m\u001b[0;34m,\u001b[0m \u001b[0mout\u001b[0m\u001b[0;34m=\u001b[0m\u001b[0marr1\u001b[0m\u001b[0;34m)\u001b[0m\u001b[0;34m\u001b[0m\u001b[0;34m\u001b[0m\u001b[0m\n\u001b[0m",
      "\u001b[0;31mValueError\u001b[0m: operands could not be broadcast together with shapes (2,3) (2,2) (2,3) "
     ]
    }
   ],
   "source": [
    "np.add(arr1, [[8,9],[1,2]], out=arr1)"
   ]
  },
  {
   "cell_type": "code",
   "execution_count": null,
   "metadata": {},
   "outputs": [],
   "source": []
  },
  {
   "cell_type": "code",
   "execution_count": null,
   "metadata": {},
   "outputs": [],
   "source": []
  },
  {
   "cell_type": "code",
   "execution_count": 13,
   "metadata": {},
   "outputs": [
    {
     "name": "stdout",
     "output_type": "stream",
     "text": [
      "\n",
      " [ 9 11 13]\n"
     ]
    }
   ],
   "source": [
    "np.add(arr1, [[8,9,10]], out=arr1)\n",
    "print('\\n',arr1)"
   ]
  },
  {
   "cell_type": "code",
   "execution_count": null,
   "metadata": {},
   "outputs": [],
   "source": []
  },
  {
   "cell_type": "code",
   "execution_count": null,
   "metadata": {},
   "outputs": [],
   "source": []
  },
  {
   "cell_type": "code",
   "execution_count": 16,
   "metadata": {},
   "outputs": [
    {
     "name": "stdout",
     "output_type": "stream",
     "text": [
      "\n",
      " [1 2 3]\n",
      "\n",
      " [1 4 9]\n"
     ]
    }
   ],
   "source": [
    "\n",
    "np.subtract(arr1, [8,9,10], out=arr1)\n",
    "print('\\n',arr1)\n",
    "\n",
    "np.multiply(arr1, [1,2,3], out=arr1)\n",
    "print('\\n',arr1)"
   ]
  },
  {
   "cell_type": "markdown",
   "metadata": {},
   "source": [
    "### element-wise exponentiation"
   ]
  },
  {
   "cell_type": "code",
   "execution_count": 24,
   "metadata": {},
   "outputs": [
    {
     "name": "stdout",
     "output_type": "stream",
     "text": [
      "[[2.34991217 1.16009407 1.14864157 2.48046088 2.39496691]\n",
      " [1.19696062 2.38079423 1.73694409 2.01040197 1.58033324]\n",
      " [2.6607349  1.64421502 1.68047622 1.24740309 1.0733609 ]\n",
      " [1.40500766 2.28097267 1.17356084 1.48893658 2.23148276]\n",
      " [2.61051234 2.45072946 2.61549329 1.32341098 1.1229884 ]]\n"
     ]
    }
   ],
   "source": [
    "print(np.exp(arr))"
   ]
  },
  {
   "cell_type": "markdown",
   "metadata": {},
   "source": [
    "### element-wise logorithm"
   ]
  },
  {
   "cell_type": "code",
   "execution_count": 25,
   "metadata": {},
   "outputs": [
    {
     "name": "stdout",
     "output_type": "stream",
     "text": [
      "[[-0.15738162 -1.90716292 -1.97630748 -0.09602161 -0.13539666]\n",
      " [-1.71599065 -0.14221569 -0.59397664 -0.35905679 -0.78168175]\n",
      " [-0.02162988 -0.69863606 -0.65570263 -1.50930365 -2.64797038]\n",
      " [-1.07868392 -0.19285448 -1.8323154  -0.92114711 -0.21981625]\n",
      " [-0.0412945  -0.10938447 -0.03930989 -1.27220711 -2.15422241]]\n"
     ]
    }
   ],
   "source": [
    "# natural log\n",
    "print(np.log(arr))      "
   ]
  },
  {
   "cell_type": "code",
   "execution_count": 26,
   "metadata": {},
   "outputs": [
    {
     "name": "stdout",
     "output_type": "stream",
     "text": [
      "[[-0.22705368 -2.75145449 -2.851209   -0.1385299  -0.19533609]\n",
      " [-2.47565119 -0.20517386 -0.85692716 -0.51800946 -1.12772839]\n",
      " [-0.03120533 -1.00791878 -0.94597893 -2.1774649  -3.82021374]\n",
      " [-1.55621194 -0.2782302  -2.64347234 -1.32893437 -0.31712781]\n",
      " [-0.05957537 -0.15780843 -0.05671218 -1.83540689 -3.10788599]]\n"
     ]
    }
   ],
   "source": [
    "# base 2\n",
    "print(np.log2(arr))     "
   ]
  },
  {
   "cell_type": "code",
   "execution_count": 27,
   "metadata": {},
   "outputs": [
    {
     "name": "stdout",
     "output_type": "stream",
     "text": [
      "[[-0.06834997 -0.82827033 -0.85829943 -0.04170166 -0.05880202]\n",
      " [-0.74524527 -0.06176349 -0.25796078 -0.15593638 -0.33948007]\n",
      " [-0.00939374 -0.30341379 -0.28476803 -0.65548225 -1.14999892]\n",
      " [-0.46846647 -0.08375564 -0.79576447 -0.40004911 -0.09546498]\n",
      " [-0.01793397 -0.04750507 -0.01707207 -0.55251253 -0.93556691]]\n"
     ]
    }
   ],
   "source": [
    "# base 10\n",
    "print(np.log10(arr))    "
   ]
  },
  {
   "cell_type": "markdown",
   "metadata": {},
   "source": [
    "### element-wise square root"
   ]
  },
  {
   "cell_type": "code",
   "execution_count": 28,
   "metadata": {
    "scrolled": true
   },
   "outputs": [
    {
     "name": "stdout",
     "output_type": "stream",
     "text": [
      "[[0.92432567 0.3853584  0.37226335 0.95312349 0.93454236]\n",
      " [0.42401124 0.93136145 0.74305269 0.83566422 0.67648779]\n",
      " [0.98924333 0.70516883 0.72047014 0.47017429 0.26607284]\n",
      " [0.58313185 0.90807597 0.40005322 0.63092167 0.89591645]\n",
      " [0.97956444 0.94677649 0.98053695 0.529351   0.34057797]]\n"
     ]
    }
   ],
   "source": [
    "print(np.sqrt(arr))"
   ]
  },
  {
   "cell_type": "code",
   "execution_count": null,
   "metadata": {},
   "outputs": [],
   "source": []
  },
  {
   "cell_type": "code",
   "execution_count": null,
   "metadata": {},
   "outputs": [],
   "source": []
  },
  {
   "cell_type": "code",
   "execution_count": null,
   "metadata": {},
   "outputs": [],
   "source": []
  },
  {
   "cell_type": "code",
   "execution_count": null,
   "metadata": {},
   "outputs": [],
   "source": []
  },
  {
   "cell_type": "code",
   "execution_count": null,
   "metadata": {},
   "outputs": [],
   "source": [
    "Axis = 0 #rows\n",
    "Axis = 1 #columns"
   ]
  },
  {
   "cell_type": "code",
   "execution_count": null,
   "metadata": {},
   "outputs": [],
   "source": []
  },
  {
   "cell_type": "markdown",
   "metadata": {},
   "source": [
    "### sum along a specified axis"
   ]
  },
  {
   "cell_type": "code",
   "execution_count": null,
   "metadata": {},
   "outputs": [],
   "source": []
  },
  {
   "cell_type": "code",
   "execution_count": 31,
   "metadata": {},
   "outputs": [
    {
     "data": {
      "text/plain": [
       "3.31235509"
      ]
     },
     "execution_count": 31,
     "metadata": {},
     "output_type": "execute_result"
    }
   ],
   "source": [
    "0.85437795+0.17978553+0.97860236+0.34004275+0.9595465"
   ]
  },
  {
   "cell_type": "code",
   "execution_count": null,
   "metadata": {},
   "outputs": [],
   "source": []
  },
  {
   "cell_type": "code",
   "execution_count": 29,
   "metadata": {},
   "outputs": [
    {
     "data": {
      "text/plain": [
       "array([[0.85437795, 0.1485011 , 0.13858   , 0.90844438, 0.87336941],\n",
       "       [0.17978553, 0.86743414, 0.5521273 , 0.69833469, 0.45763573],\n",
       "       [0.97860236, 0.49726308, 0.51907722, 0.22106386, 0.07079475],\n",
       "       [0.34004275, 0.82460196, 0.16004258, 0.39806216, 0.80266628],\n",
       "       [0.9595465 , 0.89638572, 0.96145272, 0.28021248, 0.11599335]])"
      ]
     },
     "execution_count": 29,
     "metadata": {},
     "output_type": "execute_result"
    }
   ],
   "source": [
    "arr"
   ]
  },
  {
   "cell_type": "code",
   "execution_count": 30,
   "metadata": {},
   "outputs": [
    {
     "name": "stdout",
     "output_type": "stream",
     "text": [
      "[3.3123551  3.234186   2.33127981 2.50611757 2.32045953]\n"
     ]
    }
   ],
   "source": [
    "# sum along the row\n",
    "print(np.sum(arr, axis=0))    "
   ]
  },
  {
   "cell_type": "code",
   "execution_count": 32,
   "metadata": {},
   "outputs": [
    {
     "name": "stdout",
     "output_type": "stream",
     "text": [
      "[2.92327285 2.75531739 2.28680127 2.52541573 3.21359077]\n"
     ]
    }
   ],
   "source": [
    "# sum along the column\n",
    "print(np.sum(arr, axis=1))    "
   ]
  },
  {
   "cell_type": "code",
   "execution_count": 33,
   "metadata": {},
   "outputs": [
    {
     "data": {
      "text/plain": [
       "2.92327284"
      ]
     },
     "execution_count": 33,
     "metadata": {},
     "output_type": "execute_result"
    }
   ],
   "source": [
    "0.85437795 +  0.1485011 + 0.13858 + 0.90844438 + 0.87336941"
   ]
  },
  {
   "cell_type": "markdown",
   "metadata": {},
   "source": [
    "### compute the min and max along a specified axis"
   ]
  },
  {
   "cell_type": "code",
   "execution_count": 37,
   "metadata": {},
   "outputs": [
    {
     "data": {
      "text/plain": [
       "array([[0.85437795, 0.1485011 , 0.13858   , 0.90844438, 0.87336941],\n",
       "       [0.17978553, 0.86743414, 0.5521273 , 0.69833469, 0.45763573],\n",
       "       [0.97860236, 0.49726308, 0.51907722, 0.22106386, 0.07079475],\n",
       "       [0.34004275, 0.82460196, 0.16004258, 0.39806216, 0.80266628],\n",
       "       [0.9595465 , 0.89638572, 0.96145272, 0.28021248, 0.11599335]])"
      ]
     },
     "execution_count": 37,
     "metadata": {},
     "output_type": "execute_result"
    }
   ],
   "source": [
    "arr"
   ]
  },
  {
   "cell_type": "code",
   "execution_count": 34,
   "metadata": {},
   "outputs": [
    {
     "name": "stdout",
     "output_type": "stream",
     "text": [
      "[0.17978553 0.1485011  0.13858    0.22106386 0.07079475]\n"
     ]
    }
   ],
   "source": [
    "# calculate min along the row\n",
    "print(np.min(arr, axis=0))"
   ]
  },
  {
   "cell_type": "code",
   "execution_count": 35,
   "metadata": {},
   "outputs": [
    {
     "name": "stdout",
     "output_type": "stream",
     "text": [
      "[0.90844438 0.86743414 0.97860236 0.82460196 0.96145272]\n"
     ]
    }
   ],
   "source": [
    "# calculate max along the column\n",
    "print(np.max(arr, axis=1))    "
   ]
  },
  {
   "cell_type": "code",
   "execution_count": 36,
   "metadata": {},
   "outputs": [
    {
     "name": "stdout",
     "output_type": "stream",
     "text": [
      "0.978602364480033\n",
      "0.07079475371298494\n"
     ]
    }
   ],
   "source": [
    "# if axis not specified, calculate the max/min value of all elements\n",
    "print(np.max(arr))\n",
    "print(np.min(arr))"
   ]
  },
  {
   "cell_type": "markdown",
   "metadata": {},
   "source": [
    "### compute the mean"
   ]
  },
  {
   "cell_type": "code",
   "execution_count": 38,
   "metadata": {},
   "outputs": [
    {
     "name": "stdout",
     "output_type": "stream",
     "text": [
      "0.5481759206937319\n"
     ]
    }
   ],
   "source": [
    "# compute the overall mean\n",
    "print(np.mean(arr))"
   ]
  },
  {
   "cell_type": "code",
   "execution_count": 39,
   "metadata": {},
   "outputs": [
    {
     "name": "stdout",
     "output_type": "stream",
     "text": [
      "[0.66247102 0.6468372  0.46625596 0.50122351 0.46409191]\n"
     ]
    }
   ],
   "source": [
    "# compute the mean along the row\n",
    "print(np.mean(arr, axis=0))   "
   ]
  },
  {
   "cell_type": "code",
   "execution_count": 40,
   "metadata": {},
   "outputs": [
    {
     "name": "stdout",
     "output_type": "stream",
     "text": [
      "[0.58465457 0.55106348 0.45736025 0.50508315 0.64271815]\n"
     ]
    }
   ],
   "source": [
    "# compute the mean along the column\n",
    "print(np.mean(arr, axis=1)) "
   ]
  },
  {
   "cell_type": "markdown",
   "metadata": {},
   "source": [
    "### compute the median"
   ]
  },
  {
   "cell_type": "code",
   "execution_count": 41,
   "metadata": {},
   "outputs": [
    {
     "name": "stdout",
     "output_type": "stream",
     "text": [
      "0.519077216107838\n"
     ]
    }
   ],
   "source": [
    "# compute the overall median\n",
    "print(np.median(arr))"
   ]
  },
  {
   "cell_type": "code",
   "execution_count": 42,
   "metadata": {},
   "outputs": [
    {
     "name": "stdout",
     "output_type": "stream",
     "text": [
      "[0.85437795 0.82460196 0.51907722 0.39806216 0.45763573]\n"
     ]
    }
   ],
   "source": [
    "# compute the median along the row\n",
    "print(np.median(arr, axis=0)) "
   ]
  },
  {
   "cell_type": "code",
   "execution_count": 43,
   "metadata": {},
   "outputs": [
    {
     "name": "stdout",
     "output_type": "stream",
     "text": [
      "[0.85437795 0.5521273  0.49726308 0.39806216 0.89638572]\n"
     ]
    }
   ],
   "source": [
    "# compute the median along the column\n",
    "print(np.median(arr, axis=1))"
   ]
  },
  {
   "cell_type": "markdown",
   "metadata": {},
   "source": [
    "### compute the percentile"
   ]
  },
  {
   "cell_type": "code",
   "execution_count": 71,
   "metadata": {},
   "outputs": [],
   "source": [
    "a = np.random.seed(0)"
   ]
  },
  {
   "cell_type": "code",
   "execution_count": 73,
   "metadata": {},
   "outputs": [
    {
     "name": "stdout",
     "output_type": "stream",
     "text": [
      "[0.79172504 0.52889492 0.56804456 0.92559664 0.07103606 0.0871293\n",
      " 0.0202184  0.83261985 0.77815675 0.87001215] \n",
      "\n"
     ]
    }
   ],
   "source": [
    "arr1 = np.random.rand(10)\n",
    "print(arr1,\"\\n\")"
   ]
  },
  {
   "cell_type": "code",
   "execution_count": null,
   "metadata": {},
   "outputs": [],
   "source": []
  },
  {
   "cell_type": "code",
   "execution_count": 53,
   "metadata": {},
   "outputs": [
    {
     "name": "stdout",
     "output_type": "stream",
     "text": [
      "[0.07228874 0.65712214 0.15674268 0.81494132 0.39953903 0.3184659\n",
      " 0.99736639 0.52511699 0.59521233 0.56355433] \n",
      "\n",
      "[0.11029301 0.59706963 0.91527511 0.54433566]\n"
     ]
    }
   ],
   "source": [
    "arr1 = np.random.rand(10)\n",
    "print(arr1,\"\\n\")\n",
    "# compute 5, 65, and 95 percentiles of the array\n",
    "print(np.percentile(arr1, [5, 67, 95,50]))"
   ]
  },
  {
   "cell_type": "markdown",
   "metadata": {},
   "source": [
    "### compute the standard deviation & variance"
   ]
  },
  {
   "cell_type": "code",
   "execution_count": 74,
   "metadata": {},
   "outputs": [
    {
     "name": "stdout",
     "output_type": "stream",
     "text": [
      "0.31788985737439823\n"
     ]
    }
   ],
   "source": [
    "# compute the overall standard deviation\n",
    "print(np.std(arr))"
   ]
  },
  {
   "cell_type": "code",
   "execution_count": 75,
   "metadata": {},
   "outputs": [
    {
     "name": "stdout",
     "output_type": "stream",
     "text": [
      "[0.33525107 0.28748881 0.30216617 0.26178588 0.33407712]\n"
     ]
    }
   ],
   "source": [
    "# compute the standard deviation along the row\n",
    "print(np.std(arr, axis=0))"
   ]
  },
  {
   "cell_type": "code",
   "execution_count": 76,
   "metadata": {},
   "outputs": [
    {
     "name": "stdout",
     "output_type": "stream",
     "text": [
      "[0.36059927 0.23167063 0.31060052 0.26396697 0.36746933]\n"
     ]
    }
   ],
   "source": [
    "# compute the standard deviation along the column\n",
    "print(np.std(arr, axis=1))"
   ]
  },
  {
   "cell_type": "code",
   "execution_count": 77,
   "metadata": {},
   "outputs": [
    {
     "name": "stdout",
     "output_type": "stream",
     "text": [
      "0.10105396142151525\n"
     ]
    }
   ],
   "source": [
    "# compute the overall variance\n",
    "print(np.var(arr))"
   ]
  },
  {
   "cell_type": "code",
   "execution_count": 78,
   "metadata": {},
   "outputs": [
    {
     "name": "stdout",
     "output_type": "stream",
     "text": [
      "[0.11239328 0.08264981 0.09130439 0.06853184 0.11160752]\n"
     ]
    }
   ],
   "source": [
    "# compute the variance along the row\n",
    "print(np.var(arr, axis=0))"
   ]
  },
  {
   "cell_type": "code",
   "execution_count": 79,
   "metadata": {},
   "outputs": [
    {
     "name": "stdout",
     "output_type": "stream",
     "text": [
      "[0.13003184 0.05367128 0.09647269 0.06967856 0.13503371]\n"
     ]
    }
   ],
   "source": [
    "# compute the variance along the column\n",
    "print(np.var(arr, axis=1))"
   ]
  },
  {
   "cell_type": "markdown",
   "metadata": {},
   "source": [
    "### compute cumulative sum & product"
   ]
  },
  {
   "cell_type": "code",
   "execution_count": 80,
   "metadata": {},
   "outputs": [
    {
     "name": "stdout",
     "output_type": "stream",
     "text": [
      "[[0.85437795 0.1485011  0.13858    0.90844438 0.87336941]\n",
      " [1.03416348 1.01593524 0.6907073  1.60677907 1.33100515]\n",
      " [2.01276585 1.51319832 1.20978452 1.82784293 1.4017999 ]\n",
      " [2.3528086  2.33780028 1.3698271  2.22590509 2.20446618]\n",
      " [3.3123551  3.234186   2.33127981 2.50611757 2.32045953]]\n"
     ]
    }
   ],
   "source": [
    "# calculate the cumulative sums along the row\n",
    "print(np.cumsum(arr, axis=0))    "
   ]
  },
  {
   "cell_type": "code",
   "execution_count": 81,
   "metadata": {},
   "outputs": [
    {
     "name": "stdout",
     "output_type": "stream",
     "text": [
      "[[0.85437795 1.00287905 1.14145905 2.04990344 2.92327285]\n",
      " [0.17978553 1.04721967 1.59934697 2.29768166 2.75531739]\n",
      " [0.97860236 1.47586544 1.99494266 2.21600652 2.28680127]\n",
      " [0.34004275 1.16464472 1.32468729 1.72274945 2.52541573]\n",
      " [0.9595465  1.85593222 2.81738494 3.09759742 3.21359077]]\n"
     ]
    }
   ],
   "source": [
    "# calculate the cumulative sums along the column\n",
    "print(np.cumsum(arr, axis=1))    "
   ]
  },
  {
   "cell_type": "code",
   "execution_count": 83,
   "metadata": {},
   "outputs": [
    {
     "name": "stdout",
     "output_type": "stream",
     "text": [
      "[[0.85437795 0.1485011  0.13858    0.90844438 0.87336941]\n",
      " [0.15360479 0.12881492 0.0765138  0.63439823 0.39968505]\n",
      " [0.15031801 0.06405491 0.03971657 0.14024252 0.0282956 ]\n",
      " [0.05111455 0.0528198  0.00635634 0.05582524 0.02271193]\n",
      " [0.04904679 0.04734691 0.00611132 0.01564293 0.00263443]]\n"
     ]
    }
   ],
   "source": [
    "# calculate the cumulative product along the row\n",
    "print(np.cumprod(arr, axis=0))   "
   ]
  },
  {
   "cell_type": "code",
   "execution_count": 84,
   "metadata": {},
   "outputs": [
    {
     "name": "stdout",
     "output_type": "stream",
     "text": [
      "[[0.85437795 0.12687606 0.01758249 0.01597271 0.01395008]\n",
      " [0.17978553 0.15595211 0.08610542 0.0601304  0.02751782]\n",
      " [0.97860236 0.48662282 0.25259482 0.05583959 0.00395315]\n",
      " [0.34004275 0.28039992 0.04487593 0.01786341 0.01433836]\n",
      " [0.9595465  0.86012378 0.82696835 0.23172685 0.02687877]]\n"
     ]
    }
   ],
   "source": [
    "# calculate the cumulative product along the column\n",
    "print(np.cumprod(arr, axis=1))  "
   ]
  },
  {
   "cell_type": "code",
   "execution_count": null,
   "metadata": {},
   "outputs": [],
   "source": []
  },
  {
   "cell_type": "code",
   "execution_count": null,
   "metadata": {},
   "outputs": [],
   "source": []
  }
 ],
 "metadata": {
  "kernelspec": {
   "display_name": "Python 3 (ipykernel)",
   "language": "python",
   "name": "python3"
  },
  "language_info": {
   "codemirror_mode": {
    "name": "ipython",
    "version": 3
   },
   "file_extension": ".py",
   "mimetype": "text/x-python",
   "name": "python",
   "nbconvert_exporter": "python",
   "pygments_lexer": "ipython3",
   "version": "3.9.7"
  }
 },
 "nbformat": 4,
 "nbformat_minor": 2
}
