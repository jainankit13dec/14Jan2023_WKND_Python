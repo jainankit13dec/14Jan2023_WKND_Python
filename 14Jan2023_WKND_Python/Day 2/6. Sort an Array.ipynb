{
 "cells": [
  {
   "cell_type": "code",
   "execution_count": 1,
   "metadata": {},
   "outputs": [],
   "source": [
    "import numpy as np"
   ]
  },
  {
   "cell_type": "code",
   "execution_count": 2,
   "metadata": {},
   "outputs": [
    {
     "data": {
      "text/plain": [
       "array([[0.52956438, 0.23060221, 0.12726479, 0.57680471, 0.54369452],\n",
       "       [0.35667434, 0.92517951, 0.8998306 , 0.7546117 , 0.64739461],\n",
       "       [0.76344128, 0.04653736, 0.80889055, 0.35263131, 0.61589261],\n",
       "       [0.50471896, 0.47907206, 0.70506564, 0.83199103, 0.64575149],\n",
       "       [0.82359576, 0.47383837, 0.39582774, 0.31382977, 0.85757724]])"
      ]
     },
     "execution_count": 2,
     "metadata": {},
     "output_type": "execute_result"
    }
   ],
   "source": [
    "arr = np.random.rand(5,5)\n",
    "arr"
   ]
  },
  {
   "cell_type": "markdown",
   "metadata": {},
   "source": [
    "### sort an array along a specified axis"
   ]
  },
  {
   "cell_type": "code",
   "execution_count": 3,
   "metadata": {},
   "outputs": [
    {
     "name": "stdout",
     "output_type": "stream",
     "text": [
      "[[0.35667434 0.04653736 0.12726479 0.31382977 0.54369452]\n",
      " [0.50471896 0.23060221 0.39582774 0.35263131 0.61589261]\n",
      " [0.52956438 0.47383837 0.70506564 0.57680471 0.64575149]\n",
      " [0.76344128 0.47907206 0.80889055 0.7546117  0.64739461]\n",
      " [0.82359576 0.92517951 0.8998306  0.83199103 0.85757724]]\n"
     ]
    }
   ],
   "source": [
    "# sort along the row in place\n",
    "arr.sort(axis=0)\n",
    "print(arr)"
   ]
  },
  {
   "cell_type": "code",
   "execution_count": 4,
   "metadata": {},
   "outputs": [
    {
     "name": "stdout",
     "output_type": "stream",
     "text": [
      "[[0.04653736 0.12726479 0.31382977 0.35667434 0.54369452]\n",
      " [0.23060221 0.35263131 0.39582774 0.50471896 0.61589261]\n",
      " [0.47383837 0.52956438 0.57680471 0.64575149 0.70506564]\n",
      " [0.47907206 0.64739461 0.7546117  0.76344128 0.80889055]\n",
      " [0.82359576 0.83199103 0.85757724 0.8998306  0.92517951]]\n"
     ]
    }
   ],
   "source": [
    "# sort along the column in place\n",
    "arr.sort(axis=1)    \n",
    "print(arr)"
   ]
  },
  {
   "cell_type": "code",
   "execution_count": null,
   "metadata": {},
   "outputs": [],
   "source": []
  }
 ],
 "metadata": {
  "kernelspec": {
   "display_name": "Python 3 (ipykernel)",
   "language": "python",
   "name": "python3"
  },
  "language_info": {
   "codemirror_mode": {
    "name": "ipython",
    "version": 3
   },
   "file_extension": ".py",
   "mimetype": "text/x-python",
   "name": "python",
   "nbconvert_exporter": "python",
   "pygments_lexer": "ipython3",
   "version": "3.9.7"
  }
 },
 "nbformat": 4,
 "nbformat_minor": 2
}
