{
 "cells": [
  {
   "cell_type": "code",
   "execution_count": 1,
   "id": "81726dfa",
   "metadata": {},
   "outputs": [],
   "source": [
    "import pandas as pd,numpy as np"
   ]
  },
  {
   "cell_type": "code",
   "execution_count": 2,
   "id": "aa667921",
   "metadata": {},
   "outputs": [],
   "source": [
    "# Step 1:\n",
    "df = pd.read_csv(\"titanic.csv\")"
   ]
  },
  {
   "cell_type": "code",
   "execution_count": 3,
   "id": "338394e4",
   "metadata": {},
   "outputs": [
    {
     "data": {
      "text/html": [
       "<div>\n",
       "<style scoped>\n",
       "    .dataframe tbody tr th:only-of-type {\n",
       "        vertical-align: middle;\n",
       "    }\n",
       "\n",
       "    .dataframe tbody tr th {\n",
       "        vertical-align: top;\n",
       "    }\n",
       "\n",
       "    .dataframe thead th {\n",
       "        text-align: right;\n",
       "    }\n",
       "</style>\n",
       "<table border=\"1\" class=\"dataframe\">\n",
       "  <thead>\n",
       "    <tr style=\"text-align: right;\">\n",
       "      <th></th>\n",
       "      <th>pclass</th>\n",
       "      <th>survived</th>\n",
       "      <th>name</th>\n",
       "      <th>sex</th>\n",
       "      <th>age</th>\n",
       "      <th>sibsp</th>\n",
       "      <th>parch</th>\n",
       "      <th>ticket</th>\n",
       "      <th>fare</th>\n",
       "      <th>cabin</th>\n",
       "      <th>embarked</th>\n",
       "      <th>boat</th>\n",
       "      <th>body</th>\n",
       "      <th>home.dest</th>\n",
       "    </tr>\n",
       "  </thead>\n",
       "  <tbody>\n",
       "    <tr>\n",
       "      <th>0</th>\n",
       "      <td>1.0</td>\n",
       "      <td>1.0</td>\n",
       "      <td>Allen, Miss. Elisabeth Walton</td>\n",
       "      <td>female</td>\n",
       "      <td>29.0000</td>\n",
       "      <td>0.0</td>\n",
       "      <td>0.0</td>\n",
       "      <td>24160</td>\n",
       "      <td>211.3375</td>\n",
       "      <td>B5</td>\n",
       "      <td>S</td>\n",
       "      <td>2</td>\n",
       "      <td>NaN</td>\n",
       "      <td>St Louis, MO</td>\n",
       "    </tr>\n",
       "    <tr>\n",
       "      <th>1</th>\n",
       "      <td>1.0</td>\n",
       "      <td>1.0</td>\n",
       "      <td>Allison, Master. Hudson Trevor</td>\n",
       "      <td>male</td>\n",
       "      <td>0.9167</td>\n",
       "      <td>1.0</td>\n",
       "      <td>2.0</td>\n",
       "      <td>113781</td>\n",
       "      <td>151.5500</td>\n",
       "      <td>C22 C26</td>\n",
       "      <td>S</td>\n",
       "      <td>11</td>\n",
       "      <td>NaN</td>\n",
       "      <td>Montreal, PQ / Chesterville, ON</td>\n",
       "    </tr>\n",
       "  </tbody>\n",
       "</table>\n",
       "</div>"
      ],
      "text/plain": [
       "   pclass  survived                            name     sex      age  sibsp  \\\n",
       "0     1.0       1.0   Allen, Miss. Elisabeth Walton  female  29.0000    0.0   \n",
       "1     1.0       1.0  Allison, Master. Hudson Trevor    male   0.9167    1.0   \n",
       "\n",
       "   parch  ticket      fare    cabin embarked boat  body  \\\n",
       "0    0.0   24160  211.3375       B5        S    2   NaN   \n",
       "1    2.0  113781  151.5500  C22 C26        S   11   NaN   \n",
       "\n",
       "                         home.dest  \n",
       "0                     St Louis, MO  \n",
       "1  Montreal, PQ / Chesterville, ON  "
      ]
     },
     "execution_count": 3,
     "metadata": {},
     "output_type": "execute_result"
    }
   ],
   "source": [
    "df.head(2)"
   ]
  },
  {
   "cell_type": "code",
   "execution_count": 4,
   "id": "67813c27",
   "metadata": {},
   "outputs": [
    {
     "data": {
      "text/html": [
       "<div>\n",
       "<style scoped>\n",
       "    .dataframe tbody tr th:only-of-type {\n",
       "        vertical-align: middle;\n",
       "    }\n",
       "\n",
       "    .dataframe tbody tr th {\n",
       "        vertical-align: top;\n",
       "    }\n",
       "\n",
       "    .dataframe thead th {\n",
       "        text-align: right;\n",
       "    }\n",
       "</style>\n",
       "<table border=\"1\" class=\"dataframe\">\n",
       "  <thead>\n",
       "    <tr style=\"text-align: right;\">\n",
       "      <th></th>\n",
       "      <th>pclass</th>\n",
       "      <th>survived</th>\n",
       "      <th>name</th>\n",
       "      <th>sex</th>\n",
       "      <th>age</th>\n",
       "      <th>sibsp</th>\n",
       "      <th>parch</th>\n",
       "      <th>ticket</th>\n",
       "      <th>fare</th>\n",
       "      <th>cabin</th>\n",
       "      <th>embarked</th>\n",
       "      <th>boat</th>\n",
       "      <th>body</th>\n",
       "      <th>home.dest</th>\n",
       "    </tr>\n",
       "  </thead>\n",
       "  <tbody>\n",
       "    <tr>\n",
       "      <th>1308</th>\n",
       "      <td>3.0</td>\n",
       "      <td>0.0</td>\n",
       "      <td>Zimmerman, Mr. Leo</td>\n",
       "      <td>male</td>\n",
       "      <td>29.0</td>\n",
       "      <td>0.0</td>\n",
       "      <td>0.0</td>\n",
       "      <td>315082</td>\n",
       "      <td>7.875</td>\n",
       "      <td>NaN</td>\n",
       "      <td>S</td>\n",
       "      <td>NaN</td>\n",
       "      <td>NaN</td>\n",
       "      <td>NaN</td>\n",
       "    </tr>\n",
       "    <tr>\n",
       "      <th>1309</th>\n",
       "      <td>NaN</td>\n",
       "      <td>NaN</td>\n",
       "      <td>NaN</td>\n",
       "      <td>NaN</td>\n",
       "      <td>NaN</td>\n",
       "      <td>NaN</td>\n",
       "      <td>NaN</td>\n",
       "      <td>NaN</td>\n",
       "      <td>NaN</td>\n",
       "      <td>NaN</td>\n",
       "      <td>NaN</td>\n",
       "      <td>NaN</td>\n",
       "      <td>NaN</td>\n",
       "      <td>NaN</td>\n",
       "    </tr>\n",
       "  </tbody>\n",
       "</table>\n",
       "</div>"
      ],
      "text/plain": [
       "      pclass  survived                name   sex   age  sibsp  parch  ticket  \\\n",
       "1308     3.0       0.0  Zimmerman, Mr. Leo  male  29.0    0.0    0.0  315082   \n",
       "1309     NaN       NaN                 NaN   NaN   NaN    NaN    NaN     NaN   \n",
       "\n",
       "       fare cabin embarked boat  body home.dest  \n",
       "1308  7.875   NaN        S  NaN   NaN       NaN  \n",
       "1309    NaN   NaN      NaN  NaN   NaN       NaN  "
      ]
     },
     "execution_count": 4,
     "metadata": {},
     "output_type": "execute_result"
    }
   ],
   "source": [
    "df.tail(2)"
   ]
  },
  {
   "cell_type": "code",
   "execution_count": 5,
   "id": "bcd295cb",
   "metadata": {},
   "outputs": [
    {
     "data": {
      "text/plain": [
       "(1310, 14)"
      ]
     },
     "execution_count": 5,
     "metadata": {},
     "output_type": "execute_result"
    }
   ],
   "source": [
    "df.shape"
   ]
  },
  {
   "cell_type": "code",
   "execution_count": null,
   "id": "9b4479c7",
   "metadata": {},
   "outputs": [],
   "source": []
  },
  {
   "cell_type": "code",
   "execution_count": 6,
   "id": "fdd3b6b2",
   "metadata": {},
   "outputs": [],
   "source": [
    "# Step2:"
   ]
  },
  {
   "cell_type": "code",
   "execution_count": 7,
   "id": "8805b932",
   "metadata": {},
   "outputs": [
    {
     "data": {
      "text/html": [
       "<div>\n",
       "<style scoped>\n",
       "    .dataframe tbody tr th:only-of-type {\n",
       "        vertical-align: middle;\n",
       "    }\n",
       "\n",
       "    .dataframe tbody tr th {\n",
       "        vertical-align: top;\n",
       "    }\n",
       "\n",
       "    .dataframe thead th {\n",
       "        text-align: right;\n",
       "    }\n",
       "</style>\n",
       "<table border=\"1\" class=\"dataframe\">\n",
       "  <thead>\n",
       "    <tr style=\"text-align: right;\">\n",
       "      <th></th>\n",
       "      <th>pclass</th>\n",
       "      <th>survived</th>\n",
       "      <th>age</th>\n",
       "      <th>sibsp</th>\n",
       "      <th>parch</th>\n",
       "      <th>fare</th>\n",
       "      <th>body</th>\n",
       "    </tr>\n",
       "  </thead>\n",
       "  <tbody>\n",
       "    <tr>\n",
       "      <th>count</th>\n",
       "      <td>1309.000000</td>\n",
       "      <td>1309.000000</td>\n",
       "      <td>1046.000000</td>\n",
       "      <td>1309.000000</td>\n",
       "      <td>1309.000000</td>\n",
       "      <td>1308.000000</td>\n",
       "      <td>121.000000</td>\n",
       "    </tr>\n",
       "    <tr>\n",
       "      <th>mean</th>\n",
       "      <td>2.294882</td>\n",
       "      <td>0.381971</td>\n",
       "      <td>29.881135</td>\n",
       "      <td>0.498854</td>\n",
       "      <td>0.385027</td>\n",
       "      <td>33.295479</td>\n",
       "      <td>160.809917</td>\n",
       "    </tr>\n",
       "    <tr>\n",
       "      <th>std</th>\n",
       "      <td>0.837836</td>\n",
       "      <td>0.486055</td>\n",
       "      <td>14.413500</td>\n",
       "      <td>1.041658</td>\n",
       "      <td>0.865560</td>\n",
       "      <td>51.758668</td>\n",
       "      <td>97.696922</td>\n",
       "    </tr>\n",
       "    <tr>\n",
       "      <th>min</th>\n",
       "      <td>1.000000</td>\n",
       "      <td>0.000000</td>\n",
       "      <td>0.166700</td>\n",
       "      <td>0.000000</td>\n",
       "      <td>0.000000</td>\n",
       "      <td>0.000000</td>\n",
       "      <td>1.000000</td>\n",
       "    </tr>\n",
       "    <tr>\n",
       "      <th>25%</th>\n",
       "      <td>2.000000</td>\n",
       "      <td>0.000000</td>\n",
       "      <td>21.000000</td>\n",
       "      <td>0.000000</td>\n",
       "      <td>0.000000</td>\n",
       "      <td>7.895800</td>\n",
       "      <td>72.000000</td>\n",
       "    </tr>\n",
       "    <tr>\n",
       "      <th>50%</th>\n",
       "      <td>3.000000</td>\n",
       "      <td>0.000000</td>\n",
       "      <td>28.000000</td>\n",
       "      <td>0.000000</td>\n",
       "      <td>0.000000</td>\n",
       "      <td>14.454200</td>\n",
       "      <td>155.000000</td>\n",
       "    </tr>\n",
       "    <tr>\n",
       "      <th>75%</th>\n",
       "      <td>3.000000</td>\n",
       "      <td>1.000000</td>\n",
       "      <td>39.000000</td>\n",
       "      <td>1.000000</td>\n",
       "      <td>0.000000</td>\n",
       "      <td>31.275000</td>\n",
       "      <td>256.000000</td>\n",
       "    </tr>\n",
       "    <tr>\n",
       "      <th>max</th>\n",
       "      <td>3.000000</td>\n",
       "      <td>1.000000</td>\n",
       "      <td>80.000000</td>\n",
       "      <td>8.000000</td>\n",
       "      <td>9.000000</td>\n",
       "      <td>512.329200</td>\n",
       "      <td>328.000000</td>\n",
       "    </tr>\n",
       "  </tbody>\n",
       "</table>\n",
       "</div>"
      ],
      "text/plain": [
       "            pclass     survived          age        sibsp        parch  \\\n",
       "count  1309.000000  1309.000000  1046.000000  1309.000000  1309.000000   \n",
       "mean      2.294882     0.381971    29.881135     0.498854     0.385027   \n",
       "std       0.837836     0.486055    14.413500     1.041658     0.865560   \n",
       "min       1.000000     0.000000     0.166700     0.000000     0.000000   \n",
       "25%       2.000000     0.000000    21.000000     0.000000     0.000000   \n",
       "50%       3.000000     0.000000    28.000000     0.000000     0.000000   \n",
       "75%       3.000000     1.000000    39.000000     1.000000     0.000000   \n",
       "max       3.000000     1.000000    80.000000     8.000000     9.000000   \n",
       "\n",
       "              fare        body  \n",
       "count  1308.000000  121.000000  \n",
       "mean     33.295479  160.809917  \n",
       "std      51.758668   97.696922  \n",
       "min       0.000000    1.000000  \n",
       "25%       7.895800   72.000000  \n",
       "50%      14.454200  155.000000  \n",
       "75%      31.275000  256.000000  \n",
       "max     512.329200  328.000000  "
      ]
     },
     "execution_count": 7,
     "metadata": {},
     "output_type": "execute_result"
    }
   ],
   "source": [
    "df.describe()"
   ]
  },
  {
   "cell_type": "code",
   "execution_count": 8,
   "id": "3672888d",
   "metadata": {},
   "outputs": [
    {
     "name": "stdout",
     "output_type": "stream",
     "text": [
      "<class 'pandas.core.frame.DataFrame'>\n",
      "RangeIndex: 1310 entries, 0 to 1309\n",
      "Data columns (total 14 columns):\n",
      " #   Column     Non-Null Count  Dtype  \n",
      "---  ------     --------------  -----  \n",
      " 0   pclass     1309 non-null   float64\n",
      " 1   survived   1309 non-null   float64\n",
      " 2   name       1309 non-null   object \n",
      " 3   sex        1309 non-null   object \n",
      " 4   age        1046 non-null   float64\n",
      " 5   sibsp      1309 non-null   float64\n",
      " 6   parch      1309 non-null   float64\n",
      " 7   ticket     1309 non-null   object \n",
      " 8   fare       1308 non-null   float64\n",
      " 9   cabin      295 non-null    object \n",
      " 10  embarked   1307 non-null   object \n",
      " 11  boat       486 non-null    object \n",
      " 12  body       121 non-null    float64\n",
      " 13  home.dest  745 non-null    object \n",
      "dtypes: float64(7), object(7)\n",
      "memory usage: 143.4+ KB\n"
     ]
    }
   ],
   "source": [
    "df.info()"
   ]
  },
  {
   "cell_type": "code",
   "execution_count": 9,
   "id": "bbc52c04",
   "metadata": {},
   "outputs": [
    {
     "data": {
      "text/plain": [
       "pclass       float64\n",
       "survived     float64\n",
       "name          object\n",
       "sex           object\n",
       "age          float64\n",
       "sibsp        float64\n",
       "parch        float64\n",
       "ticket        object\n",
       "fare         float64\n",
       "cabin         object\n",
       "embarked      object\n",
       "boat          object\n",
       "body         float64\n",
       "home.dest     object\n",
       "dtype: object"
      ]
     },
     "execution_count": 9,
     "metadata": {},
     "output_type": "execute_result"
    }
   ],
   "source": [
    "df.dtypes"
   ]
  },
  {
   "cell_type": "code",
   "execution_count": null,
   "id": "816fb339",
   "metadata": {},
   "outputs": [],
   "source": []
  },
  {
   "cell_type": "code",
   "execution_count": 10,
   "id": "456f26c0",
   "metadata": {},
   "outputs": [],
   "source": [
    "# Step3: "
   ]
  },
  {
   "cell_type": "code",
   "execution_count": 11,
   "id": "61252287",
   "metadata": {},
   "outputs": [
    {
     "data": {
      "text/plain": [
       "pclass        0.076336\n",
       "survived      0.076336\n",
       "name          0.076336\n",
       "sex           0.076336\n",
       "age          20.152672\n",
       "sibsp         0.076336\n",
       "parch         0.076336\n",
       "ticket        0.076336\n",
       "fare          0.152672\n",
       "cabin        77.480916\n",
       "embarked      0.229008\n",
       "boat         62.900763\n",
       "body         90.763359\n",
       "home.dest    43.129771\n",
       "dtype: float64"
      ]
     },
     "execution_count": 11,
     "metadata": {},
     "output_type": "execute_result"
    }
   ],
   "source": [
    "df.isnull().sum()*100/len(df)"
   ]
  },
  {
   "cell_type": "code",
   "execution_count": 12,
   "id": "7b76d8a6",
   "metadata": {},
   "outputs": [],
   "source": [
    "df.drop(['cabin','boat','body','home.dest'],axis = 1, inplace = True)"
   ]
  },
  {
   "cell_type": "code",
   "execution_count": 13,
   "id": "a2495669",
   "metadata": {},
   "outputs": [
    {
     "data": {
      "text/plain": [
       "pclass       0.076336\n",
       "survived     0.076336\n",
       "name         0.076336\n",
       "sex          0.076336\n",
       "age         20.152672\n",
       "sibsp        0.076336\n",
       "parch        0.076336\n",
       "ticket       0.076336\n",
       "fare         0.152672\n",
       "embarked     0.229008\n",
       "dtype: float64"
      ]
     },
     "execution_count": 13,
     "metadata": {},
     "output_type": "execute_result"
    }
   ],
   "source": [
    "df.isnull().sum()*100/len(df)"
   ]
  },
  {
   "cell_type": "code",
   "execution_count": 14,
   "id": "05fac997",
   "metadata": {},
   "outputs": [
    {
     "data": {
      "text/plain": [
       "S    914\n",
       "C    270\n",
       "Q    123\n",
       "Name: embarked, dtype: int64"
      ]
     },
     "execution_count": 14,
     "metadata": {},
     "output_type": "execute_result"
    }
   ],
   "source": [
    "df['embarked'].value_counts()"
   ]
  },
  {
   "cell_type": "code",
   "execution_count": 15,
   "id": "ebc18664",
   "metadata": {},
   "outputs": [],
   "source": [
    "df['embarked'].fillna(df['embarked'].mode(),inplace = True)"
   ]
  },
  {
   "cell_type": "code",
   "execution_count": 16,
   "id": "bb447220",
   "metadata": {},
   "outputs": [
    {
     "data": {
      "text/plain": [
       "pclass       0.076336\n",
       "survived     0.076336\n",
       "name         0.076336\n",
       "sex          0.076336\n",
       "age         20.152672\n",
       "sibsp        0.076336\n",
       "parch        0.076336\n",
       "ticket       0.076336\n",
       "fare         0.152672\n",
       "embarked     0.229008\n",
       "dtype: float64"
      ]
     },
     "execution_count": 16,
     "metadata": {},
     "output_type": "execute_result"
    }
   ],
   "source": [
    "df.isnull().sum()*100/len(df)"
   ]
  },
  {
   "cell_type": "code",
   "execution_count": 17,
   "id": "9947f767",
   "metadata": {},
   "outputs": [],
   "source": [
    "df['age'].fillna(df['age'].median(),inplace = True)"
   ]
  },
  {
   "cell_type": "code",
   "execution_count": 18,
   "id": "35c5dd13",
   "metadata": {},
   "outputs": [
    {
     "data": {
      "text/plain": [
       "pclass      0.076336\n",
       "survived    0.076336\n",
       "name        0.076336\n",
       "sex         0.076336\n",
       "age         0.000000\n",
       "sibsp       0.076336\n",
       "parch       0.076336\n",
       "ticket      0.076336\n",
       "fare        0.152672\n",
       "embarked    0.229008\n",
       "dtype: float64"
      ]
     },
     "execution_count": 18,
     "metadata": {},
     "output_type": "execute_result"
    }
   ],
   "source": [
    "df.isnull().sum()*100/len(df)"
   ]
  },
  {
   "cell_type": "code",
   "execution_count": 19,
   "id": "8c4e2c25",
   "metadata": {},
   "outputs": [],
   "source": [
    "df.dropna(inplace=True)"
   ]
  },
  {
   "cell_type": "code",
   "execution_count": 20,
   "id": "1870a6d5",
   "metadata": {},
   "outputs": [
    {
     "data": {
      "text/plain": [
       "pclass      0.0\n",
       "survived    0.0\n",
       "name        0.0\n",
       "sex         0.0\n",
       "age         0.0\n",
       "sibsp       0.0\n",
       "parch       0.0\n",
       "ticket      0.0\n",
       "fare        0.0\n",
       "embarked    0.0\n",
       "dtype: float64"
      ]
     },
     "execution_count": 20,
     "metadata": {},
     "output_type": "execute_result"
    }
   ],
   "source": [
    "df.isnull().sum()*100/len(df)"
   ]
  },
  {
   "cell_type": "code",
   "execution_count": 21,
   "id": "34a39606",
   "metadata": {},
   "outputs": [
    {
     "data": {
      "text/plain": [
       "(1306, 10)"
      ]
     },
     "execution_count": 21,
     "metadata": {},
     "output_type": "execute_result"
    }
   ],
   "source": [
    "df.shape"
   ]
  },
  {
   "cell_type": "code",
   "execution_count": 22,
   "id": "e5dbdb33",
   "metadata": {},
   "outputs": [],
   "source": [
    "del df['name']"
   ]
  },
  {
   "cell_type": "code",
   "execution_count": 23,
   "id": "bdea8a5e",
   "metadata": {},
   "outputs": [
    {
     "data": {
      "text/html": [
       "<div>\n",
       "<style scoped>\n",
       "    .dataframe tbody tr th:only-of-type {\n",
       "        vertical-align: middle;\n",
       "    }\n",
       "\n",
       "    .dataframe tbody tr th {\n",
       "        vertical-align: top;\n",
       "    }\n",
       "\n",
       "    .dataframe thead th {\n",
       "        text-align: right;\n",
       "    }\n",
       "</style>\n",
       "<table border=\"1\" class=\"dataframe\">\n",
       "  <thead>\n",
       "    <tr style=\"text-align: right;\">\n",
       "      <th></th>\n",
       "      <th>pclass</th>\n",
       "      <th>survived</th>\n",
       "      <th>sex</th>\n",
       "      <th>age</th>\n",
       "      <th>sibsp</th>\n",
       "      <th>parch</th>\n",
       "      <th>ticket</th>\n",
       "      <th>fare</th>\n",
       "      <th>embarked</th>\n",
       "    </tr>\n",
       "  </thead>\n",
       "  <tbody>\n",
       "    <tr>\n",
       "      <th>0</th>\n",
       "      <td>1.0</td>\n",
       "      <td>1.0</td>\n",
       "      <td>female</td>\n",
       "      <td>29.0000</td>\n",
       "      <td>0.0</td>\n",
       "      <td>0.0</td>\n",
       "      <td>24160</td>\n",
       "      <td>211.3375</td>\n",
       "      <td>S</td>\n",
       "    </tr>\n",
       "    <tr>\n",
       "      <th>1</th>\n",
       "      <td>1.0</td>\n",
       "      <td>1.0</td>\n",
       "      <td>male</td>\n",
       "      <td>0.9167</td>\n",
       "      <td>1.0</td>\n",
       "      <td>2.0</td>\n",
       "      <td>113781</td>\n",
       "      <td>151.5500</td>\n",
       "      <td>S</td>\n",
       "    </tr>\n",
       "    <tr>\n",
       "      <th>2</th>\n",
       "      <td>1.0</td>\n",
       "      <td>0.0</td>\n",
       "      <td>female</td>\n",
       "      <td>2.0000</td>\n",
       "      <td>1.0</td>\n",
       "      <td>2.0</td>\n",
       "      <td>113781</td>\n",
       "      <td>151.5500</td>\n",
       "      <td>S</td>\n",
       "    </tr>\n",
       "    <tr>\n",
       "      <th>3</th>\n",
       "      <td>1.0</td>\n",
       "      <td>0.0</td>\n",
       "      <td>male</td>\n",
       "      <td>30.0000</td>\n",
       "      <td>1.0</td>\n",
       "      <td>2.0</td>\n",
       "      <td>113781</td>\n",
       "      <td>151.5500</td>\n",
       "      <td>S</td>\n",
       "    </tr>\n",
       "    <tr>\n",
       "      <th>4</th>\n",
       "      <td>1.0</td>\n",
       "      <td>0.0</td>\n",
       "      <td>female</td>\n",
       "      <td>25.0000</td>\n",
       "      <td>1.0</td>\n",
       "      <td>2.0</td>\n",
       "      <td>113781</td>\n",
       "      <td>151.5500</td>\n",
       "      <td>S</td>\n",
       "    </tr>\n",
       "  </tbody>\n",
       "</table>\n",
       "</div>"
      ],
      "text/plain": [
       "   pclass  survived     sex      age  sibsp  parch  ticket      fare embarked\n",
       "0     1.0       1.0  female  29.0000    0.0    0.0   24160  211.3375        S\n",
       "1     1.0       1.0    male   0.9167    1.0    2.0  113781  151.5500        S\n",
       "2     1.0       0.0  female   2.0000    1.0    2.0  113781  151.5500        S\n",
       "3     1.0       0.0    male  30.0000    1.0    2.0  113781  151.5500        S\n",
       "4     1.0       0.0  female  25.0000    1.0    2.0  113781  151.5500        S"
      ]
     },
     "execution_count": 23,
     "metadata": {},
     "output_type": "execute_result"
    }
   ],
   "source": [
    "df.head()"
   ]
  },
  {
   "cell_type": "code",
   "execution_count": 24,
   "id": "f497dc61",
   "metadata": {},
   "outputs": [],
   "source": [
    "from sklearn import preprocessing\n",
    "label_encoder = preprocessing.LabelEncoder()"
   ]
  },
  {
   "cell_type": "code",
   "execution_count": 25,
   "id": "78d7ba1e",
   "metadata": {},
   "outputs": [],
   "source": [
    "df['sex'] = label_encoder.fit_transform(df['sex'])"
   ]
  },
  {
   "cell_type": "code",
   "execution_count": 26,
   "id": "3b6ea457",
   "metadata": {},
   "outputs": [],
   "source": [
    "df['embarked'] = label_encoder.fit_transform(df['embarked'])"
   ]
  },
  {
   "cell_type": "code",
   "execution_count": 27,
   "id": "2741e6be",
   "metadata": {},
   "outputs": [
    {
     "data": {
      "text/html": [
       "<div>\n",
       "<style scoped>\n",
       "    .dataframe tbody tr th:only-of-type {\n",
       "        vertical-align: middle;\n",
       "    }\n",
       "\n",
       "    .dataframe tbody tr th {\n",
       "        vertical-align: top;\n",
       "    }\n",
       "\n",
       "    .dataframe thead th {\n",
       "        text-align: right;\n",
       "    }\n",
       "</style>\n",
       "<table border=\"1\" class=\"dataframe\">\n",
       "  <thead>\n",
       "    <tr style=\"text-align: right;\">\n",
       "      <th></th>\n",
       "      <th>pclass</th>\n",
       "      <th>survived</th>\n",
       "      <th>sex</th>\n",
       "      <th>age</th>\n",
       "      <th>sibsp</th>\n",
       "      <th>parch</th>\n",
       "      <th>ticket</th>\n",
       "      <th>fare</th>\n",
       "      <th>embarked</th>\n",
       "    </tr>\n",
       "  </thead>\n",
       "  <tbody>\n",
       "    <tr>\n",
       "      <th>0</th>\n",
       "      <td>1.0</td>\n",
       "      <td>1.0</td>\n",
       "      <td>0</td>\n",
       "      <td>29.0000</td>\n",
       "      <td>0.0</td>\n",
       "      <td>0.0</td>\n",
       "      <td>24160</td>\n",
       "      <td>211.3375</td>\n",
       "      <td>2</td>\n",
       "    </tr>\n",
       "    <tr>\n",
       "      <th>1</th>\n",
       "      <td>1.0</td>\n",
       "      <td>1.0</td>\n",
       "      <td>1</td>\n",
       "      <td>0.9167</td>\n",
       "      <td>1.0</td>\n",
       "      <td>2.0</td>\n",
       "      <td>113781</td>\n",
       "      <td>151.5500</td>\n",
       "      <td>2</td>\n",
       "    </tr>\n",
       "    <tr>\n",
       "      <th>2</th>\n",
       "      <td>1.0</td>\n",
       "      <td>0.0</td>\n",
       "      <td>0</td>\n",
       "      <td>2.0000</td>\n",
       "      <td>1.0</td>\n",
       "      <td>2.0</td>\n",
       "      <td>113781</td>\n",
       "      <td>151.5500</td>\n",
       "      <td>2</td>\n",
       "    </tr>\n",
       "    <tr>\n",
       "      <th>3</th>\n",
       "      <td>1.0</td>\n",
       "      <td>0.0</td>\n",
       "      <td>1</td>\n",
       "      <td>30.0000</td>\n",
       "      <td>1.0</td>\n",
       "      <td>2.0</td>\n",
       "      <td>113781</td>\n",
       "      <td>151.5500</td>\n",
       "      <td>2</td>\n",
       "    </tr>\n",
       "    <tr>\n",
       "      <th>4</th>\n",
       "      <td>1.0</td>\n",
       "      <td>0.0</td>\n",
       "      <td>0</td>\n",
       "      <td>25.0000</td>\n",
       "      <td>1.0</td>\n",
       "      <td>2.0</td>\n",
       "      <td>113781</td>\n",
       "      <td>151.5500</td>\n",
       "      <td>2</td>\n",
       "    </tr>\n",
       "  </tbody>\n",
       "</table>\n",
       "</div>"
      ],
      "text/plain": [
       "   pclass  survived  sex      age  sibsp  parch  ticket      fare  embarked\n",
       "0     1.0       1.0    0  29.0000    0.0    0.0   24160  211.3375         2\n",
       "1     1.0       1.0    1   0.9167    1.0    2.0  113781  151.5500         2\n",
       "2     1.0       0.0    0   2.0000    1.0    2.0  113781  151.5500         2\n",
       "3     1.0       0.0    1  30.0000    1.0    2.0  113781  151.5500         2\n",
       "4     1.0       0.0    0  25.0000    1.0    2.0  113781  151.5500         2"
      ]
     },
     "execution_count": 27,
     "metadata": {},
     "output_type": "execute_result"
    }
   ],
   "source": [
    "df.head()"
   ]
  },
  {
   "cell_type": "code",
   "execution_count": null,
   "id": "3b0a17b3",
   "metadata": {},
   "outputs": [],
   "source": []
  },
  {
   "cell_type": "code",
   "execution_count": 28,
   "id": "1858cd59",
   "metadata": {},
   "outputs": [
    {
     "data": {
      "text/html": [
       "<div>\n",
       "<style scoped>\n",
       "    .dataframe tbody tr th:only-of-type {\n",
       "        vertical-align: middle;\n",
       "    }\n",
       "\n",
       "    .dataframe tbody tr th {\n",
       "        vertical-align: top;\n",
       "    }\n",
       "\n",
       "    .dataframe thead th {\n",
       "        text-align: right;\n",
       "    }\n",
       "</style>\n",
       "<table border=\"1\" class=\"dataframe\">\n",
       "  <thead>\n",
       "    <tr style=\"text-align: right;\">\n",
       "      <th></th>\n",
       "      <th>pclass</th>\n",
       "      <th>survived</th>\n",
       "      <th>sex</th>\n",
       "      <th>age</th>\n",
       "      <th>sibsp</th>\n",
       "      <th>parch</th>\n",
       "      <th>fare</th>\n",
       "      <th>embarked</th>\n",
       "    </tr>\n",
       "  </thead>\n",
       "  <tbody>\n",
       "    <tr>\n",
       "      <th>pclass</th>\n",
       "      <td>1.000000</td>\n",
       "      <td>0.310064</td>\n",
       "      <td>0.121407</td>\n",
       "      <td>0.378305</td>\n",
       "      <td>0.060149</td>\n",
       "      <td>0.017596</td>\n",
       "      <td>0.557861</td>\n",
       "      <td>0.187027</td>\n",
       "    </tr>\n",
       "    <tr>\n",
       "      <th>survived</th>\n",
       "      <td>0.310064</td>\n",
       "      <td>1.000000</td>\n",
       "      <td>0.527248</td>\n",
       "      <td>0.045756</td>\n",
       "      <td>0.027228</td>\n",
       "      <td>0.083400</td>\n",
       "      <td>0.242960</td>\n",
       "      <td>0.176489</td>\n",
       "    </tr>\n",
       "    <tr>\n",
       "      <th>sex</th>\n",
       "      <td>0.121407</td>\n",
       "      <td>0.527248</td>\n",
       "      <td>1.000000</td>\n",
       "      <td>0.055929</td>\n",
       "      <td>0.110529</td>\n",
       "      <td>0.214179</td>\n",
       "      <td>0.184034</td>\n",
       "      <td>0.099090</td>\n",
       "    </tr>\n",
       "    <tr>\n",
       "      <th>age</th>\n",
       "      <td>0.378305</td>\n",
       "      <td>0.045756</td>\n",
       "      <td>0.055929</td>\n",
       "      <td>1.000000</td>\n",
       "      <td>0.188884</td>\n",
       "      <td>0.124578</td>\n",
       "      <td>0.177627</td>\n",
       "      <td>0.066432</td>\n",
       "    </tr>\n",
       "    <tr>\n",
       "      <th>sibsp</th>\n",
       "      <td>0.060149</td>\n",
       "      <td>0.027228</td>\n",
       "      <td>0.110529</td>\n",
       "      <td>0.188884</td>\n",
       "      <td>1.000000</td>\n",
       "      <td>0.373281</td>\n",
       "      <td>0.161030</td>\n",
       "      <td>0.066299</td>\n",
       "    </tr>\n",
       "    <tr>\n",
       "      <th>parch</th>\n",
       "      <td>0.017596</td>\n",
       "      <td>0.083400</td>\n",
       "      <td>0.214179</td>\n",
       "      <td>0.124578</td>\n",
       "      <td>0.373281</td>\n",
       "      <td>1.000000</td>\n",
       "      <td>0.222327</td>\n",
       "      <td>0.045438</td>\n",
       "    </tr>\n",
       "    <tr>\n",
       "      <th>fare</th>\n",
       "      <td>0.557861</td>\n",
       "      <td>0.242960</td>\n",
       "      <td>0.184034</td>\n",
       "      <td>0.177627</td>\n",
       "      <td>0.161030</td>\n",
       "      <td>0.222327</td>\n",
       "      <td>1.000000</td>\n",
       "      <td>0.239086</td>\n",
       "    </tr>\n",
       "    <tr>\n",
       "      <th>embarked</th>\n",
       "      <td>0.187027</td>\n",
       "      <td>0.176489</td>\n",
       "      <td>0.099090</td>\n",
       "      <td>0.066432</td>\n",
       "      <td>0.066299</td>\n",
       "      <td>0.045438</td>\n",
       "      <td>0.239086</td>\n",
       "      <td>1.000000</td>\n",
       "    </tr>\n",
       "  </tbody>\n",
       "</table>\n",
       "</div>"
      ],
      "text/plain": [
       "            pclass  survived       sex       age     sibsp     parch  \\\n",
       "pclass    1.000000  0.310064  0.121407  0.378305  0.060149  0.017596   \n",
       "survived  0.310064  1.000000  0.527248  0.045756  0.027228  0.083400   \n",
       "sex       0.121407  0.527248  1.000000  0.055929  0.110529  0.214179   \n",
       "age       0.378305  0.045756  0.055929  1.000000  0.188884  0.124578   \n",
       "sibsp     0.060149  0.027228  0.110529  0.188884  1.000000  0.373281   \n",
       "parch     0.017596  0.083400  0.214179  0.124578  0.373281  1.000000   \n",
       "fare      0.557861  0.242960  0.184034  0.177627  0.161030  0.222327   \n",
       "embarked  0.187027  0.176489  0.099090  0.066432  0.066299  0.045438   \n",
       "\n",
       "              fare  embarked  \n",
       "pclass    0.557861  0.187027  \n",
       "survived  0.242960  0.176489  \n",
       "sex       0.184034  0.099090  \n",
       "age       0.177627  0.066432  \n",
       "sibsp     0.161030  0.066299  \n",
       "parch     0.222327  0.045438  \n",
       "fare      1.000000  0.239086  \n",
       "embarked  0.239086  1.000000  "
      ]
     },
     "execution_count": 28,
     "metadata": {},
     "output_type": "execute_result"
    }
   ],
   "source": [
    "abs(df.corr())"
   ]
  },
  {
   "cell_type": "code",
   "execution_count": null,
   "id": "b17fc40d",
   "metadata": {},
   "outputs": [],
   "source": []
  },
  {
   "cell_type": "code",
   "execution_count": 29,
   "id": "e53ced72",
   "metadata": {},
   "outputs": [],
   "source": [
    "from sklearn.model_selection import train_test_split"
   ]
  },
  {
   "cell_type": "code",
   "execution_count": 30,
   "id": "b32d5c85",
   "metadata": {},
   "outputs": [
    {
     "data": {
      "text/html": [
       "<div>\n",
       "<style scoped>\n",
       "    .dataframe tbody tr th:only-of-type {\n",
       "        vertical-align: middle;\n",
       "    }\n",
       "\n",
       "    .dataframe tbody tr th {\n",
       "        vertical-align: top;\n",
       "    }\n",
       "\n",
       "    .dataframe thead th {\n",
       "        text-align: right;\n",
       "    }\n",
       "</style>\n",
       "<table border=\"1\" class=\"dataframe\">\n",
       "  <thead>\n",
       "    <tr style=\"text-align: right;\">\n",
       "      <th></th>\n",
       "      <th>pclass</th>\n",
       "      <th>survived</th>\n",
       "      <th>sex</th>\n",
       "      <th>age</th>\n",
       "      <th>sibsp</th>\n",
       "      <th>parch</th>\n",
       "      <th>ticket</th>\n",
       "      <th>fare</th>\n",
       "      <th>embarked</th>\n",
       "    </tr>\n",
       "  </thead>\n",
       "  <tbody>\n",
       "    <tr>\n",
       "      <th>0</th>\n",
       "      <td>1.0</td>\n",
       "      <td>1.0</td>\n",
       "      <td>0</td>\n",
       "      <td>29.0000</td>\n",
       "      <td>0.0</td>\n",
       "      <td>0.0</td>\n",
       "      <td>24160</td>\n",
       "      <td>211.3375</td>\n",
       "      <td>2</td>\n",
       "    </tr>\n",
       "    <tr>\n",
       "      <th>1</th>\n",
       "      <td>1.0</td>\n",
       "      <td>1.0</td>\n",
       "      <td>1</td>\n",
       "      <td>0.9167</td>\n",
       "      <td>1.0</td>\n",
       "      <td>2.0</td>\n",
       "      <td>113781</td>\n",
       "      <td>151.5500</td>\n",
       "      <td>2</td>\n",
       "    </tr>\n",
       "    <tr>\n",
       "      <th>2</th>\n",
       "      <td>1.0</td>\n",
       "      <td>0.0</td>\n",
       "      <td>0</td>\n",
       "      <td>2.0000</td>\n",
       "      <td>1.0</td>\n",
       "      <td>2.0</td>\n",
       "      <td>113781</td>\n",
       "      <td>151.5500</td>\n",
       "      <td>2</td>\n",
       "    </tr>\n",
       "    <tr>\n",
       "      <th>3</th>\n",
       "      <td>1.0</td>\n",
       "      <td>0.0</td>\n",
       "      <td>1</td>\n",
       "      <td>30.0000</td>\n",
       "      <td>1.0</td>\n",
       "      <td>2.0</td>\n",
       "      <td>113781</td>\n",
       "      <td>151.5500</td>\n",
       "      <td>2</td>\n",
       "    </tr>\n",
       "    <tr>\n",
       "      <th>4</th>\n",
       "      <td>1.0</td>\n",
       "      <td>0.0</td>\n",
       "      <td>0</td>\n",
       "      <td>25.0000</td>\n",
       "      <td>1.0</td>\n",
       "      <td>2.0</td>\n",
       "      <td>113781</td>\n",
       "      <td>151.5500</td>\n",
       "      <td>2</td>\n",
       "    </tr>\n",
       "  </tbody>\n",
       "</table>\n",
       "</div>"
      ],
      "text/plain": [
       "   pclass  survived  sex      age  sibsp  parch  ticket      fare  embarked\n",
       "0     1.0       1.0    0  29.0000    0.0    0.0   24160  211.3375         2\n",
       "1     1.0       1.0    1   0.9167    1.0    2.0  113781  151.5500         2\n",
       "2     1.0       0.0    0   2.0000    1.0    2.0  113781  151.5500         2\n",
       "3     1.0       0.0    1  30.0000    1.0    2.0  113781  151.5500         2\n",
       "4     1.0       0.0    0  25.0000    1.0    2.0  113781  151.5500         2"
      ]
     },
     "execution_count": 30,
     "metadata": {},
     "output_type": "execute_result"
    }
   ],
   "source": [
    "df.head()"
   ]
  },
  {
   "cell_type": "code",
   "execution_count": 31,
   "id": "770ca9e1",
   "metadata": {},
   "outputs": [],
   "source": [
    "del df['ticket']"
   ]
  },
  {
   "cell_type": "code",
   "execution_count": 32,
   "id": "e1001c51",
   "metadata": {},
   "outputs": [
    {
     "name": "stderr",
     "output_type": "stream",
     "text": [
      "/var/folders/dq/452wvgp96nv2qcc3dn0dv8240000gn/T/ipykernel_1171/484089062.py:2: FutureWarning: In a future version of pandas all arguments of DataFrame.drop except for the argument 'labels' will be keyword-only\n",
      "  X = df.drop('survived',1)\n"
     ]
    }
   ],
   "source": [
    "y = df['survived']\n",
    "X = df.drop('survived',1)"
   ]
  },
  {
   "cell_type": "code",
   "execution_count": 33,
   "id": "a4f1d819",
   "metadata": {},
   "outputs": [],
   "source": [
    "X_train, X_test, y_train, y_test = train_test_split(X, y, train_size=0.8 , random_state=100)"
   ]
  },
  {
   "cell_type": "code",
   "execution_count": null,
   "id": "82b28271",
   "metadata": {},
   "outputs": [],
   "source": []
  },
  {
   "cell_type": "code",
   "execution_count": null,
   "id": "1333db01",
   "metadata": {},
   "outputs": [],
   "source": []
  },
  {
   "cell_type": "code",
   "execution_count": null,
   "id": "9cff220f",
   "metadata": {},
   "outputs": [],
   "source": []
  },
  {
   "cell_type": "code",
   "execution_count": 34,
   "id": "f4afa529",
   "metadata": {},
   "outputs": [],
   "source": [
    "from sklearn.linear_model import LogisticRegression"
   ]
  },
  {
   "cell_type": "code",
   "execution_count": 37,
   "id": "7b807bee",
   "metadata": {},
   "outputs": [],
   "source": [
    "model = LogisticRegression()\n",
    "fit1  = model.fit(X_train,y_train)\n",
    "pred = fit1.predict(X_test)"
   ]
  },
  {
   "cell_type": "code",
   "execution_count": 40,
   "id": "137f4ba2",
   "metadata": {},
   "outputs": [
    {
     "data": {
      "text/plain": [
       "array([0., 1., 0., 0., 1., 0., 1., 0., 1., 0., 0., 0., 0., 1., 0., 0., 0.,\n",
       "       0., 0., 0., 0., 0., 1., 0., 1., 1., 0., 0., 0., 1., 0., 0., 0., 1.,\n",
       "       0., 0., 1., 0., 0., 0., 0., 1., 0., 1., 0., 0., 0., 0., 1., 1., 1.,\n",
       "       1., 0., 1., 0., 0., 1., 0., 1., 1., 0., 1., 1., 1., 1., 0., 1., 1.,\n",
       "       0., 0., 0., 0., 1., 1., 1., 0., 0., 0., 0., 1., 0., 0., 1., 1., 0.,\n",
       "       0., 0., 0., 0., 0., 1., 1., 1., 1., 0., 0., 1., 0., 0., 0., 0., 0.,\n",
       "       1., 0., 0., 1., 0., 0., 0., 0., 0., 0., 0., 0., 0., 1., 1., 0., 1.,\n",
       "       0., 1., 0., 0., 0., 0., 0., 1., 0., 1., 0., 0., 1., 0., 0., 0., 0.,\n",
       "       0., 0., 0., 0., 0., 0., 0., 1., 1., 0., 0., 0., 0., 0., 0., 0., 1.,\n",
       "       0., 0., 1., 0., 0., 0., 0., 0., 0., 0., 1., 0., 1., 0., 1., 1., 0.,\n",
       "       0., 0., 0., 0., 0., 0., 1., 1., 1., 0., 0., 0., 0., 0., 1., 0., 0.,\n",
       "       0., 1., 1., 0., 1., 1., 0., 1., 0., 0., 1., 0., 1., 0., 1., 0., 0.,\n",
       "       1., 0., 1., 0., 0., 0., 0., 1., 0., 1., 0., 0., 0., 0., 1., 0., 0.,\n",
       "       1., 0., 0., 0., 0., 1., 0., 0., 0., 1., 0., 0., 0., 0., 0., 0., 1.,\n",
       "       0., 0., 0., 0., 1., 1., 1., 1., 1., 0., 1., 0., 0., 1., 1., 1., 1.,\n",
       "       0., 0., 1., 0., 0., 0., 0.])"
      ]
     },
     "execution_count": 40,
     "metadata": {},
     "output_type": "execute_result"
    }
   ],
   "source": [
    "pred"
   ]
  },
  {
   "cell_type": "code",
   "execution_count": 41,
   "id": "ab5b5e03",
   "metadata": {},
   "outputs": [],
   "source": [
    "pred_prob = fit1.predict_proba(X_test)"
   ]
  },
  {
   "cell_type": "code",
   "execution_count": 43,
   "id": "ccabbcbd",
   "metadata": {},
   "outputs": [
    {
     "data": {
      "text/plain": [
       "array([0.94358758, 0.19402658, 0.80760995, 0.89342916, 0.24542268,\n",
       "       0.851559  , 0.12681631, 0.79787892, 0.37210028, 0.85719937,\n",
       "       0.74503676, 0.85704857, 0.72032989, 0.06608704, 0.82175682,\n",
       "       0.86464314, 0.73457946, 0.86281301, 0.73242872, 0.81459366,\n",
       "       0.87735994, 0.79460117, 0.41179967, 0.62996237, 0.37923564,\n",
       "       0.37209333, 0.89977929, 0.54886747, 0.71279116, 0.17555665,\n",
       "       0.8552473 , 0.87222399, 0.64283599, 0.28592639, 0.54911002,\n",
       "       0.88743198, 0.1763015 , 0.83399587, 0.5322166 , 0.88608167,\n",
       "       0.73330043, 0.13266446, 0.86621294, 0.3688741 , 0.92571473,\n",
       "       0.8624231 , 0.66416816, 0.52465337, 0.17779633, 0.37203957,\n",
       "       0.17028804, 0.46719698, 0.93805571, 0.37647323, 0.87455904,\n",
       "       0.60641513, 0.43749656, 0.54734553, 0.0672002 , 0.05533526,\n",
       "       0.73878191, 0.20044351, 0.34878205, 0.22223897, 0.38667061,\n",
       "       0.75708387, 0.14779227, 0.37824633, 0.8463419 , 0.84028115,\n",
       "       0.69071504, 0.87380143, 0.31710403, 0.24446747, 0.20099317,\n",
       "       0.85931882, 0.87694776, 0.53768165, 0.88943603, 0.15971095,\n",
       "       0.94172605, 0.83825989, 0.12732152, 0.47990584, 0.76147842,\n",
       "       0.86255073, 0.84598545, 0.82925538, 0.77932392, 0.64795216,\n",
       "       0.0579387 , 0.20503459, 0.49329237, 0.43520534, 0.90825842,\n",
       "       0.58890274, 0.39622642, 0.87363522, 0.8775597 , 0.72684793,\n",
       "       0.8548662 , 0.904408  , 0.23882768, 0.86281301, 0.83399587,\n",
       "       0.13577943, 0.64293988, 0.85397235, 0.55951669, 0.73851986,\n",
       "       0.75918547, 0.89384601, 0.55718986, 0.8535569 , 0.86999303,\n",
       "       0.3144438 , 0.07996485, 0.85033272, 0.44293888, 0.8622522 ,\n",
       "       0.37209333, 0.7796849 , 0.79144387, 0.66437836, 0.71695178,\n",
       "       0.88734299, 0.05604401, 0.86281301, 0.11919901, 0.8029409 ,\n",
       "       0.93112824, 0.42210441, 0.96184526, 0.87719775, 0.88708457,\n",
       "       0.86624476, 0.8607742 , 0.86314941, 0.76147842, 0.67919964,\n",
       "       0.86640374, 0.55542586, 0.87400943, 0.45218727, 0.09908399,\n",
       "       0.93070593, 0.8712734 , 0.57238117, 0.89679477, 0.77113734,\n",
       "       0.87365488, 0.88147875, 0.19225278, 0.89060146, 0.86281301,\n",
       "       0.05911501, 0.67246779, 0.94448477, 0.85039505, 0.77409541,\n",
       "       0.89659239, 0.5119495 , 0.8773216 , 0.07462371, 0.76805695,\n",
       "       0.4181261 , 0.91096662, 0.37786692, 0.45673829, 0.89031845,\n",
       "       0.81998149, 0.52085351, 0.88737044, 0.88734299, 0.8327333 ,\n",
       "       0.54886747, 0.1796891 , 0.43490008, 0.07826535, 0.65488398,\n",
       "       0.83399587, 0.62845293, 0.88737044, 0.56054713, 0.4560886 ,\n",
       "       0.91120043, 0.86060279, 0.88748535, 0.10355708, 0.32348491,\n",
       "       0.91097781, 0.22466234, 0.06603774, 0.98666561, 0.30480312,\n",
       "       0.54491744, 0.87044771, 0.17162149, 0.70295441, 0.09393317,\n",
       "       0.88737044, 0.10554733, 0.88722498, 0.60901014, 0.29526769,\n",
       "       0.70947622, 0.42688363, 0.52887412, 0.83424437, 0.83344101,\n",
       "       0.82196295, 0.45651459, 0.81263356, 0.28308366, 0.80505935,\n",
       "       0.86281301, 0.8171986 , 0.80505935, 0.14932412, 0.75806517,\n",
       "       0.50445595, 0.07900934, 0.61251587, 0.68228583, 0.68677451,\n",
       "       0.88067357, 0.14160138, 0.93139981, 0.73112871, 0.73878191,\n",
       "       0.07242107, 0.88748535, 0.84182617, 0.52378688, 0.54206447,\n",
       "       0.90252501, 0.87331946, 0.10112891, 0.88734299, 0.91587635,\n",
       "       0.89371073, 0.7529661 , 0.37206038, 0.06131154, 0.17062655,\n",
       "       0.06147327, 0.47034204, 0.92999137, 0.28308366, 0.86151874,\n",
       "       0.67601009, 0.43087632, 0.41908937, 0.321403  , 0.18079322,\n",
       "       0.83131662, 0.89975921, 0.27625494, 0.92256544, 0.77979759,\n",
       "       0.63589794, 0.87232321])"
      ]
     },
     "execution_count": 43,
     "metadata": {},
     "output_type": "execute_result"
    }
   ],
   "source": [
    "pred_prob[:,0]"
   ]
  },
  {
   "cell_type": "code",
   "execution_count": 44,
   "id": "b036574e",
   "metadata": {},
   "outputs": [
    {
     "data": {
      "text/plain": [
       "array([0.05641242, 0.80597342, 0.19239005, 0.10657084, 0.75457732,\n",
       "       0.148441  , 0.87318369, 0.20212108, 0.62789972, 0.14280063,\n",
       "       0.25496324, 0.14295143, 0.27967011, 0.93391296, 0.17824318,\n",
       "       0.13535686, 0.26542054, 0.13718699, 0.26757128, 0.18540634,\n",
       "       0.12264006, 0.20539883, 0.58820033, 0.37003763, 0.62076436,\n",
       "       0.62790667, 0.10022071, 0.45113253, 0.28720884, 0.82444335,\n",
       "       0.1447527 , 0.12777601, 0.35716401, 0.71407361, 0.45088998,\n",
       "       0.11256802, 0.8236985 , 0.16600413, 0.4677834 , 0.11391833,\n",
       "       0.26669957, 0.86733554, 0.13378706, 0.6311259 , 0.07428527,\n",
       "       0.1375769 , 0.33583184, 0.47534663, 0.82220367, 0.62796043,\n",
       "       0.82971196, 0.53280302, 0.06194429, 0.62352677, 0.12544096,\n",
       "       0.39358487, 0.56250344, 0.45265447, 0.9327998 , 0.94466474,\n",
       "       0.26121809, 0.79955649, 0.65121795, 0.77776103, 0.61332939,\n",
       "       0.24291613, 0.85220773, 0.62175367, 0.1536581 , 0.15971885,\n",
       "       0.30928496, 0.12619857, 0.68289597, 0.75553253, 0.79900683,\n",
       "       0.14068118, 0.12305224, 0.46231835, 0.11056397, 0.84028905,\n",
       "       0.05827395, 0.16174011, 0.87267848, 0.52009416, 0.23852158,\n",
       "       0.13744927, 0.15401455, 0.17074462, 0.22067608, 0.35204784,\n",
       "       0.9420613 , 0.79496541, 0.50670763, 0.56479466, 0.09174158,\n",
       "       0.41109726, 0.60377358, 0.12636478, 0.1224403 , 0.27315207,\n",
       "       0.1451338 , 0.095592  , 0.76117232, 0.13718699, 0.16600413,\n",
       "       0.86422057, 0.35706012, 0.14602765, 0.44048331, 0.26148014,\n",
       "       0.24081453, 0.10615399, 0.44281014, 0.1464431 , 0.13000697,\n",
       "       0.6855562 , 0.92003515, 0.14966728, 0.55706112, 0.1377478 ,\n",
       "       0.62790667, 0.2203151 , 0.20855613, 0.33562164, 0.28304822,\n",
       "       0.11265701, 0.94395599, 0.13718699, 0.88080099, 0.1970591 ,\n",
       "       0.06887176, 0.57789559, 0.03815474, 0.12280225, 0.11291543,\n",
       "       0.13375524, 0.1392258 , 0.13685059, 0.23852158, 0.32080036,\n",
       "       0.13359626, 0.44457414, 0.12599057, 0.54781273, 0.90091601,\n",
       "       0.06929407, 0.1287266 , 0.42761883, 0.10320523, 0.22886266,\n",
       "       0.12634512, 0.11852125, 0.80774722, 0.10939854, 0.13718699,\n",
       "       0.94088499, 0.32753221, 0.05551523, 0.14960495, 0.22590459,\n",
       "       0.10340761, 0.4880505 , 0.1226784 , 0.92537629, 0.23194305,\n",
       "       0.5818739 , 0.08903338, 0.62213308, 0.54326171, 0.10968155,\n",
       "       0.18001851, 0.47914649, 0.11262956, 0.11265701, 0.1672667 ,\n",
       "       0.45113253, 0.8203109 , 0.56509992, 0.92173465, 0.34511602,\n",
       "       0.16600413, 0.37154707, 0.11262956, 0.43945287, 0.5439114 ,\n",
       "       0.08879957, 0.13939721, 0.11251465, 0.89644292, 0.67651509,\n",
       "       0.08902219, 0.77533766, 0.93396226, 0.01333439, 0.69519688,\n",
       "       0.45508256, 0.12955229, 0.82837851, 0.29704559, 0.90606683,\n",
       "       0.11262956, 0.89445267, 0.11277502, 0.39098986, 0.70473231,\n",
       "       0.29052378, 0.57311637, 0.47112588, 0.16575563, 0.16655899,\n",
       "       0.17803705, 0.54348541, 0.18736644, 0.71691634, 0.19494065,\n",
       "       0.13718699, 0.1828014 , 0.19494065, 0.85067588, 0.24193483,\n",
       "       0.49554405, 0.92099066, 0.38748413, 0.31771417, 0.31322549,\n",
       "       0.11932643, 0.85839862, 0.06860019, 0.26887129, 0.26121809,\n",
       "       0.92757893, 0.11251465, 0.15817383, 0.47621312, 0.45793553,\n",
       "       0.09747499, 0.12668054, 0.89887109, 0.11265701, 0.08412365,\n",
       "       0.10628927, 0.2470339 , 0.62793962, 0.93868846, 0.82937345,\n",
       "       0.93852673, 0.52965796, 0.07000863, 0.71691634, 0.13848126,\n",
       "       0.32398991, 0.56912368, 0.58091063, 0.678597  , 0.81920678,\n",
       "       0.16868338, 0.10024079, 0.72374506, 0.07743456, 0.22020241,\n",
       "       0.36410206, 0.12767679])"
      ]
     },
     "execution_count": 44,
     "metadata": {},
     "output_type": "execute_result"
    }
   ],
   "source": [
    "pred_prob[:,1]"
   ]
  },
  {
   "cell_type": "code",
   "execution_count": null,
   "id": "a43703bd",
   "metadata": {},
   "outputs": [],
   "source": []
  },
  {
   "cell_type": "code",
   "execution_count": null,
   "id": "4379387a",
   "metadata": {},
   "outputs": [],
   "source": []
  },
  {
   "cell_type": "code",
   "execution_count": null,
   "id": "f44d539f",
   "metadata": {},
   "outputs": [],
   "source": []
  },
  {
   "cell_type": "code",
   "execution_count": null,
   "id": "3992b292",
   "metadata": {},
   "outputs": [],
   "source": []
  },
  {
   "cell_type": "code",
   "execution_count": null,
   "id": "fb7b1c4c",
   "metadata": {},
   "outputs": [],
   "source": []
  },
  {
   "cell_type": "code",
   "execution_count": null,
   "id": "12c2f61e",
   "metadata": {},
   "outputs": [],
   "source": []
  }
 ],
 "metadata": {
  "kernelspec": {
   "display_name": "Python 3 (ipykernel)",
   "language": "python",
   "name": "python3"
  },
  "language_info": {
   "codemirror_mode": {
    "name": "ipython",
    "version": 3
   },
   "file_extension": ".py",
   "mimetype": "text/x-python",
   "name": "python",
   "nbconvert_exporter": "python",
   "pygments_lexer": "ipython3",
   "version": "3.9.7"
  }
 },
 "nbformat": 4,
 "nbformat_minor": 5
}
