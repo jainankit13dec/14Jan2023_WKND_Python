{
 "cells": [
  {
   "cell_type": "markdown",
   "metadata": {
    "papermill": {
     "duration": 0.024701,
     "end_time": "2021-03-01T11:19:03.153542",
     "exception": false,
     "start_time": "2021-03-01T11:19:03.128841",
     "status": "completed"
    },
    "tags": []
   },
   "source": [
    "# Machine Learning Model Evaluation Metrics Part I. Classification\n"
   ]
  },
  {
   "cell_type": "markdown",
   "metadata": {
    "papermill": {
     "duration": 0.023117,
     "end_time": "2021-03-01T11:19:03.386642",
     "exception": false,
     "start_time": "2021-03-01T11:19:03.363525",
     "status": "completed"
    },
    "tags": []
   },
   "source": [
    "# Import Library"
   ]
  },
  {
   "cell_type": "code",
   "execution_count": 1,
   "metadata": {
    "execution": {
     "iopub.execute_input": "2021-03-01T11:19:03.436963Z",
     "iopub.status.busy": "2021-03-01T11:19:03.436380Z",
     "iopub.status.idle": "2021-03-01T11:19:04.936898Z",
     "shell.execute_reply": "2021-03-01T11:19:04.937409Z"
    },
    "papermill": {
     "duration": 1.527538,
     "end_time": "2021-03-01T11:19:04.937739",
     "exception": false,
     "start_time": "2021-03-01T11:19:03.410201",
     "status": "completed"
    },
    "tags": []
   },
   "outputs": [],
   "source": [
    "import numpy as np\n",
    "import pandas as pd\n",
    "from sklearn.model_selection import train_test_split\n",
    "from sklearn.metrics import confusion_matrix\n",
    "from sklearn.metrics import accuracy_score\n",
    "import seaborn as sns\n",
    "import matplotlib.pyplot as plt\n",
    "%matplotlib inline\n",
    "    \n",
    "from sklearn.model_selection import train_test_split\n",
    "\n",
    "# Pipeline library for Training\n",
    "from sklearn.compose import ColumnTransformer\n",
    "from sklearn.pipeline import Pipeline\n",
    "from sklearn.impute import SimpleImputer\n",
    "from sklearn.preprocessing import OneHotEncoder\n",
    "\n",
    "from sklearn.ensemble import RandomForestClassifier\n",
    "from sklearn.model_selection import cross_val_score\n",
    "from sklearn.metrics import mean_absolute_error\n"
   ]
  },
  {
   "cell_type": "markdown",
   "metadata": {
    "papermill": {
     "duration": 0.023,
     "end_time": "2021-03-01T11:19:05.031844",
     "exception": false,
     "start_time": "2021-03-01T11:19:05.008844",
     "status": "completed"
    },
    "tags": []
   },
   "source": [
    "# Data Preprocessing (using Pipelines)"
   ]
  },
  {
   "cell_type": "code",
   "execution_count": 21,
   "metadata": {
    "execution": {
     "iopub.execute_input": "2021-03-01T11:19:05.082282Z",
     "iopub.status.busy": "2021-03-01T11:19:05.081668Z",
     "iopub.status.idle": "2021-03-01T11:19:05.152820Z",
     "shell.execute_reply": "2021-03-01T11:19:05.153359Z"
    },
    "papermill": {
     "duration": 0.098023,
     "end_time": "2021-03-01T11:19:05.153515",
     "exception": false,
     "start_time": "2021-03-01T11:19:05.055492",
     "status": "completed"
    },
    "tags": []
   },
   "outputs": [
    {
     "name": "stdout",
     "output_type": "stream",
     "text": [
      "(891, 12) (418, 11)\n"
     ]
    }
   ],
   "source": [
    "# Road the data\n",
    "X = pd.read_csv(\"titanic/train.csv\")\n",
    "X_test = pd.read_csv(\"titanic/test.csv\")\n",
    "print(X.shape, X_test.shape)\n",
    "\n",
    "\n",
    "# Remove rows with missing target, seperate target from predictors\n",
    "X.dropna(axis=0, subset=['Survived'], inplace=True)\n",
    "y = X.Survived\n",
    "X.drop(['Survived'], axis=1, inplace=True)\n",
    "\n",
    "# \"Cardinality\" means the number of unique values in a column\n",
    "# Select categorical columns with relatively low cardinality (convenient but arbitrary)\n",
    "categorical_cols = [cname for cname in X.columns if X[cname].nunique() < 10 and X[cname].dtype == 'object']\n",
    "\n",
    "# Select numerical columns\n",
    "numerical_cols = [cname for cname in X.columns if X[cname].dtype in ['float64', 'int64']]\n",
    "\n",
    "# keep selected columns only\n",
    "my_cols = categorical_cols + numerical_cols\n",
    "X = X[my_cols].copy()\n",
    "X_test = X[my_cols].copy()"
   ]
  },
  {
   "cell_type": "code",
   "execution_count": 22,
   "metadata": {},
   "outputs": [
    {
     "data": {
      "text/html": [
       "<div>\n",
       "<style scoped>\n",
       "    .dataframe tbody tr th:only-of-type {\n",
       "        vertical-align: middle;\n",
       "    }\n",
       "\n",
       "    .dataframe tbody tr th {\n",
       "        vertical-align: top;\n",
       "    }\n",
       "\n",
       "    .dataframe thead th {\n",
       "        text-align: right;\n",
       "    }\n",
       "</style>\n",
       "<table border=\"1\" class=\"dataframe\">\n",
       "  <thead>\n",
       "    <tr style=\"text-align: right;\">\n",
       "      <th></th>\n",
       "      <th>PassengerId</th>\n",
       "      <th>Survived</th>\n",
       "      <th>Pclass</th>\n",
       "      <th>Name</th>\n",
       "      <th>Sex</th>\n",
       "      <th>Age</th>\n",
       "      <th>SibSp</th>\n",
       "      <th>Parch</th>\n",
       "      <th>Ticket</th>\n",
       "      <th>Fare</th>\n",
       "      <th>Cabin</th>\n",
       "      <th>Embarked</th>\n",
       "    </tr>\n",
       "  </thead>\n",
       "  <tbody>\n",
       "    <tr>\n",
       "      <th>0</th>\n",
       "      <td>1</td>\n",
       "      <td>0</td>\n",
       "      <td>3</td>\n",
       "      <td>Braund, Mr. Owen Harris</td>\n",
       "      <td>male</td>\n",
       "      <td>22.0</td>\n",
       "      <td>1</td>\n",
       "      <td>0</td>\n",
       "      <td>A/5 21171</td>\n",
       "      <td>7.2500</td>\n",
       "      <td>NaN</td>\n",
       "      <td>S</td>\n",
       "    </tr>\n",
       "    <tr>\n",
       "      <th>1</th>\n",
       "      <td>2</td>\n",
       "      <td>1</td>\n",
       "      <td>1</td>\n",
       "      <td>Cumings, Mrs. John Bradley (Florence Briggs Th...</td>\n",
       "      <td>female</td>\n",
       "      <td>38.0</td>\n",
       "      <td>1</td>\n",
       "      <td>0</td>\n",
       "      <td>PC 17599</td>\n",
       "      <td>71.2833</td>\n",
       "      <td>C85</td>\n",
       "      <td>C</td>\n",
       "    </tr>\n",
       "    <tr>\n",
       "      <th>2</th>\n",
       "      <td>3</td>\n",
       "      <td>1</td>\n",
       "      <td>3</td>\n",
       "      <td>Heikkinen, Miss. Laina</td>\n",
       "      <td>female</td>\n",
       "      <td>26.0</td>\n",
       "      <td>0</td>\n",
       "      <td>0</td>\n",
       "      <td>STON/O2. 3101282</td>\n",
       "      <td>7.9250</td>\n",
       "      <td>NaN</td>\n",
       "      <td>S</td>\n",
       "    </tr>\n",
       "    <tr>\n",
       "      <th>3</th>\n",
       "      <td>4</td>\n",
       "      <td>1</td>\n",
       "      <td>1</td>\n",
       "      <td>Futrelle, Mrs. Jacques Heath (Lily May Peel)</td>\n",
       "      <td>female</td>\n",
       "      <td>35.0</td>\n",
       "      <td>1</td>\n",
       "      <td>0</td>\n",
       "      <td>113803</td>\n",
       "      <td>53.1000</td>\n",
       "      <td>C123</td>\n",
       "      <td>S</td>\n",
       "    </tr>\n",
       "    <tr>\n",
       "      <th>4</th>\n",
       "      <td>5</td>\n",
       "      <td>0</td>\n",
       "      <td>3</td>\n",
       "      <td>Allen, Mr. William Henry</td>\n",
       "      <td>male</td>\n",
       "      <td>35.0</td>\n",
       "      <td>0</td>\n",
       "      <td>0</td>\n",
       "      <td>373450</td>\n",
       "      <td>8.0500</td>\n",
       "      <td>NaN</td>\n",
       "      <td>S</td>\n",
       "    </tr>\n",
       "  </tbody>\n",
       "</table>\n",
       "</div>"
      ],
      "text/plain": [
       "   PassengerId  Survived  Pclass  \\\n",
       "0            1         0       3   \n",
       "1            2         1       1   \n",
       "2            3         1       3   \n",
       "3            4         1       1   \n",
       "4            5         0       3   \n",
       "\n",
       "                                                Name     Sex   Age  SibSp  \\\n",
       "0                            Braund, Mr. Owen Harris    male  22.0      1   \n",
       "1  Cumings, Mrs. John Bradley (Florence Briggs Th...  female  38.0      1   \n",
       "2                             Heikkinen, Miss. Laina  female  26.0      0   \n",
       "3       Futrelle, Mrs. Jacques Heath (Lily May Peel)  female  35.0      1   \n",
       "4                           Allen, Mr. William Henry    male  35.0      0   \n",
       "\n",
       "   Parch            Ticket     Fare Cabin Embarked  \n",
       "0      0         A/5 21171   7.2500   NaN        S  \n",
       "1      0          PC 17599  71.2833   C85        C  \n",
       "2      0  STON/O2. 3101282   7.9250   NaN        S  \n",
       "3      0            113803  53.1000  C123        S  \n",
       "4      0            373450   8.0500   NaN        S  "
      ]
     },
     "execution_count": 22,
     "metadata": {},
     "output_type": "execute_result"
    }
   ],
   "source": [
    "X_.head()"
   ]
  },
  {
   "cell_type": "code",
   "execution_count": 3,
   "metadata": {
    "execution": {
     "iopub.execute_input": "2021-03-01T11:19:05.204370Z",
     "iopub.status.busy": "2021-03-01T11:19:05.203775Z",
     "iopub.status.idle": "2021-03-01T11:19:05.214401Z",
     "shell.execute_reply": "2021-03-01T11:19:05.213741Z"
    },
    "papermill": {
     "duration": 0.036999,
     "end_time": "2021-03-01T11:19:05.214548",
     "exception": false,
     "start_time": "2021-03-01T11:19:05.177549",
     "status": "completed"
    },
    "tags": []
   },
   "outputs": [],
   "source": [
    "X_ = pd.read_csv(\"titanic/train.csv\")"
   ]
  },
  {
   "cell_type": "code",
   "execution_count": 4,
   "metadata": {
    "execution": {
     "iopub.execute_input": "2021-03-01T11:19:05.313847Z",
     "iopub.status.busy": "2021-03-01T11:19:05.313226Z",
     "iopub.status.idle": "2021-03-01T11:19:05.548558Z",
     "shell.execute_reply": "2021-03-01T11:19:05.549266Z"
    },
    "papermill": {
     "duration": 0.306997,
     "end_time": "2021-03-01T11:19:05.549480",
     "exception": false,
     "start_time": "2021-03-01T11:19:05.242483",
     "status": "completed"
    },
    "tags": []
   },
   "outputs": [
    {
     "name": "stderr",
     "output_type": "stream",
     "text": [
      "/Users/akashdeepmakkar/opt/anaconda3/lib/python3.9/site-packages/seaborn/_decorators.py:36: FutureWarning: Pass the following variable as a keyword arg: x. From version 0.12, the only valid positional argument will be `data`, and passing other arguments without an explicit keyword will result in an error or misinterpretation.\n",
      "  warnings.warn(\n"
     ]
    },
    {
     "data": {
      "text/plain": [
       "<AxesSubplot:xlabel='Survived', ylabel='count'>"
      ]
     },
     "execution_count": 4,
     "metadata": {},
     "output_type": "execute_result"
    },
    {
     "data": {
      "image/png": "[encoded data removed]",
      "text/plain": [
       "<Figure size 864x288 with 2 Axes>"
      ]
     },
     "metadata": {
      "needs_background": "light"
     },
     "output_type": "display_data"
    }
   ],
   "source": [
    "f, ax = plt.subplots(1, 2, figsize=(12, 4))\n",
    "\n",
    "X_['Survived'].value_counts().plot.pie(autopct='%1.1f%%', ax=ax[0])\n",
    "\n",
    "sns.countplot('Survived', data=X_, ax=ax[1])"
   ]
  },
  {
   "cell_type": "markdown",
   "metadata": {
    "papermill": {
     "duration": 0.039669,
     "end_time": "2021-03-01T11:19:05.629619",
     "exception": false,
     "start_time": "2021-03-01T11:19:05.589950",
     "status": "completed"
    },
    "tags": []
   },
   "source": [
    "## Pipelines for training"
   ]
  },
  {
   "cell_type": "markdown",
   "metadata": {
    "papermill": {
     "duration": 0.040233,
     "end_time": "2021-03-01T11:19:05.709700",
     "exception": false,
     "start_time": "2021-03-01T11:19:05.669467",
     "status": "completed"
    },
    "tags": []
   },
   "source": [
    "* numerical_transformer/categorical_transformer\n",
    "* preprocessor(ColumnTransformer)\n",
    "* define model\n",
    "* Bundle preprocessing and modeling\n",
    "* Preprocessing of training data, fit model\n",
    "* Preprocessing of validation data, get predictions"
   ]
  },
  {
   "cell_type": "code",
   "execution_count": 5,
   "metadata": {
    "execution": {
     "iopub.execute_input": "2021-03-01T11:19:05.795929Z",
     "iopub.status.busy": "2021-03-01T11:19:05.795098Z",
     "iopub.status.idle": "2021-03-01T11:19:05.799124Z",
     "shell.execute_reply": "2021-03-01T11:19:05.798456Z"
    },
    "papermill": {
     "duration": 0.049781,
     "end_time": "2021-03-01T11:19:05.799296",
     "exception": false,
     "start_time": "2021-03-01T11:19:05.749515",
     "status": "completed"
    },
    "tags": []
   },
   "outputs": [],
   "source": [
    "# Preprocessing for numerical data\n",
    "numerical_transformer = SimpleImputer(strategy='constant')\n",
    "\n",
    "# Preprocessing for categorical data\n",
    "categorical_transformer = Pipeline(steps=[\n",
    "    ('imputer', SimpleImputer(strategy='most_frequent')),\n",
    "    ('onehot', OneHotEncoder(handle_unknown='ignore'))\n",
    "])\n",
    "# Preprocessing for numerical and categorical data\n",
    "preprocessor = ColumnTransformer(\n",
    "        transformers =[\n",
    "            ('num', numerical_transformer, numerical_cols),\n",
    "            ('cat', categorical_transformer, categorical_cols)\n",
    "        ])"
   ]
  },
  {
   "cell_type": "markdown",
   "metadata": {
    "papermill": {
     "duration": 0.039803,
     "end_time": "2021-03-01T11:19:05.878964",
     "exception": false,
     "start_time": "2021-03-01T11:19:05.839161",
     "status": "completed"
    },
    "tags": []
   },
   "source": [
    "# Modeling & Evaluate Score\n",
    "\n"
   ]
  },
  {
   "cell_type": "code",
   "execution_count": 6,
   "metadata": {},
   "outputs": [],
   "source": [
    "# model = LogisticRegression()\n",
    "# rf_clf = RandomForestClassifier()"
   ]
  },
  {
   "cell_type": "code",
   "execution_count": 7,
   "metadata": {
    "execution": {
     "iopub.execute_input": "2021-03-01T11:19:05.966541Z",
     "iopub.status.busy": "2021-03-01T11:19:05.965744Z",
     "iopub.status.idle": "2021-03-01T11:19:08.513711Z",
     "shell.execute_reply": "2021-03-01T11:19:08.512977Z"
    },
    "papermill": {
     "duration": 2.594962,
     "end_time": "2021-03-01T11:19:08.513889",
     "exception": false,
     "start_time": "2021-03-01T11:19:05.918927",
     "status": "completed"
    },
    "tags": []
   },
   "outputs": [
    {
     "name": "stderr",
     "output_type": "stream",
     "text": [
      "/Users/akashdeepmakkar/opt/anaconda3/lib/python3.9/site-packages/sklearn/linear_model/_logistic.py:763: ConvergenceWarning: lbfgs failed to converge (status=1):\n",
      "STOP: TOTAL NO. of ITERATIONS REACHED LIMIT.\n",
      "\n",
      "Increase the number of iterations (max_iter) or scale the data as shown in:\n",
      "    https://scikit-learn.org/stable/modules/preprocessing.html\n",
      "Please also refer to the documentation for alternative solver options:\n",
      "    https://scikit-learn.org/stable/modules/linear_model.html#logistic-regression\n",
      "  n_iter_i = _check_optimize_result(\n",
      "/Users/akashdeepmakkar/opt/anaconda3/lib/python3.9/site-packages/sklearn/linear_model/_logistic.py:763: ConvergenceWarning: lbfgs failed to converge (status=1):\n",
      "STOP: TOTAL NO. of ITERATIONS REACHED LIMIT.\n",
      "\n",
      "Increase the number of iterations (max_iter) or scale the data as shown in:\n",
      "    https://scikit-learn.org/stable/modules/preprocessing.html\n",
      "Please also refer to the documentation for alternative solver options:\n",
      "    https://scikit-learn.org/stable/modules/linear_model.html#logistic-regression\n",
      "  n_iter_i = _check_optimize_result(\n",
      "/Users/akashdeepmakkar/opt/anaconda3/lib/python3.9/site-packages/sklearn/linear_model/_logistic.py:763: ConvergenceWarning: lbfgs failed to converge (status=1):\n",
      "STOP: TOTAL NO. of ITERATIONS REACHED LIMIT.\n",
      "\n",
      "Increase the number of iterations (max_iter) or scale the data as shown in:\n",
      "    https://scikit-learn.org/stable/modules/preprocessing.html\n",
      "Please also refer to the documentation for alternative solver options:\n",
      "    https://scikit-learn.org/stable/modules/linear_model.html#logistic-regression\n",
      "  n_iter_i = _check_optimize_result(\n",
      "/Users/akashdeepmakkar/opt/anaconda3/lib/python3.9/site-packages/sklearn/linear_model/_logistic.py:763: ConvergenceWarning: lbfgs failed to converge (status=1):\n",
      "STOP: TOTAL NO. of ITERATIONS REACHED LIMIT.\n",
      "\n",
      "Increase the number of iterations (max_iter) or scale the data as shown in:\n",
      "    https://scikit-learn.org/stable/modules/preprocessing.html\n",
      "Please also refer to the documentation for alternative solver options:\n",
      "    https://scikit-learn.org/stable/modules/linear_model.html#logistic-regression\n",
      "  n_iter_i = _check_optimize_result(\n",
      "/Users/akashdeepmakkar/opt/anaconda3/lib/python3.9/site-packages/sklearn/linear_model/_logistic.py:763: ConvergenceWarning: lbfgs failed to converge (status=1):\n",
      "STOP: TOTAL NO. of ITERATIONS REACHED LIMIT.\n",
      "\n",
      "Increase the number of iterations (max_iter) or scale the data as shown in:\n",
      "    https://scikit-learn.org/stable/modules/preprocessing.html\n",
      "Please also refer to the documentation for alternative solver options:\n",
      "    https://scikit-learn.org/stable/modules/linear_model.html#logistic-regression\n",
      "  n_iter_i = _check_optimize_result(\n",
      "/Users/akashdeepmakkar/opt/anaconda3/lib/python3.9/site-packages/sklearn/linear_model/_logistic.py:763: ConvergenceWarning: lbfgs failed to converge (status=1):\n",
      "STOP: TOTAL NO. of ITERATIONS REACHED LIMIT.\n",
      "\n",
      "Increase the number of iterations (max_iter) or scale the data as shown in:\n",
      "    https://scikit-learn.org/stable/modules/preprocessing.html\n",
      "Please also refer to the documentation for alternative solver options:\n",
      "    https://scikit-learn.org/stable/modules/linear_model.html#logistic-regression\n",
      "  n_iter_i = _check_optimize_result(\n",
      "/Users/akashdeepmakkar/opt/anaconda3/lib/python3.9/site-packages/sklearn/linear_model/_logistic.py:763: ConvergenceWarning: lbfgs failed to converge (status=1):\n",
      "STOP: TOTAL NO. of ITERATIONS REACHED LIMIT.\n",
      "\n",
      "Increase the number of iterations (max_iter) or scale the data as shown in:\n",
      "    https://scikit-learn.org/stable/modules/preprocessing.html\n",
      "Please also refer to the documentation for alternative solver options:\n",
      "    https://scikit-learn.org/stable/modules/linear_model.html#logistic-regression\n",
      "  n_iter_i = _check_optimize_result(\n"
     ]
    },
    {
     "name": "stdout",
     "output_type": "stream",
     "text": [
      "0.7945942571785268\n"
     ]
    },
    {
     "name": "stderr",
     "output_type": "stream",
     "text": [
      "/Users/akashdeepmakkar/opt/anaconda3/lib/python3.9/site-packages/sklearn/linear_model/_logistic.py:763: ConvergenceWarning: lbfgs failed to converge (status=1):\n",
      "STOP: TOTAL NO. of ITERATIONS REACHED LIMIT.\n",
      "\n",
      "Increase the number of iterations (max_iter) or scale the data as shown in:\n",
      "    https://scikit-learn.org/stable/modules/preprocessing.html\n",
      "Please also refer to the documentation for alternative solver options:\n",
      "    https://scikit-learn.org/stable/modules/linear_model.html#logistic-regression\n",
      "  n_iter_i = _check_optimize_result(\n",
      "/Users/akashdeepmakkar/opt/anaconda3/lib/python3.9/site-packages/sklearn/linear_model/_logistic.py:763: ConvergenceWarning: lbfgs failed to converge (status=1):\n",
      "STOP: TOTAL NO. of ITERATIONS REACHED LIMIT.\n",
      "\n",
      "Increase the number of iterations (max_iter) or scale the data as shown in:\n",
      "    https://scikit-learn.org/stable/modules/preprocessing.html\n",
      "Please also refer to the documentation for alternative solver options:\n",
      "    https://scikit-learn.org/stable/modules/linear_model.html#logistic-regression\n",
      "  n_iter_i = _check_optimize_result(\n",
      "/Users/akashdeepmakkar/opt/anaconda3/lib/python3.9/site-packages/sklearn/linear_model/_logistic.py:763: ConvergenceWarning: lbfgs failed to converge (status=1):\n",
      "STOP: TOTAL NO. of ITERATIONS REACHED LIMIT.\n",
      "\n",
      "Increase the number of iterations (max_iter) or scale the data as shown in:\n",
      "    https://scikit-learn.org/stable/modules/preprocessing.html\n",
      "Please also refer to the documentation for alternative solver options:\n",
      "    https://scikit-learn.org/stable/modules/linear_model.html#logistic-regression\n",
      "  n_iter_i = _check_optimize_result(\n"
     ]
    }
   ],
   "source": [
    "from sklearn.linear_model import LogisticRegression\n",
    "\n",
    "rf_clf = LogisticRegression()\n",
    "\n",
    "# Bundle preprocessing and modeling code in a pipeline\n",
    "clf = Pipeline(steps=[\n",
    "    ('preprocessor', preprocessor),\n",
    "    ('model', rf_clf)\n",
    "])\n",
    "\n",
    "print(cross_val_score(clf, X, y, cv=10).mean())"
   ]
  },
  {
   "cell_type": "markdown",
   "metadata": {
    "papermill": {
     "duration": 0.040269,
     "end_time": "2021-03-01T11:19:08.595389",
     "exception": false,
     "start_time": "2021-03-01T11:19:08.555120",
     "status": "completed"
    },
    "tags": []
   },
   "source": [
    "# Model Evaluation\n",
    "## 1. Confusion Matrix\n",
    "A <code>confusion</code> matrix is a table that is often used to describe the performance of a classification model (or \"classifier\") on a set of test data for which the true values are known"
   ]
  },
  {
   "cell_type": "markdown",
   "metadata": {
    "papermill": {
     "duration": 0.040833,
     "end_time": "2021-03-01T11:19:08.676918",
     "exception": false,
     "start_time": "2021-03-01T11:19:08.636085",
     "status": "completed"
    },
    "tags": []
   },
   "source": [
    "<img src=\"https://i.ytimg.com/vi/AOIkPnKu0YA/maxresdefault.jpg\" width=600 />"
   ]
  },
  {
   "cell_type": "code",
   "execution_count": 8,
   "metadata": {
    "execution": {
     "iopub.execute_input": "2021-03-01T11:19:08.765275Z",
     "iopub.status.busy": "2021-03-01T11:19:08.764230Z",
     "iopub.status.idle": "2021-03-01T11:19:08.767788Z",
     "shell.execute_reply": "2021-03-01T11:19:08.766956Z"
    },
    "papermill": {
     "duration": 0.049929,
     "end_time": "2021-03-01T11:19:08.767948",
     "exception": false,
     "start_time": "2021-03-01T11:19:08.718019",
     "status": "completed"
    },
    "tags": []
   },
   "outputs": [],
   "source": [
    "from sklearn.metrics import confusion_matrix\n",
    "from sklearn.metrics import accuracy_score"
   ]
  },
  {
   "cell_type": "code",
   "execution_count": 9,
   "metadata": {
    "execution": {
     "iopub.execute_input": "2021-03-01T11:19:08.860760Z",
     "iopub.status.busy": "2021-03-01T11:19:08.859476Z",
     "iopub.status.idle": "2021-03-01T11:19:09.425899Z",
     "shell.execute_reply": "2021-03-01T11:19:09.425368Z"
    },
    "papermill": {
     "duration": 0.616831,
     "end_time": "2021-03-01T11:19:09.426054",
     "exception": false,
     "start_time": "2021-03-01T11:19:08.809223",
     "status": "completed"
    },
    "tags": []
   },
   "outputs": [
    {
     "data": {
      "text/plain": [
       "<AxesSubplot:>"
      ]
     },
     "execution_count": 9,
     "metadata": {},
     "output_type": "execute_result"
    },
    {
     "data": {
      "image/png": "[encoded data removed]",
      "text/plain": [
       "<Figure size 432x288 with 2 Axes>"
      ]
     },
     "metadata": {
      "needs_background": "light"
     },
     "output_type": "display_data"
    }
   ],
   "source": [
    "# train_test_split: 80%, 20%\n",
    "X_train, X_val, y_train, y_val = train_test_split(X, y, train_size=0.8, test_size=0.2)\n",
    "\n",
    "# modeling\n",
    "rf_clf = RandomForestClassifier()\n",
    "\n",
    "# Bundle preprocessing and modeling code in a pipeline\n",
    "clf = Pipeline(steps=[\n",
    "    ('preprocessor', preprocessor),\n",
    "    ('model', rf_clf)\n",
    "])\n",
    "\n",
    "# train\n",
    "clf.fit(X_train, y_train)\n",
    "preds = clf.predict(X_val)\n",
    "\n",
    "\n",
    "# confusion_matrix\n",
    "cm = confusion_matrix(y_val, preds)\n",
    "sns.heatmap(cm, annot=True, fmt=\"d\")"
   ]
  },
  {
   "cell_type": "markdown",
   "metadata": {
    "papermill": {
     "duration": 0.028831,
     "end_time": "2021-03-01T11:19:09.483754",
     "exception": false,
     "start_time": "2021-03-01T11:19:09.454923",
     "status": "completed"
    },
    "tags": []
   },
   "source": [
    "### Accuracy\n",
    "<code>Accuracy</code> in classification problems is the number of correct predictions made by the model over all kinds predictions made"
   ]
  },
  {
   "cell_type": "markdown",
   "metadata": {
    "papermill": {
     "duration": 0.028444,
     "end_time": "2021-03-01T11:19:09.540849",
     "exception": false,
     "start_time": "2021-03-01T11:19:09.512405",
     "status": "completed"
    },
    "tags": []
   },
   "source": [
    "<img src=\"https://cdn-images-1.medium.com/max/1600/1*5XuZ_86Rfce3qyLt7XMlhw.png\" width=600 >"
   ]
  },
  {
   "cell_type": "code",
   "execution_count": 10,
   "metadata": {
    "execution": {
     "iopub.execute_input": "2021-03-01T11:19:09.611260Z",
     "iopub.status.busy": "2021-03-01T11:19:09.610376Z",
     "iopub.status.idle": "2021-03-01T11:19:09.632785Z",
     "shell.execute_reply": "2021-03-01T11:19:09.632264Z"
    },
    "papermill": {
     "duration": 0.063218,
     "end_time": "2021-03-01T11:19:09.632918",
     "exception": false,
     "start_time": "2021-03-01T11:19:09.569700",
     "status": "completed"
    },
    "tags": []
   },
   "outputs": [
    {
     "data": {
      "text/plain": [
       "0.8379888268156425"
      ]
     },
     "execution_count": 10,
     "metadata": {},
     "output_type": "execute_result"
    }
   ],
   "source": [
    "clf.score(X_val, y_val)  # Return the mean accuracy on the given test data and labels"
   ]
  },
  {
   "cell_type": "code",
   "execution_count": 11,
   "metadata": {
    "execution": {
     "iopub.execute_input": "2021-03-01T11:19:09.697817Z",
     "iopub.status.busy": "2021-03-01T11:19:09.697179Z",
     "iopub.status.idle": "2021-03-01T11:19:09.700715Z",
     "shell.execute_reply": "2021-03-01T11:19:09.701343Z"
    },
    "papermill": {
     "duration": 0.038894,
     "end_time": "2021-03-01T11:19:09.701505",
     "exception": false,
     "start_time": "2021-03-01T11:19:09.662611",
     "status": "completed"
    },
    "tags": []
   },
   "outputs": [
    {
     "data": {
      "text/plain": [
       "0.8379888268156425"
      ]
     },
     "execution_count": 11,
     "metadata": {},
     "output_type": "execute_result"
    }
   ],
   "source": [
    "accuracy_score(y_val, preds)"
   ]
  },
  {
   "cell_type": "markdown",
   "metadata": {
    "papermill": {
     "duration": 0.028456,
     "end_time": "2021-03-01T11:19:09.758932",
     "exception": false,
     "start_time": "2021-03-01T11:19:09.730476",
     "status": "completed"
    },
    "tags": []
   },
   "source": [
    "✔️ When to use Accuracy? (Important!)<br>\n",
    "\n",
    "<code>Accuracy</code> is good measure when the target variable class in the data are nearly balanced. example Survived(60%-yes, 40% no)"
   ]
  },
  {
   "cell_type": "markdown",
   "metadata": {
    "papermill": {
     "duration": 0.028845,
     "end_time": "2021-03-01T11:19:09.816543",
     "exception": false,
     "start_time": "2021-03-01T11:19:09.787698",
     "status": "completed"
    },
    "tags": []
   },
   "source": [
    "### Precision\n",
    "\n",
    "<code>Precision</code> is defined as the number of true positives divided by the number of true positives plus the number of false positives. Precision is about being precise"
   ]
  },
  {
   "cell_type": "markdown",
   "metadata": {
    "papermill": {
     "duration": 0.028435,
     "end_time": "2021-03-01T11:19:09.873987",
     "exception": false,
     "start_time": "2021-03-01T11:19:09.845552",
     "status": "completed"
    },
    "tags": []
   },
   "source": [
    "<img src=\"https://cdn-images-1.medium.com/max/640/1*KhlD7Js9leo0B0zfsIfAIA.png\" width=600>"
   ]
  },
  {
   "cell_type": "markdown",
   "metadata": {
    "papermill": {
     "duration": 0.02827,
     "end_time": "2021-03-01T11:19:09.930969",
     "exception": false,
     "start_time": "2021-03-01T11:19:09.902699",
     "status": "completed"
    },
    "tags": []
   },
   "source": [
    "### Recall\n",
    "\n",
    "When it is actually the positive result, how often does it predict correcly"
   ]
  },
  {
   "cell_type": "markdown",
   "metadata": {
    "papermill": {
     "duration": 0.030259,
     "end_time": "2021-03-01T11:19:09.989961",
     "exception": false,
     "start_time": "2021-03-01T11:19:09.959702",
     "status": "completed"
    },
    "tags": []
   },
   "source": [
    "<img src=\"https://cdn-images-1.medium.com/max/640/1*a8hkMGVHg3fl4kDmSIDY_A.png\" width=600>"
   ]
  },
  {
   "cell_type": "markdown",
   "metadata": {
    "papermill": {
     "duration": 0.029054,
     "end_time": "2021-03-01T11:19:10.048175",
     "exception": false,
     "start_time": "2021-03-01T11:19:10.019121",
     "status": "completed"
    },
    "tags": []
   },
   "source": [
    "### F1-Score"
   ]
  },
  {
   "cell_type": "markdown",
   "metadata": {
    "papermill": {
     "duration": 0.028894,
     "end_time": "2021-03-01T11:19:10.105989",
     "exception": false,
     "start_time": "2021-03-01T11:19:10.077095",
     "status": "completed"
    },
    "tags": []
   },
   "source": [
    "<code>F1 score</code> is the weighted average of Precision and Recall. Therefore, this score takes both false positives and false negatives into account. <br>\n",
    "Intuitively it is not as easy to understand as accuracy, but F1 is usually more useful than accuracy, <code>especially if you have an uneven class distribution</code>"
   ]
  },
  {
   "cell_type": "markdown",
   "metadata": {
    "papermill": {
     "duration": 0.028575,
     "end_time": "2021-03-01T11:19:10.163350",
     "exception": false,
     "start_time": "2021-03-01T11:19:10.134775",
     "status": "completed"
    },
    "tags": []
   },
   "source": [
    "<img src=\"https://cdn-images-1.medium.com/max/1600/1*UJxVqLnbSj42eRhasKeLOA.png\">"
   ]
  },
  {
   "cell_type": "code",
   "execution_count": 12,
   "metadata": {
    "execution": {
     "iopub.execute_input": "2021-03-01T11:19:10.223976Z",
     "iopub.status.busy": "2021-03-01T11:19:10.223418Z",
     "iopub.status.idle": "2021-03-01T11:19:10.233943Z",
     "shell.execute_reply": "2021-03-01T11:19:10.234621Z"
    },
    "papermill": {
     "duration": 0.042382,
     "end_time": "2021-03-01T11:19:10.234839",
     "exception": false,
     "start_time": "2021-03-01T11:19:10.192457",
     "status": "completed"
    },
    "tags": []
   },
   "outputs": [
    {
     "name": "stdout",
     "output_type": "stream",
     "text": [
      "              precision    recall  f1-score   support\n",
      "\n",
      "           0       0.82      0.92      0.87       106\n",
      "           1       0.87      0.71      0.78        73\n",
      "\n",
      "    accuracy                           0.84       179\n",
      "   macro avg       0.85      0.82      0.83       179\n",
      "weighted avg       0.84      0.84      0.83       179\n",
      "\n"
     ]
    }
   ],
   "source": [
    "from sklearn.metrics import classification_report\n",
    "\n",
    "print(classification_report(y_val, preds))"
   ]
  },
  {
   "cell_type": "markdown",
   "metadata": {
    "papermill": {
     "duration": 0.028741,
     "end_time": "2021-03-01T11:19:10.294097",
     "exception": false,
     "start_time": "2021-03-01T11:19:10.265356",
     "status": "completed"
    },
    "tags": []
   },
   "source": [
    "### Auc - Roc curve"
   ]
  },
  {
   "cell_type": "markdown",
   "metadata": {
    "papermill": {
     "duration": 0.029031,
     "end_time": "2021-03-01T11:19:10.353594",
     "exception": false,
     "start_time": "2021-03-01T11:19:10.324563",
     "status": "completed"
    },
    "tags": []
   },
   "source": [
    "<code>AUC-ROC</code> curve is a performance measurement for classification problem at various thresholds settings. ROC is a probability curve and AUC represents degree or measure of separability. <br>\n",
    "It tells how much model is capable of distinguishing between classes.<br>\n",
    "Higher the AUC, better the model is at predicting 0s and 1s as 1as.<br>\n",
    "By analogy, Higher the AUC, better the model is at distinguishing between survived and not"
   ]
  },
  {
   "cell_type": "markdown",
   "metadata": {
    "papermill": {
     "duration": 0.029069,
     "end_time": "2021-03-01T11:19:10.412509",
     "exception": false,
     "start_time": "2021-03-01T11:19:10.383440",
     "status": "completed"
    },
    "tags": []
   },
   "source": [
    "The ROC curve is plotted with TPR against the FPR ."
   ]
  },
  {
   "cell_type": "markdown",
   "metadata": {
    "papermill": {
     "duration": 0.030137,
     "end_time": "2021-03-01T11:19:10.472255",
     "exception": false,
     "start_time": "2021-03-01T11:19:10.442118",
     "status": "completed"
    },
    "tags": []
   },
   "source": [
    "<img src=\"https://cdn-images-1.medium.com/max/1600/1*pk05QGzoWhCgRiiFbz-oKQ.png\">"
   ]
  },
  {
   "cell_type": "markdown",
   "metadata": {
    "papermill": {
     "duration": 0.029871,
     "end_time": "2021-03-01T11:19:10.531946",
     "exception": false,
     "start_time": "2021-03-01T11:19:10.502075",
     "status": "completed"
    },
    "tags": []
   },
   "source": [
    "ROC curves are frequently used to show in a graphical way the connection/trade-off between clinical sensitivity and specificity for every possible cut-off for a test or a combination of tests."
   ]
  },
  {
   "cell_type": "code",
   "execution_count": 13,
   "metadata": {
    "execution": {
     "iopub.execute_input": "2021-03-01T11:19:10.595203Z",
     "iopub.status.busy": "2021-03-01T11:19:10.594592Z",
     "iopub.status.idle": "2021-03-01T11:19:10.599216Z",
     "shell.execute_reply": "2021-03-01T11:19:10.599718Z"
    },
    "papermill": {
     "duration": 0.038047,
     "end_time": "2021-03-01T11:19:10.599877",
     "exception": false,
     "start_time": "2021-03-01T11:19:10.561830",
     "status": "completed"
    },
    "tags": []
   },
   "outputs": [],
   "source": [
    "from sklearn.metrics import roc_curve\n",
    "import matplotlib.pyplot as plt\n",
    "%matplotlib inline"
   ]
  },
  {
   "cell_type": "code",
   "execution_count": 14,
   "metadata": {
    "execution": {
     "iopub.execute_input": "2021-03-01T11:19:10.663992Z",
     "iopub.status.busy": "2021-03-01T11:19:10.663412Z",
     "iopub.status.idle": "2021-03-01T11:19:10.826629Z",
     "shell.execute_reply": "2021-03-01T11:19:10.827065Z"
    },
    "papermill": {
     "duration": 0.196668,
     "end_time": "2021-03-01T11:19:10.827256",
     "exception": false,
     "start_time": "2021-03-01T11:19:10.630588",
     "status": "completed"
    },
    "tags": []
   },
   "outputs": [
    {
     "data": {
      "text/plain": [
       "<matplotlib.legend.Legend at 0x7ffba00ae850>"
      ]
     },
     "execution_count": 14,
     "metadata": {},
     "output_type": "execute_result"
    },
    {
     "data": {
      "image/png": "[encoded data removed]",
      "text/plain": [
       "<Figure size 432x288 with 1 Axes>"
      ]
     },
     "metadata": {
      "needs_background": "light"
     },
     "output_type": "display_data"
    }
   ],
   "source": [
    "fpr, tpr, thresholds = roc_curve(y_val,preds)\n",
    "\n",
    "plt.plot(fpr, tpr, label='ROC curve')\n",
    "plt.plot([0, 1], [0, 1], 'k--', label='Random guess')\n",
    "plt.xlabel('False Positive Rate')\n",
    "plt.ylabel('True Positive Rate')\n",
    "plt.title('ROC Curve')\n",
    "plt.xlim([-0.02, 1])\n",
    "plt.ylim([0, 1.02])\n",
    "plt.legend(loc=\"lower right\")"
   ]
  },
  {
   "cell_type": "code",
   "execution_count": null,
   "metadata": {},
   "outputs": [],
   "source": []
  },
  {
   "cell_type": "markdown",
   "metadata": {
    "papermill": {
     "duration": 0.048037,
     "end_time": "2021-03-01T11:19:11.182670",
     "exception": false,
     "start_time": "2021-03-01T11:19:11.134633",
     "status": "completed"
    },
    "tags": []
   },
   "source": [
    "# Summary\n",
    "\n",
    "## TL;DR\n",
    "* <code>Accuracy</code>: is good measure when the target variable class in the data are nearly balanced. example Survived(60%-yes, 40% no) \n",
    "* <code>f1-Score</code>: is the weighted average of Precision and Recall. Therefore, this score takes both false positives and false negatives into account.<br>\n",
    "    * *if you have an <code>uneven class distribution</code>? than use f1-score*\n",
    "* <code>AUC-ROC curve</code> is a performance measurement for classification problem at various thresholds settings. ROC is a probability curve and AUC represents degree or measure of separability.\n"
   ]
  },
  {
   "cell_type": "code",
   "execution_count": 15,
   "metadata": {
    "papermill": {
     "duration": 0.049267,
     "end_time": "2021-03-01T11:19:11.474749",
     "exception": false,
     "start_time": "2021-03-01T11:19:11.425482",
     "status": "completed"
    },
    "tags": []
   },
   "outputs": [],
   "source": [
    "# https://www.kaggle.com/code/leeyj0511/model-evaluation-1-classification-metrics/data?select=train.csv"
   ]
  },
  {
   "cell_type": "code",
   "execution_count": null,
   "metadata": {},
   "outputs": [],
   "source": []
  },
  {
   "cell_type": "code",
   "execution_count": null,
   "metadata": {},
   "outputs": [],
   "source": []
  },
  {
   "cell_type": "code",
   "execution_count": null,
   "metadata": {},
   "outputs": [],
   "source": []
  }
 ],
 "metadata": {
  "kernelspec": {
   "display_name": "Python 3 (ipykernel)",
   "language": "python",
   "name": "python3"
  },
  "language_info": {
   "codemirror_mode": {
    "name": "ipython",
    "version": 3
   },
   "file_extension": ".py",
   "mimetype": "text/x-python",
   "name": "python",
   "nbconvert_exporter": "python",
   "pygments_lexer": "ipython3",
   "version": "3.9.7"
  },
  "papermill": {
   "default_parameters": {},
   "duration": 14.48005,
   "end_time": "2021-03-01T11:19:12.117236",
   "environment_variables": {},
   "exception": null,
   "input_path": "__notebook__.ipynb",
   "output_path": "__notebook__.ipynb",
   "parameters": {},
   "start_time": "2021-03-01T11:18:57.637186",
   "version": "2.2.2"
  }
 },
 "nbformat": 4,
 "nbformat_minor": 4
}
