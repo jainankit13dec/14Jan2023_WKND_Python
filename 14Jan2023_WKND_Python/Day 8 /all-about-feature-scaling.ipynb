{
 "cells": [
  {
   "cell_type": "markdown",
   "id": "suspended-lyric",
   "metadata": {
    "papermill": {
     "duration": 0.033489,
     "end_time": "2021-07-08T03:04:36.394890",
     "exception": false,
     "start_time": "2021-07-08T03:04:36.361401",
     "status": "completed"
    },
    "tags": []
   },
   "source": [
    "# All about Feature Scaling:"
   ]
  },
  {
   "cell_type": "markdown",
   "id": "nuclear-blink",
   "metadata": {
    "papermill": {
     "duration": 0.031607,
     "end_time": "2021-07-08T03:04:36.459361",
     "exception": false,
     "start_time": "2021-07-08T03:04:36.427754",
     "status": "completed"
    },
    "tags": []
   },
   "source": [
    "<img src= \"https://miro.medium.com/max/2400/1*_783tuRRVcTUwyFWB8VG0g.png\" width=\"100%\"  align=\"center\"  hspace=\"5%\" vspace=\"5%\"/>"
   ]
  },
  {
   "cell_type": "markdown",
   "id": "fewer-lease",
   "metadata": {
    "papermill": {
     "duration": 0.032041,
     "end_time": "2021-07-08T03:04:36.524204",
     "exception": false,
     "start_time": "2021-07-08T03:04:36.492163",
     "status": "completed"
    },
    "tags": []
   },
   "source": [
    "Real-world datasets often contain features that are varying in degrees of magnitude, range and units. Therefore, in order for machine learning models to interpret these features on the same scale, we need to perform feature scaling.\n",
    "\n",
    "Feature scaling in machine learning is one of the most critical steps during the pre-processing of data before creating a machine learning model. Scaling can make a difference between a weak machine learning model and a better one.</p>"
   ]
  },
  {
   "cell_type": "markdown",
   "id": "timely-profit",
   "metadata": {
    "papermill": {
     "duration": 0.031774,
     "end_time": "2021-07-08T03:04:36.908133",
     "exception": false,
     "start_time": "2021-07-08T03:04:36.876359",
     "status": "completed"
    },
    "tags": []
   },
   "source": [
    "First of all Why we care About Feature Scaling?</b></p>"
   ]
  },
  {
   "cell_type": "markdown",
   "id": "selected-stress",
   "metadata": {
    "papermill": {
     "duration": 0.031771,
     "end_time": "2021-07-08T03:04:36.972334",
     "exception": false,
     "start_time": "2021-07-08T03:04:36.940563",
     "status": "completed"
    },
    "tags": []
   },
   "source": [
    "Machine learning algorithm just sees number — if there is a vast difference in the range say few ranging in thousands and few ranging in the tens, and it makes the underlying assumption that higher ranging numbers have superiority of some sort. So these more significant number starts playing a more decisive role while training the model.<br>\n",
    "The machine learning algorithm works on numbers and does not know what that number represents. A weight of 10 grams and a price of 10 dollars represents completely two different things — which is a no brainer for humans, but for a model as a feature, it treats both as same.</p>"
   ]
  },
  {
   "cell_type": "markdown",
   "id": "forced-refrigerator",
   "metadata": {
    "papermill": {
     "duration": 0.031968,
     "end_time": "2021-07-08T03:04:37.036821",
     "exception": false,
     "start_time": "2021-07-08T03:04:37.004853",
     "status": "completed"
    },
    "tags": []
   },
   "source": [
    "Some examples of algorithms where feature scaling matters are:<br> K-nearest neighbors (KNN) with a Euclidean distance measure is sensitive to magnitudes and hence should be scaled for all features to weigh in equally. <br> K-Means uses the Euclidean distance measure here feature scaling matters. <br> Scaling is critical while performing Principal Component Analysis(PCA). PCA tries to get the features with maximum variance, and the variance is high for high magnitude features and skews the PCA towards high magnitude features.<br> We can speed up gradient descent by scaling because θ descends quickly on small ranges and slowly on large ranges, and oscillates inefficiently down to the optimum when the variables are very uneven.<br> \n",
    "\n",
    "Algorithms that do not require normalization/scaling are the ones that rely on rules.<br> They would not be affected by any monotonic transformations of the variables. Scaling is a monotonic transformation.<br> Examples of algorithms in this category are all the tree-based algorithms — CART, Random Forests, Gradient Boosted Decision Trees. These algorithms utilize rules (series of inequalities) and do not require normalization.</p>"
   ]
  },
  {
   "cell_type": "markdown",
   "id": "cross-moderator",
   "metadata": {
    "papermill": {
     "duration": 0.031829,
     "end_time": "2021-07-08T03:04:37.101184",
     "exception": false,
     "start_time": "2021-07-08T03:04:37.069355",
     "status": "completed"
    },
    "tags": []
   },
   "source": [
    "1. IMPORTING LIBRARIES:</p>"
   ]
  },
  {
   "cell_type": "code",
   "execution_count": 1,
   "id": "subject-right",
   "metadata": {
    "_kg_hide-input": false,
    "execution": {
     "iopub.execute_input": "2021-07-08T03:04:37.176399Z",
     "iopub.status.busy": "2021-07-08T03:04:37.174345Z",
     "iopub.status.idle": "2021-07-08T03:04:38.111519Z",
     "shell.execute_reply": "2021-07-08T03:04:38.110055Z",
     "shell.execute_reply.started": "2021-07-02T17:40:34.717834Z"
    },
    "papermill": {
     "duration": 0.978182,
     "end_time": "2021-07-08T03:04:38.111748",
     "exception": false,
     "start_time": "2021-07-08T03:04:37.133566",
     "status": "completed"
    },
    "tags": []
   },
   "outputs": [],
   "source": [
    "import pandas as pd\n",
    "import numpy as np\n",
    "import matplotlib.pyplot as plt\n",
    "import seaborn as sns\n",
    "import warnings\n",
    "warnings.filterwarnings(\"ignore\")\n",
    "\n"
   ]
  },
  {
   "cell_type": "markdown",
   "id": "undefined-finder",
   "metadata": {
    "papermill": {
     "duration": 0.03198,
     "end_time": "2021-07-08T03:04:38.176395",
     "exception": false,
     "start_time": "2021-07-08T03:04:38.144415",
     "status": "completed"
    },
    "tags": []
   },
   "source": [
    "2. IMPORTING DATA SETS:</p>"
   ]
  },
  {
   "cell_type": "code",
   "execution_count": 2,
   "id": "velvet-preparation",
   "metadata": {
    "execution": {
     "iopub.execute_input": "2021-07-08T03:04:38.246236Z",
     "iopub.status.busy": "2021-07-08T03:04:38.245560Z",
     "iopub.status.idle": "2021-07-08T03:04:38.263175Z",
     "shell.execute_reply": "2021-07-08T03:04:38.262576Z",
     "shell.execute_reply.started": "2021-07-02T17:37:16.438929Z"
    },
    "papermill": {
     "duration": 0.054826,
     "end_time": "2021-07-08T03:04:38.263328",
     "exception": false,
     "start_time": "2021-07-08T03:04:38.208502",
     "status": "completed"
    },
    "tags": []
   },
   "outputs": [],
   "source": [
    "df=pd.read_csv(\"Iris.csv\")"
   ]
  },
  {
   "cell_type": "markdown",
   "id": "physical-thomas",
   "metadata": {
    "papermill": {
     "duration": 0.032259,
     "end_time": "2021-07-08T03:04:38.328120",
     "exception": false,
     "start_time": "2021-07-08T03:04:38.295861",
     "status": "completed"
    },
    "tags": []
   },
   "source": [
    "3. Most Common Techniques:</p>"
   ]
  },
  {
   "cell_type": "markdown",
   "id": "little-forwarding",
   "metadata": {
    "papermill": {
     "duration": 0.032271,
     "end_time": "2021-07-08T03:04:38.392598",
     "exception": false,
     "start_time": "2021-07-08T03:04:38.360327",
     "status": "completed"
    },
    "tags": []
   },
   "source": [
    "3.1 Min-Max Scaler:</p>"
   ]
  },
  {
   "cell_type": "markdown",
   "id": "hungry-backup",
   "metadata": {
    "papermill": {
     "duration": 0.031971,
     "end_time": "2021-07-08T03:04:38.456794",
     "exception": false,
     "start_time": "2021-07-08T03:04:38.424823",
     "status": "completed"
    },
    "tags": []
   },
   "source": [
    "<img src= \"https://miro.medium.com/max/229/0*Gy668nQfirqf6W4c\" width=\"50%\"  align=\"center\"  hspace=\"5%\" vspace=\"5%\"  />"
   ]
  },
  {
   "cell_type": "markdown",
   "id": "preceding-western",
   "metadata": {
    "papermill": {
     "duration": 0.033178,
     "end_time": "2021-07-08T03:04:38.522276",
     "exception": false,
     "start_time": "2021-07-08T03:04:38.489098",
     "status": "completed"
    },
    "tags": []
   },
   "source": [
    "Transform features by scaling each feature to a given range. This estimator scales and translates each feature individually such that it is in the given range on the training set, e.g., between zero and one. This Scaler shrinks the data within the range of -1 to 1 if there are negative values. We can set the range like [0,1] or [0,5] or [-1,1].\n",
    "This Scaler responds well if the standard deviation is small and when a distribution is not Gaussian. This Scaler is sensitive to outliers.</p>"
   ]
  },
  {
   "cell_type": "code",
   "execution_count": 3,
   "id": "cooperative-texture",
   "metadata": {
    "execution": {
     "iopub.execute_input": "2021-07-08T03:04:38.596128Z",
     "iopub.status.busy": "2021-07-08T03:04:38.595357Z",
     "iopub.status.idle": "2021-07-08T03:04:39.020210Z",
     "shell.execute_reply": "2021-07-08T03:04:39.019551Z",
     "shell.execute_reply.started": "2021-07-02T17:41:20.818434Z"
    },
    "papermill": {
     "duration": 0.466076,
     "end_time": "2021-07-08T03:04:39.020358",
     "exception": false,
     "start_time": "2021-07-08T03:04:38.554282",
     "status": "completed"
    },
    "tags": []
   },
   "outputs": [
    {
     "data": {
      "image/png": "[encoded data removed]",
      "text/plain": [
       "<Figure size 432x288 with 1 Axes>"
      ]
     },
     "metadata": {
      "needs_background": "light"
     },
     "output_type": "display_data"
    }
   ],
   "source": [
    "from sklearn.preprocessing import MinMaxScaler\n",
    "scaler = MinMaxScaler()\n",
    "df = pd.DataFrame({'WEIGHT': [15, 18, 12,10],\n",
    "                   'PRICE': [1,3,2,5]},\n",
    "                   index = ['Orange','Apple','Banana','Grape'])\n",
    "df1 = pd.DataFrame(scaler.fit_transform(df),\n",
    "                   columns=['WEIGHT','PRICE'],\n",
    "                   index = ['Orange','Apple','Banana','Grape'])\n",
    "\n",
    "\n",
    "ax = df.plot.scatter(x='WEIGHT', y='PRICE',color=['red','green','blue','yellow'], \n",
    "                     marker = '*',s=80, label='BREFORE SCALING');\n",
    "\n",
    "df1.plot.scatter(x='WEIGHT', y='PRICE', color=['red','green','blue','yellow'],\n",
    "                 marker = 'o',s=60,label='AFTER SCALING', ax = ax);\n",
    "\n",
    "plt.axhline(0, color='red',alpha=0.2)\n",
    "plt.axvline(0, color='red',alpha=0.2);"
   ]
  },
  {
   "cell_type": "markdown",
   "id": "automated-antigua",
   "metadata": {
    "papermill": {
     "duration": 0.033423,
     "end_time": "2021-07-08T03:04:39.088124",
     "exception": false,
     "start_time": "2021-07-08T03:04:39.054701",
     "status": "completed"
    },
    "tags": []
   },
   "source": [
    "Let's Try on Iris Data Set:</p>"
   ]
  },
  {
   "cell_type": "code",
   "execution_count": 4,
   "id": "adjustable-martin",
   "metadata": {
    "execution": {
     "iopub.execute_input": "2021-07-08T03:04:39.167387Z",
     "iopub.status.busy": "2021-07-08T03:04:39.166626Z",
     "iopub.status.idle": "2021-07-08T03:04:39.408329Z",
     "shell.execute_reply": "2021-07-08T03:04:39.407775Z",
     "shell.execute_reply.started": "2021-07-02T17:41:47.673889Z"
    },
    "papermill": {
     "duration": 0.285897,
     "end_time": "2021-07-08T03:04:39.408483",
     "exception": false,
     "start_time": "2021-07-08T03:04:39.122586",
     "status": "completed"
    },
    "tags": []
   },
   "outputs": [
    {
     "data": {
      "image/png": "[encoded data removed]",
      "text/plain": [
       "<Figure size 432x288 with 1 Axes>"
      ]
     },
     "metadata": {
      "needs_background": "light"
     },
     "output_type": "display_data"
    }
   ],
   "source": [
    "df=pd.read_csv(\"Iris.csv\")\n",
    "df.drop(\"Species\",axis=1,inplace=True)\n",
    "from sklearn.preprocessing import MinMaxScaler\n",
    "scaler=MinMaxScaler()\n",
    "df1=pd.DataFrame(scaler.fit_transform(df),columns=['Id', 'SepalLengthCm', 'SepalWidthCm', 'PetalLengthCm', 'PetalWidthCm'])\n",
    "ax=df.plot.scatter(x=\"SepalLengthCm\",y=\"SepalWidthCm\",marker=\"*\",label=\"Before-Scaling\",color=\"red\")\n",
    "df1.plot.scatter(x=\"SepalLengthCm\",y=\"SepalWidthCm\",marker=\"+\",label=\"After-Scaling\",ax=ax)\n",
    "plt.axhline(0, color='red',alpha=0.2)\n",
    "plt.axvline(0, color='red',alpha=0.2);\n",
    "plt.show()"
   ]
  },
  {
   "cell_type": "markdown",
   "id": "stone-aviation",
   "metadata": {
    "papermill": {
     "duration": 0.033307,
     "end_time": "2021-07-08T03:04:39.476001",
     "exception": false,
     "start_time": "2021-07-08T03:04:39.442694",
     "status": "completed"
    },
    "tags": []
   },
   "source": [
    "3.2 Standard Scaler:</p>"
   ]
  },
  {
   "cell_type": "markdown",
   "id": "exclusive-cathedral",
   "metadata": {
    "papermill": {
     "duration": 0.033626,
     "end_time": "2021-07-08T03:04:39.544533",
     "exception": false,
     "start_time": "2021-07-08T03:04:39.510907",
     "status": "completed"
    },
    "tags": []
   },
   "source": [
    "The Standard Scaler assumes data is normally distributed within each feature and scales them such that the distribution centered around 0, with a standard deviation of 1.\n",
    "Centering and scaling happen independently on each feature by computing the relevant statistics on the samples in the training set. If data is not normally distributed, this is not the best Scaler to use.</p>"
   ]
  },
  {
   "cell_type": "code",
   "execution_count": 5,
   "id": "incorporate-overview",
   "metadata": {
    "execution": {
     "iopub.execute_input": "2021-07-08T03:04:39.701674Z",
     "iopub.status.busy": "2021-07-08T03:04:39.661129Z",
     "iopub.status.idle": "2021-07-08T03:04:39.837206Z",
     "shell.execute_reply": "2021-07-08T03:04:39.836540Z",
     "shell.execute_reply.started": "2021-07-02T17:41:36.992594Z"
    },
    "papermill": {
     "duration": 0.258759,
     "end_time": "2021-07-08T03:04:39.837348",
     "exception": false,
     "start_time": "2021-07-08T03:04:39.578589",
     "status": "completed"
    },
    "tags": []
   },
   "outputs": [
    {
     "data": {
      "image/png": "[encoded data removed]",
      "text/plain": [
       "<Figure size 432x288 with 1 Axes>"
      ]
     },
     "metadata": {
      "needs_background": "light"
     },
     "output_type": "display_data"
    }
   ],
   "source": [
    "from sklearn.preprocessing import StandardScaler\n",
    "standardscaler=StandardScaler()\n",
    "\n",
    "\n",
    "df = pd.DataFrame({'WEIGHT': [15, 18, 12,10],\n",
    "                   'PRICE': [1,3,2,5]},\n",
    "                   index = ['Orange','Apple','Banana','Grape'])\n",
    "\n",
    "\n",
    "df1=pd.DataFrame(scaler.fit_transform(df),columns=['WEIGHT', 'PRICE'],index = ['Orange','Apple','Banana','Grape'])\n",
    "\n",
    "ax=df.plot.scatter(x=\"WEIGHT\",y=\"PRICE\",marker=\"*\",s=60,label=\"Before Scaling\",color=\"red\")\n",
    "df1.plot.scatter(x=\"WEIGHT\",y=\"PRICE\",marker=\"*\",s=60,label=\"After Scaling\",ax=ax)\n",
    "plt.axhline(0, color='red',alpha=0.2)\n",
    "plt.axvline(0, color='red',alpha=0.2);"
   ]
  },
  {
   "cell_type": "markdown",
   "id": "finnish-school",
   "metadata": {
    "papermill": {
     "duration": 0.034273,
     "end_time": "2021-07-08T03:04:39.906108",
     "exception": false,
     "start_time": "2021-07-08T03:04:39.871835",
     "status": "completed"
    },
    "tags": []
   },
   "source": [
    "Let's Try on Iris Data Set:</p>"
   ]
  },
  {
   "cell_type": "code",
   "execution_count": 6,
   "id": "increasing-findings",
   "metadata": {
    "execution": {
     "iopub.execute_input": "2021-07-08T03:04:39.984488Z",
     "iopub.status.busy": "2021-07-08T03:04:39.983716Z",
     "iopub.status.idle": "2021-07-08T03:04:40.199327Z",
     "shell.execute_reply": "2021-07-08T03:04:40.199768Z",
     "shell.execute_reply.started": "2021-07-02T17:41:43.25431Z"
    },
    "papermill": {
     "duration": 0.25905,
     "end_time": "2021-07-08T03:04:40.199972",
     "exception": false,
     "start_time": "2021-07-08T03:04:39.940922",
     "status": "completed"
    },
    "tags": []
   },
   "outputs": [
    {
     "data": {
      "image/png": "[encoded data removed]",
      "text/plain": [
       "<Figure size 432x288 with 1 Axes>"
      ]
     },
     "metadata": {
      "needs_background": "light"
     },
     "output_type": "display_data"
    }
   ],
   "source": [
    "df=pd.read_csv(\"Iris.csv\")\n",
    "df.drop(\"Species\",axis=1,inplace=True)\n",
    "from sklearn.preprocessing import StandardScaler\n",
    "scaler=StandardScaler()\n",
    "df1=pd.DataFrame(scaler.fit_transform(df),columns=['Id', 'SepalLengthCm', 'SepalWidthCm', 'PetalLengthCm', 'PetalWidthCm'])\n",
    "ax=df.plot.scatter(x=\"SepalLengthCm\",y=\"SepalWidthCm\",marker=\"*\",label=\"Before-Scaling\",color=\"red\")\n",
    "df1.plot.scatter(x=\"SepalLengthCm\",y=\"SepalWidthCm\",marker=\"+\",label=\"After-Scaling\",ax=ax)\n",
    "plt.axhline(0, color='red',alpha=0.2)\n",
    "plt.axvline(0, color='red',alpha=0.2);\n",
    "plt.show()"
   ]
  },
  {
   "cell_type": "code",
   "execution_count": null,
   "id": "521cc737",
   "metadata": {},
   "outputs": [],
   "source": []
  },
  {
   "cell_type": "code",
   "execution_count": null,
   "id": "c728f835",
   "metadata": {},
   "outputs": [],
   "source": []
  },
  {
   "cell_type": "markdown",
   "id": "anonymous-lobby",
   "metadata": {
    "papermill": {
     "duration": 0.034998,
     "end_time": "2021-07-08T03:04:40.270264",
     "exception": false,
     "start_time": "2021-07-08T03:04:40.235266",
     "status": "completed"
    },
    "tags": []
   },
   "source": [
    "3.3 Max Abs Scaler:</p>"
   ]
  },
  {
   "cell_type": "markdown",
   "id": "incident-survivor",
   "metadata": {
    "papermill": {
     "duration": 0.034909,
     "end_time": "2021-07-08T03:04:40.340390",
     "exception": false,
     "start_time": "2021-07-08T03:04:40.305481",
     "status": "completed"
    },
    "tags": []
   },
   "source": [
    "Scale each feature by its maximum absolute value. This estimator scales and translates each feature individually such that the maximal absolute value of each feature in the training set is 1.0. It does not shift/center the data and thus does not destroy any sparsity.\n",
    "On positive-only data, this Scaler behaves similarly to Min Max Scaler and, therefore, also suffers from the presence of significant outliers.</p>"
   ]
  },
  {
   "cell_type": "code",
   "execution_count": 7,
   "id": "worst-kruger",
   "metadata": {
    "execution": {
     "iopub.execute_input": "2021-07-08T03:04:40.414507Z",
     "iopub.status.busy": "2021-07-08T03:04:40.413547Z",
     "iopub.status.idle": "2021-07-08T03:04:40.608570Z",
     "shell.execute_reply": "2021-07-08T03:04:40.609113Z",
     "shell.execute_reply.started": "2021-07-02T17:42:43.253353Z"
    },
    "papermill": {
     "duration": 0.23358,
     "end_time": "2021-07-08T03:04:40.609282",
     "exception": false,
     "start_time": "2021-07-08T03:04:40.375702",
     "status": "completed"
    },
    "tags": []
   },
   "outputs": [
    {
     "data": {
      "image/png": "[encoded data removed]",
      "text/plain": [
       "<Figure size 432x288 with 1 Axes>"
      ]
     },
     "metadata": {
      "needs_background": "light"
     },
     "output_type": "display_data"
    }
   ],
   "source": [
    "from sklearn.preprocessing import MaxAbsScaler\n",
    "maxabsscaler=MaxAbsScaler()\n",
    "df = pd.DataFrame({'WEIGHT': [15, 18, 12,10],\n",
    "                   'PRICE': [1,3,2,5]},\n",
    "                   index = ['Orange','Apple','Banana','Grape'])\n",
    "df1=pd.DataFrame(maxabsscaler.fit_transform(df),columns=['WEIGHT', 'PRICE'],index = ['Orange','Apple','Banana','Grape'])\n",
    "\n",
    "ax=df.plot.scatter(x=\"WEIGHT\",y=\"PRICE\",marker=\"+\",s=60,label=\"Before Scaling\",color=\"red\")\n",
    "df1.plot.scatter(x=\"WEIGHT\",y=\"PRICE\",marker=\"*\",s=60,label=\"After Scaling\",ax=ax)\n",
    "plt.axhline(0, color='red',alpha=0.2)\n",
    "plt.axvline(0, color='red',alpha=0.2);"
   ]
  },
  {
   "cell_type": "markdown",
   "id": "defined-sustainability",
   "metadata": {
    "papermill": {
     "duration": 0.035571,
     "end_time": "2021-07-08T03:04:40.680975",
     "exception": false,
     "start_time": "2021-07-08T03:04:40.645404",
     "status": "completed"
    },
    "tags": []
   },
   "source": [
    "Let's Try on Iris Data Set:"
   ]
  },
  {
   "cell_type": "code",
   "execution_count": 8,
   "id": "intimate-bachelor",
   "metadata": {
    "execution": {
     "iopub.execute_input": "2021-07-08T03:04:40.760860Z",
     "iopub.status.busy": "2021-07-08T03:04:40.760183Z",
     "iopub.status.idle": "2021-07-08T03:04:41.148687Z",
     "shell.execute_reply": "2021-07-08T03:04:41.149181Z",
     "shell.execute_reply.started": "2021-07-02T17:42:49.152861Z"
    },
    "papermill": {
     "duration": 0.432487,
     "end_time": "2021-07-08T03:04:41.149361",
     "exception": false,
     "start_time": "2021-07-08T03:04:40.716874",
     "status": "completed"
    },
    "scrolled": true,
    "tags": []
   },
   "outputs": [
    {
     "data": {
      "image/png": "[encoded data removed]",
      "text/plain": [
       "<Figure size 432x288 with 1 Axes>"
      ]
     },
     "metadata": {
      "needs_background": "light"
     },
     "output_type": "display_data"
    }
   ],
   "source": [
    "df=pd.read_csv(\"Iris.csv\")\n",
    "df.drop(\"Species\",axis=1,inplace=True)\n",
    "from sklearn.preprocessing import MaxAbsScaler\n",
    "maxabsscaler=MaxAbsScaler()\n",
    "df1=pd.DataFrame(maxabsscaler.fit_transform(df),columns=['Id', 'SepalLengthCm', 'SepalWidthCm', 'PetalLengthCm', 'PetalWidthCm'])\n",
    "ax=df.plot.scatter(x=\"SepalLengthCm\",y=\"SepalWidthCm\",marker=\"*\",label=\"Before-Scaling\",color=\"red\")\n",
    "df1.plot.scatter(x=\"SepalLengthCm\",y=\"SepalWidthCm\",marker=\"+\",label=\"After-Scaling\",ax=ax)\n",
    "plt.axhline(0, color='red',alpha=0.2)\n",
    "plt.axvline(0, color='red',alpha=0.2);\n",
    "plt.show()"
   ]
  },
  {
   "cell_type": "code",
   "execution_count": null,
   "id": "0b36d6df",
   "metadata": {},
   "outputs": [],
   "source": []
  },
  {
   "cell_type": "code",
   "execution_count": null,
   "id": "482552cb",
   "metadata": {},
   "outputs": [],
   "source": []
  },
  {
   "cell_type": "markdown",
   "id": "affected-license",
   "metadata": {
    "papermill": {
     "duration": 0.036764,
     "end_time": "2021-07-08T03:04:41.223762",
     "exception": false,
     "start_time": "2021-07-08T03:04:41.186998",
     "status": "completed"
    },
    "tags": []
   },
   "source": [
    "3.4 Robust Scaler:</p>"
   ]
  },
  {
   "cell_type": "markdown",
   "id": "english-handy",
   "metadata": {
    "papermill": {
     "duration": 0.0365,
     "end_time": "2021-07-08T03:04:41.297125",
     "exception": false,
     "start_time": "2021-07-08T03:04:41.260625",
     "status": "completed"
    },
    "tags": []
   },
   "source": [
    "As the name suggests, this Scaler is robust to outliers. If our data contains many outliers, scaling using the mean and standard deviation of the data won’t work well.\n",
    "This Scaler removes the median and scales the data according to the quantile range (defaults to IQR: Interquartile Range). The IQR is the range between the 1st quartile (25th quantile) and the 3rd quartile (75th quantile). The centering and scaling statistics of this Scaler are based on percentiles and are therefore not influenced by a few numbers of huge marginal outliers. Note that the outliers themselves are still present in the transformed data. If a separate outlier clipping is desirable, a non-linear transformation is required.</p>"
   ]
  },
  {
   "cell_type": "code",
   "execution_count": 9,
   "id": "ordinary-piano",
   "metadata": {
    "execution": {
     "iopub.execute_input": "2021-07-08T03:04:41.375444Z",
     "iopub.status.busy": "2021-07-08T03:04:41.374471Z",
     "iopub.status.idle": "2021-07-08T03:04:41.627099Z",
     "shell.execute_reply": "2021-07-08T03:04:41.626578Z",
     "shell.execute_reply.started": "2021-07-02T17:43:07.773648Z"
    },
    "papermill": {
     "duration": 0.293013,
     "end_time": "2021-07-08T03:04:41.627241",
     "exception": false,
     "start_time": "2021-07-08T03:04:41.334228",
     "status": "completed"
    },
    "tags": []
   },
   "outputs": [
    {
     "data": {
      "image/png": "[encoded data removed]",
      "text/plain": [
       "<Figure size 864x432 with 1 Axes>"
      ]
     },
     "metadata": {
      "needs_background": "light"
     },
     "output_type": "display_data"
    }
   ],
   "source": [
    "dfr = pd.DataFrame({'WEIGHT': [15, 18, 12,15,100],\n",
    "                   'PRICE': [1,3,2,5,20]},\n",
    "                   index = ['Orange','Apple','Banana','Grape','Jackfruit'])\n",
    "\n",
    "from sklearn.preprocessing import StandardScaler\n",
    "scaler = StandardScaler()\n",
    "df21 = pd.DataFrame(scaler.fit_transform(dfr),\n",
    "                   columns=['WEIGHT','PRICE'],\n",
    "                   index = ['Orange','Apple','Banana','Grape','Jackfruit'])\n",
    "ax = dfr.plot.scatter(x='WEIGHT', y='PRICE',color=\"red\", \n",
    "                     marker = '*',s=80, label='BREFORE SCALING');\n",
    "df21.plot.scatter(x='WEIGHT', y='PRICE', color=\"green\",\n",
    "                 marker = 'o',s=60,label='STANDARD', ax = ax,figsize=(12,6))\n",
    "from sklearn.preprocessing import RobustScaler\n",
    "scaler = RobustScaler()\n",
    "df31 = pd.DataFrame(scaler.fit_transform(dfr),\n",
    "                   columns=['WEIGHT','PRICE'],\n",
    "                   index = ['Orange','Apple','Banana','Grape','Jackfruit'])\n",
    "df31.plot.scatter(x='WEIGHT', y='PRICE', color=\"black\",\n",
    "                 marker = 'v',s=60,label='ROBUST', ax = ax,figsize=(12,6))\n",
    "plt.axhline(0, color='red',alpha=0.2)\n",
    "plt.axvline(0, color='red',alpha=0.2);"
   ]
  },
  {
   "cell_type": "code",
   "execution_count": null,
   "id": "dfea57b8",
   "metadata": {},
   "outputs": [],
   "source": []
  },
  {
   "cell_type": "code",
   "execution_count": null,
   "id": "774d9bbc",
   "metadata": {},
   "outputs": [],
   "source": []
  }
 ],
 "metadata": {
  "kernelspec": {
   "display_name": "Python 3 (ipykernel)",
   "language": "python",
   "name": "python3"
  },
  "language_info": {
   "codemirror_mode": {
    "name": "ipython",
    "version": 3
   },
   "file_extension": ".py",
   "mimetype": "text/x-python",
   "name": "python",
   "nbconvert_exporter": "python",
   "pygments_lexer": "ipython3",
   "version": "3.9.7"
  },
  "papermill": {
   "default_parameters": {},
   "duration": 18.969489,
   "end_time": "2021-07-08T03:04:46.515702",
   "environment_variables": {},
   "exception": null,
   "input_path": "__notebook__.ipynb",
   "output_path": "__notebook__.ipynb",
   "parameters": {},
   "start_time": "2021-07-08T03:04:27.546213",
   "version": "2.3.3"
  }
 },
 "nbformat": 4,
 "nbformat_minor": 5
}
