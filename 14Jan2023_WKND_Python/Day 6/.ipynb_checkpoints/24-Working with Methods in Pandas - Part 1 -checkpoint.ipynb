{
 "cells": [
  {
   "cell_type": "markdown",
   "metadata": {},
   "source": [
    "# Working with Methods in Pandas - Part 1 "
   ]
  },
  {
   "cell_type": "code",
   "execution_count": 1,
   "metadata": {},
   "outputs": [],
   "source": [
    "import pandas as pd ; import numpy as np"
   ]
  },
  {
   "cell_type": "code",
   "execution_count": 2,
   "metadata": {},
   "outputs": [],
   "source": [
    "date=pd.date_range(\n",
    "    start=\"2018\",end=\"2019\", freq=\"BM\")"
   ]
  },
  {
   "cell_type": "code",
   "execution_count": 3,
   "metadata": {},
   "outputs": [
    {
     "data": {
      "text/plain": [
       "2018-01-31    0.564700\n",
       "2018-02-28   -0.934600\n",
       "2018-03-30    1.191473\n",
       "2018-04-30    0.646392\n",
       "2018-05-31    0.047729\n",
       "2018-06-29    0.678134\n",
       "2018-07-31   -1.463401\n",
       "2018-08-31   -1.055161\n",
       "2018-09-28    0.887572\n",
       "2018-10-31    0.087925\n",
       "2018-11-30   -0.943662\n",
       "2018-12-31    0.858955\n",
       "Freq: BM, dtype: float64"
      ]
     },
     "execution_count": 3,
     "metadata": {},
     "output_type": "execute_result"
    }
   ],
   "source": [
    "ts=pd.Series(\n",
    "    np.random.randn(len(date)),index=date)\n",
    "ts"
   ]
  },
  {
   "cell_type": "code",
   "execution_count": 4,
   "metadata": {},
   "outputs": [
    {
     "data": {
      "text/plain": [
       "DatetimeIndex(['2018-01-31', '2018-02-28', '2018-03-30', '2018-04-30',\n",
       "               '2018-05-31', '2018-06-29', '2018-07-31', '2018-08-31',\n",
       "               '2018-09-28', '2018-10-31', '2018-11-30', '2018-12-31'],\n",
       "              dtype='datetime64[ns]', freq='BM')"
      ]
     },
     "execution_count": 4,
     "metadata": {},
     "output_type": "execute_result"
    }
   ],
   "source": [
    "ts.index"
   ]
  },
  {
   "cell_type": "markdown",
   "metadata": {},
   "source": [
    "## Reading a Time Series Data Set"
   ]
  },
  {
   "cell_type": "code",
   "execution_count": 5,
   "metadata": {},
   "outputs": [],
   "source": [
    "fb=pd.read_csv(\"Datasets/FB.csv\")"
   ]
  },
  {
   "cell_type": "code",
   "execution_count": 6,
   "metadata": {},
   "outputs": [
    {
     "data": {
      "text/html": [
       "<div>\n",
       "<style scoped>\n",
       "    .dataframe tbody tr th:only-of-type {\n",
       "        vertical-align: middle;\n",
       "    }\n",
       "\n",
       "    .dataframe tbody tr th {\n",
       "        vertical-align: top;\n",
       "    }\n",
       "\n",
       "    .dataframe thead th {\n",
       "        text-align: right;\n",
       "    }\n",
       "</style>\n",
       "<table border=\"1\" class=\"dataframe\">\n",
       "  <thead>\n",
       "    <tr style=\"text-align: right;\">\n",
       "      <th></th>\n",
       "      <th>Date</th>\n",
       "      <th>Open</th>\n",
       "      <th>High</th>\n",
       "      <th>Low</th>\n",
       "      <th>Close</th>\n",
       "      <th>Adj Close</th>\n",
       "      <th>Volume</th>\n",
       "    </tr>\n",
       "  </thead>\n",
       "  <tbody>\n",
       "    <tr>\n",
       "      <th>0</th>\n",
       "      <td>2018-07-30</td>\n",
       "      <td>175.300003</td>\n",
       "      <td>175.300003</td>\n",
       "      <td>166.559998</td>\n",
       "      <td>171.059998</td>\n",
       "      <td>171.059998</td>\n",
       "      <td>65280800</td>\n",
       "    </tr>\n",
       "    <tr>\n",
       "      <th>1</th>\n",
       "      <td>2018-07-31</td>\n",
       "      <td>170.669998</td>\n",
       "      <td>174.240005</td>\n",
       "      <td>170.000000</td>\n",
       "      <td>172.580002</td>\n",
       "      <td>172.580002</td>\n",
       "      <td>40356500</td>\n",
       "    </tr>\n",
       "    <tr>\n",
       "      <th>2</th>\n",
       "      <td>2018-08-01</td>\n",
       "      <td>173.929993</td>\n",
       "      <td>175.080002</td>\n",
       "      <td>170.899994</td>\n",
       "      <td>171.649994</td>\n",
       "      <td>171.649994</td>\n",
       "      <td>34042100</td>\n",
       "    </tr>\n",
       "    <tr>\n",
       "      <th>3</th>\n",
       "      <td>2018-08-02</td>\n",
       "      <td>170.679993</td>\n",
       "      <td>176.789993</td>\n",
       "      <td>170.270004</td>\n",
       "      <td>176.369995</td>\n",
       "      <td>176.369995</td>\n",
       "      <td>32400000</td>\n",
       "    </tr>\n",
       "    <tr>\n",
       "      <th>4</th>\n",
       "      <td>2018-08-03</td>\n",
       "      <td>177.690002</td>\n",
       "      <td>178.850006</td>\n",
       "      <td>176.149994</td>\n",
       "      <td>177.779999</td>\n",
       "      <td>177.779999</td>\n",
       "      <td>24763400</td>\n",
       "    </tr>\n",
       "  </tbody>\n",
       "</table>\n",
       "</div>"
      ],
      "text/plain": [
       "         Date        Open        High         Low       Close   Adj Close  \\\n",
       "0  2018-07-30  175.300003  175.300003  166.559998  171.059998  171.059998   \n",
       "1  2018-07-31  170.669998  174.240005  170.000000  172.580002  172.580002   \n",
       "2  2018-08-01  173.929993  175.080002  170.899994  171.649994  171.649994   \n",
       "3  2018-08-02  170.679993  176.789993  170.270004  176.369995  176.369995   \n",
       "4  2018-08-03  177.690002  178.850006  176.149994  177.779999  177.779999   \n",
       "\n",
       "     Volume  \n",
       "0  65280800  \n",
       "1  40356500  \n",
       "2  34042100  \n",
       "3  32400000  \n",
       "4  24763400  "
      ]
     },
     "execution_count": 6,
     "metadata": {},
     "output_type": "execute_result"
    }
   ],
   "source": [
    "fb.head()"
   ]
  },
  {
   "cell_type": "markdown",
   "metadata": {},
   "source": [
    "## Converting date to index"
   ]
  },
  {
   "cell_type": "code",
   "execution_count": 7,
   "metadata": {},
   "outputs": [
    {
     "data": {
      "text/plain": [
       "Date          object\n",
       "Open         float64\n",
       "High         float64\n",
       "Low          float64\n",
       "Close        float64\n",
       "Adj Close    float64\n",
       "Volume         int64\n",
       "dtype: object"
      ]
     },
     "execution_count": 7,
     "metadata": {},
     "output_type": "execute_result"
    }
   ],
   "source": [
    "fb.dtypes"
   ]
  },
  {
   "cell_type": "code",
   "execution_count": 8,
   "metadata": {},
   "outputs": [
    {
     "data": {
      "text/html": [
       "<div>\n",
       "<style scoped>\n",
       "    .dataframe tbody tr th:only-of-type {\n",
       "        vertical-align: middle;\n",
       "    }\n",
       "\n",
       "    .dataframe tbody tr th {\n",
       "        vertical-align: top;\n",
       "    }\n",
       "\n",
       "    .dataframe thead th {\n",
       "        text-align: right;\n",
       "    }\n",
       "</style>\n",
       "<table border=\"1\" class=\"dataframe\">\n",
       "  <thead>\n",
       "    <tr style=\"text-align: right;\">\n",
       "      <th></th>\n",
       "      <th>Date</th>\n",
       "      <th>Open</th>\n",
       "      <th>High</th>\n",
       "      <th>Low</th>\n",
       "      <th>Close</th>\n",
       "      <th>Adj Close</th>\n",
       "      <th>Volume</th>\n",
       "    </tr>\n",
       "  </thead>\n",
       "  <tbody>\n",
       "    <tr>\n",
       "      <th>0</th>\n",
       "      <td>2018-07-30</td>\n",
       "      <td>175.300003</td>\n",
       "      <td>175.300003</td>\n",
       "      <td>166.559998</td>\n",
       "      <td>171.059998</td>\n",
       "      <td>171.059998</td>\n",
       "      <td>65280800</td>\n",
       "    </tr>\n",
       "    <tr>\n",
       "      <th>1</th>\n",
       "      <td>2018-07-31</td>\n",
       "      <td>170.669998</td>\n",
       "      <td>174.240005</td>\n",
       "      <td>170.000000</td>\n",
       "      <td>172.580002</td>\n",
       "      <td>172.580002</td>\n",
       "      <td>40356500</td>\n",
       "    </tr>\n",
       "    <tr>\n",
       "      <th>2</th>\n",
       "      <td>2018-08-01</td>\n",
       "      <td>173.929993</td>\n",
       "      <td>175.080002</td>\n",
       "      <td>170.899994</td>\n",
       "      <td>171.649994</td>\n",
       "      <td>171.649994</td>\n",
       "      <td>34042100</td>\n",
       "    </tr>\n",
       "    <tr>\n",
       "      <th>3</th>\n",
       "      <td>2018-08-02</td>\n",
       "      <td>170.679993</td>\n",
       "      <td>176.789993</td>\n",
       "      <td>170.270004</td>\n",
       "      <td>176.369995</td>\n",
       "      <td>176.369995</td>\n",
       "      <td>32400000</td>\n",
       "    </tr>\n",
       "    <tr>\n",
       "      <th>4</th>\n",
       "      <td>2018-08-03</td>\n",
       "      <td>177.690002</td>\n",
       "      <td>178.850006</td>\n",
       "      <td>176.149994</td>\n",
       "      <td>177.779999</td>\n",
       "      <td>177.779999</td>\n",
       "      <td>24763400</td>\n",
       "    </tr>\n",
       "  </tbody>\n",
       "</table>\n",
       "</div>"
      ],
      "text/plain": [
       "        Date        Open        High         Low       Close   Adj Close  \\\n",
       "0 2018-07-30  175.300003  175.300003  166.559998  171.059998  171.059998   \n",
       "1 2018-07-31  170.669998  174.240005  170.000000  172.580002  172.580002   \n",
       "2 2018-08-01  173.929993  175.080002  170.899994  171.649994  171.649994   \n",
       "3 2018-08-02  170.679993  176.789993  170.270004  176.369995  176.369995   \n",
       "4 2018-08-03  177.690002  178.850006  176.149994  177.779999  177.779999   \n",
       "\n",
       "     Volume  \n",
       "0  65280800  \n",
       "1  40356500  \n",
       "2  34042100  \n",
       "3  32400000  \n",
       "4  24763400  "
      ]
     },
     "execution_count": 8,
     "metadata": {},
     "output_type": "execute_result"
    }
   ],
   "source": [
    "fb=pd.read_csv(\n",
    "    \"Datasets/FB.csv\", parse_dates=[\"Date\"])\n",
    "fb.head()"
   ]
  },
  {
   "cell_type": "code",
   "execution_count": 9,
   "metadata": {},
   "outputs": [
    {
     "data": {
      "text/plain": [
       "Date         datetime64[ns]\n",
       "Open                float64\n",
       "High                float64\n",
       "Low                 float64\n",
       "Close               float64\n",
       "Adj Close           float64\n",
       "Volume                int64\n",
       "dtype: object"
      ]
     },
     "execution_count": 9,
     "metadata": {},
     "output_type": "execute_result"
    }
   ],
   "source": [
    "fb.dtypes"
   ]
  },
  {
   "cell_type": "code",
   "execution_count": null,
   "metadata": {},
   "outputs": [],
   "source": []
  },
  {
   "cell_type": "code",
   "execution_count": null,
   "metadata": {},
   "outputs": [],
   "source": []
  },
  {
   "cell_type": "code",
   "execution_count": null,
   "metadata": {},
   "outputs": [],
   "source": []
  },
  {
   "cell_type": "code",
   "execution_count": 10,
   "metadata": {},
   "outputs": [
    {
     "data": {
      "text/html": [
       "<div>\n",
       "<style scoped>\n",
       "    .dataframe tbody tr th:only-of-type {\n",
       "        vertical-align: middle;\n",
       "    }\n",
       "\n",
       "    .dataframe tbody tr th {\n",
       "        vertical-align: top;\n",
       "    }\n",
       "\n",
       "    .dataframe thead th {\n",
       "        text-align: right;\n",
       "    }\n",
       "</style>\n",
       "<table border=\"1\" class=\"dataframe\">\n",
       "  <thead>\n",
       "    <tr style=\"text-align: right;\">\n",
       "      <th></th>\n",
       "      <th>Open</th>\n",
       "      <th>High</th>\n",
       "      <th>Low</th>\n",
       "      <th>Close</th>\n",
       "      <th>Adj Close</th>\n",
       "      <th>Volume</th>\n",
       "    </tr>\n",
       "    <tr>\n",
       "      <th>Date</th>\n",
       "      <th></th>\n",
       "      <th></th>\n",
       "      <th></th>\n",
       "      <th></th>\n",
       "      <th></th>\n",
       "      <th></th>\n",
       "    </tr>\n",
       "  </thead>\n",
       "  <tbody>\n",
       "    <tr>\n",
       "      <th>2018-07-30</th>\n",
       "      <td>175.300003</td>\n",
       "      <td>175.300003</td>\n",
       "      <td>166.559998</td>\n",
       "      <td>171.059998</td>\n",
       "      <td>171.059998</td>\n",
       "      <td>65280800</td>\n",
       "    </tr>\n",
       "    <tr>\n",
       "      <th>2018-07-31</th>\n",
       "      <td>170.669998</td>\n",
       "      <td>174.240005</td>\n",
       "      <td>170.000000</td>\n",
       "      <td>172.580002</td>\n",
       "      <td>172.580002</td>\n",
       "      <td>40356500</td>\n",
       "    </tr>\n",
       "    <tr>\n",
       "      <th>2018-08-01</th>\n",
       "      <td>173.929993</td>\n",
       "      <td>175.080002</td>\n",
       "      <td>170.899994</td>\n",
       "      <td>171.649994</td>\n",
       "      <td>171.649994</td>\n",
       "      <td>34042100</td>\n",
       "    </tr>\n",
       "    <tr>\n",
       "      <th>2018-08-02</th>\n",
       "      <td>170.679993</td>\n",
       "      <td>176.789993</td>\n",
       "      <td>170.270004</td>\n",
       "      <td>176.369995</td>\n",
       "      <td>176.369995</td>\n",
       "      <td>32400000</td>\n",
       "    </tr>\n",
       "    <tr>\n",
       "      <th>2018-08-03</th>\n",
       "      <td>177.690002</td>\n",
       "      <td>178.850006</td>\n",
       "      <td>176.149994</td>\n",
       "      <td>177.779999</td>\n",
       "      <td>177.779999</td>\n",
       "      <td>24763400</td>\n",
       "    </tr>\n",
       "  </tbody>\n",
       "</table>\n",
       "</div>"
      ],
      "text/plain": [
       "                  Open        High         Low       Close   Adj Close  \\\n",
       "Date                                                                     \n",
       "2018-07-30  175.300003  175.300003  166.559998  171.059998  171.059998   \n",
       "2018-07-31  170.669998  174.240005  170.000000  172.580002  172.580002   \n",
       "2018-08-01  173.929993  175.080002  170.899994  171.649994  171.649994   \n",
       "2018-08-02  170.679993  176.789993  170.270004  176.369995  176.369995   \n",
       "2018-08-03  177.690002  178.850006  176.149994  177.779999  177.779999   \n",
       "\n",
       "              Volume  \n",
       "Date                  \n",
       "2018-07-30  65280800  \n",
       "2018-07-31  40356500  \n",
       "2018-08-01  34042100  \n",
       "2018-08-02  32400000  \n",
       "2018-08-03  24763400  "
      ]
     },
     "execution_count": 10,
     "metadata": {},
     "output_type": "execute_result"
    }
   ],
   "source": [
    "fb=pd.read_csv(\n",
    "    \"Datasets/FB.csv\", \n",
    "    parse_dates=[\"Date\"], \n",
    "    index_col=\"Date\")\n",
    "fb.head()"
   ]
  },
  {
   "cell_type": "code",
   "execution_count": 11,
   "metadata": {},
   "outputs": [
    {
     "data": {
      "text/plain": [
       "DatetimeIndex(['2018-07-30', '2018-07-31', '2018-08-01', '2018-08-02',\n",
       "               '2018-08-03', '2018-08-06', '2018-08-07', '2018-08-08',\n",
       "               '2018-08-09', '2018-08-10',\n",
       "               ...\n",
       "               '2019-07-16', '2019-07-17', '2019-07-18', '2019-07-19',\n",
       "               '2019-07-22', '2019-07-23', '2019-07-24', '2019-07-25',\n",
       "               '2019-07-26', '2019-07-29'],\n",
       "              dtype='datetime64[ns]', name='Date', length=251, freq=None)"
      ]
     },
     "execution_count": 11,
     "metadata": {},
     "output_type": "execute_result"
    }
   ],
   "source": [
    "fb.index"
   ]
  },
  {
   "cell_type": "code",
   "execution_count": 12,
   "metadata": {},
   "outputs": [
    {
     "data": {
      "text/html": [
       "<div>\n",
       "<style scoped>\n",
       "    .dataframe tbody tr th:only-of-type {\n",
       "        vertical-align: middle;\n",
       "    }\n",
       "\n",
       "    .dataframe tbody tr th {\n",
       "        vertical-align: top;\n",
       "    }\n",
       "\n",
       "    .dataframe thead th {\n",
       "        text-align: right;\n",
       "    }\n",
       "</style>\n",
       "<table border=\"1\" class=\"dataframe\">\n",
       "  <thead>\n",
       "    <tr style=\"text-align: right;\">\n",
       "      <th></th>\n",
       "      <th>Open</th>\n",
       "      <th>High</th>\n",
       "      <th>Low</th>\n",
       "      <th>Close</th>\n",
       "      <th>Adj Close</th>\n",
       "      <th>Volume</th>\n",
       "    </tr>\n",
       "    <tr>\n",
       "      <th>Date</th>\n",
       "      <th></th>\n",
       "      <th></th>\n",
       "      <th></th>\n",
       "      <th></th>\n",
       "      <th></th>\n",
       "      <th></th>\n",
       "    </tr>\n",
       "  </thead>\n",
       "  <tbody>\n",
       "    <tr>\n",
       "      <th>2018-07-30</th>\n",
       "      <td>175.300003</td>\n",
       "      <td>175.300003</td>\n",
       "      <td>166.559998</td>\n",
       "      <td>171.059998</td>\n",
       "      <td>171.059998</td>\n",
       "      <td>65280800</td>\n",
       "    </tr>\n",
       "    <tr>\n",
       "      <th>2018-07-31</th>\n",
       "      <td>170.669998</td>\n",
       "      <td>174.240005</td>\n",
       "      <td>170.000000</td>\n",
       "      <td>172.580002</td>\n",
       "      <td>172.580002</td>\n",
       "      <td>40356500</td>\n",
       "    </tr>\n",
       "    <tr>\n",
       "      <th>2018-08-01</th>\n",
       "      <td>173.929993</td>\n",
       "      <td>175.080002</td>\n",
       "      <td>170.899994</td>\n",
       "      <td>171.649994</td>\n",
       "      <td>171.649994</td>\n",
       "      <td>34042100</td>\n",
       "    </tr>\n",
       "    <tr>\n",
       "      <th>2018-08-02</th>\n",
       "      <td>170.679993</td>\n",
       "      <td>176.789993</td>\n",
       "      <td>170.270004</td>\n",
       "      <td>176.369995</td>\n",
       "      <td>176.369995</td>\n",
       "      <td>32400000</td>\n",
       "    </tr>\n",
       "    <tr>\n",
       "      <th>2018-08-03</th>\n",
       "      <td>177.690002</td>\n",
       "      <td>178.850006</td>\n",
       "      <td>176.149994</td>\n",
       "      <td>177.779999</td>\n",
       "      <td>177.779999</td>\n",
       "      <td>24763400</td>\n",
       "    </tr>\n",
       "  </tbody>\n",
       "</table>\n",
       "</div>"
      ],
      "text/plain": [
       "                  Open        High         Low       Close   Adj Close  \\\n",
       "Date                                                                     \n",
       "2018-07-30  175.300003  175.300003  166.559998  171.059998  171.059998   \n",
       "2018-07-31  170.669998  174.240005  170.000000  172.580002  172.580002   \n",
       "2018-08-01  173.929993  175.080002  170.899994  171.649994  171.649994   \n",
       "2018-08-02  170.679993  176.789993  170.270004  176.369995  176.369995   \n",
       "2018-08-03  177.690002  178.850006  176.149994  177.779999  177.779999   \n",
       "\n",
       "              Volume  \n",
       "Date                  \n",
       "2018-07-30  65280800  \n",
       "2018-07-31  40356500  \n",
       "2018-08-01  34042100  \n",
       "2018-08-02  32400000  \n",
       "2018-08-03  24763400  "
      ]
     },
     "execution_count": 12,
     "metadata": {},
     "output_type": "execute_result"
    }
   ],
   "source": [
    "fb.head()"
   ]
  },
  {
   "cell_type": "code",
   "execution_count": 13,
   "metadata": {},
   "outputs": [
    {
     "name": "stderr",
     "output_type": "stream",
     "text": [
      "/var/folders/dq/452wvgp96nv2qcc3dn0dv8240000gn/T/ipykernel_850/3020878372.py:1: FutureWarning: Indexing a DataFrame with a datetimelike index using a single string to slice the rows, like `frame[string]`, is deprecated and will be removed in a future version. Use `frame.loc[string]` instead.\n",
      "  fb[\"2019-06\"].head(5)\n"
     ]
    },
    {
     "data": {
      "text/html": [
       "<div>\n",
       "<style scoped>\n",
       "    .dataframe tbody tr th:only-of-type {\n",
       "        vertical-align: middle;\n",
       "    }\n",
       "\n",
       "    .dataframe tbody tr th {\n",
       "        vertical-align: top;\n",
       "    }\n",
       "\n",
       "    .dataframe thead th {\n",
       "        text-align: right;\n",
       "    }\n",
       "</style>\n",
       "<table border=\"1\" class=\"dataframe\">\n",
       "  <thead>\n",
       "    <tr style=\"text-align: right;\">\n",
       "      <th></th>\n",
       "      <th>Open</th>\n",
       "      <th>High</th>\n",
       "      <th>Low</th>\n",
       "      <th>Close</th>\n",
       "      <th>Adj Close</th>\n",
       "      <th>Volume</th>\n",
       "    </tr>\n",
       "    <tr>\n",
       "      <th>Date</th>\n",
       "      <th></th>\n",
       "      <th></th>\n",
       "      <th></th>\n",
       "      <th></th>\n",
       "      <th></th>\n",
       "      <th></th>\n",
       "    </tr>\n",
       "  </thead>\n",
       "  <tbody>\n",
       "    <tr>\n",
       "      <th>2019-06-03</th>\n",
       "      <td>175.000000</td>\n",
       "      <td>175.050003</td>\n",
       "      <td>161.009995</td>\n",
       "      <td>164.149994</td>\n",
       "      <td>164.149994</td>\n",
       "      <td>56059600</td>\n",
       "    </tr>\n",
       "    <tr>\n",
       "      <th>2019-06-04</th>\n",
       "      <td>163.710007</td>\n",
       "      <td>168.279999</td>\n",
       "      <td>160.839996</td>\n",
       "      <td>167.500000</td>\n",
       "      <td>167.500000</td>\n",
       "      <td>46044300</td>\n",
       "    </tr>\n",
       "    <tr>\n",
       "      <th>2019-06-05</th>\n",
       "      <td>167.479996</td>\n",
       "      <td>168.720001</td>\n",
       "      <td>164.630005</td>\n",
       "      <td>168.169998</td>\n",
       "      <td>168.169998</td>\n",
       "      <td>19758300</td>\n",
       "    </tr>\n",
       "    <tr>\n",
       "      <th>2019-06-06</th>\n",
       "      <td>168.300003</td>\n",
       "      <td>169.699997</td>\n",
       "      <td>167.229996</td>\n",
       "      <td>168.330002</td>\n",
       "      <td>168.330002</td>\n",
       "      <td>12446400</td>\n",
       "    </tr>\n",
       "    <tr>\n",
       "      <th>2019-06-07</th>\n",
       "      <td>170.169998</td>\n",
       "      <td>173.869995</td>\n",
       "      <td>168.839996</td>\n",
       "      <td>173.350006</td>\n",
       "      <td>173.350006</td>\n",
       "      <td>16917300</td>\n",
       "    </tr>\n",
       "  </tbody>\n",
       "</table>\n",
       "</div>"
      ],
      "text/plain": [
       "                  Open        High         Low       Close   Adj Close  \\\n",
       "Date                                                                     \n",
       "2019-06-03  175.000000  175.050003  161.009995  164.149994  164.149994   \n",
       "2019-06-04  163.710007  168.279999  160.839996  167.500000  167.500000   \n",
       "2019-06-05  167.479996  168.720001  164.630005  168.169998  168.169998   \n",
       "2019-06-06  168.300003  169.699997  167.229996  168.330002  168.330002   \n",
       "2019-06-07  170.169998  173.869995  168.839996  173.350006  173.350006   \n",
       "\n",
       "              Volume  \n",
       "Date                  \n",
       "2019-06-03  56059600  \n",
       "2019-06-04  46044300  \n",
       "2019-06-05  19758300  \n",
       "2019-06-06  12446400  \n",
       "2019-06-07  16917300  "
      ]
     },
     "execution_count": 13,
     "metadata": {},
     "output_type": "execute_result"
    }
   ],
   "source": [
    "fb[\"2019-06\"].head(5)"
   ]
  },
  {
   "cell_type": "markdown",
   "metadata": {},
   "source": [
    "## Working with Indexes"
   ]
  },
  {
   "cell_type": "code",
   "execution_count": 19,
   "metadata": {},
   "outputs": [
    {
     "name": "stderr",
     "output_type": "stream",
     "text": [
      "/var/folders/dq/452wvgp96nv2qcc3dn0dv8240000gn/T/ipykernel_850/1520892280.py:1: FutureWarning: Indexing a DataFrame with a datetimelike index using a single string to slice the rows, like `frame[string]`, is deprecated and will be removed in a future version. Use `frame.loc[string]` instead.\n",
      "  fb[\"2019-06\"][\"Adj Close\"].mean()\n"
     ]
    },
    {
     "data": {
      "text/plain": [
       "181.27450025000002"
      ]
     },
     "execution_count": 19,
     "metadata": {},
     "output_type": "execute_result"
    }
   ],
   "source": [
    "fb[\"2019-06\"][\"Adj Close\"].mean()\n",
    "# fb[\"2019-06\"].Adj Close.mean()"
   ]
  },
  {
   "cell_type": "code",
   "execution_count": 20,
   "metadata": {},
   "outputs": [
    {
     "data": {
      "text/html": [
       "<div>\n",
       "<style scoped>\n",
       "    .dataframe tbody tr th:only-of-type {\n",
       "        vertical-align: middle;\n",
       "    }\n",
       "\n",
       "    .dataframe tbody tr th {\n",
       "        vertical-align: top;\n",
       "    }\n",
       "\n",
       "    .dataframe thead th {\n",
       "        text-align: right;\n",
       "    }\n",
       "</style>\n",
       "<table border=\"1\" class=\"dataframe\">\n",
       "  <thead>\n",
       "    <tr style=\"text-align: right;\">\n",
       "      <th></th>\n",
       "      <th>Open</th>\n",
       "      <th>High</th>\n",
       "      <th>Low</th>\n",
       "      <th>Close</th>\n",
       "      <th>Adj Close</th>\n",
       "      <th>Volume</th>\n",
       "    </tr>\n",
       "    <tr>\n",
       "      <th>Date</th>\n",
       "      <th></th>\n",
       "      <th></th>\n",
       "      <th></th>\n",
       "      <th></th>\n",
       "      <th></th>\n",
       "      <th></th>\n",
       "    </tr>\n",
       "  </thead>\n",
       "  <tbody>\n",
       "    <tr>\n",
       "      <th>2019-07-05</th>\n",
       "      <td>196.179993</td>\n",
       "      <td>197.070007</td>\n",
       "      <td>194.169998</td>\n",
       "      <td>196.399994</td>\n",
       "      <td>196.399994</td>\n",
       "      <td>11164100</td>\n",
       "    </tr>\n",
       "    <tr>\n",
       "      <th>2019-07-08</th>\n",
       "      <td>195.190002</td>\n",
       "      <td>196.679993</td>\n",
       "      <td>193.639999</td>\n",
       "      <td>195.759995</td>\n",
       "      <td>195.759995</td>\n",
       "      <td>9723900</td>\n",
       "    </tr>\n",
       "    <tr>\n",
       "      <th>2019-07-09</th>\n",
       "      <td>194.970001</td>\n",
       "      <td>199.460007</td>\n",
       "      <td>194.889999</td>\n",
       "      <td>199.210007</td>\n",
       "      <td>199.210007</td>\n",
       "      <td>14698600</td>\n",
       "    </tr>\n",
       "    <tr>\n",
       "      <th>2019-07-10</th>\n",
       "      <td>200.000000</td>\n",
       "      <td>202.960007</td>\n",
       "      <td>199.669998</td>\n",
       "      <td>202.729996</td>\n",
       "      <td>202.729996</td>\n",
       "      <td>20571700</td>\n",
       "    </tr>\n",
       "  </tbody>\n",
       "</table>\n",
       "</div>"
      ],
      "text/plain": [
       "                  Open        High         Low       Close   Adj Close  \\\n",
       "Date                                                                     \n",
       "2019-07-05  196.179993  197.070007  194.169998  196.399994  196.399994   \n",
       "2019-07-08  195.190002  196.679993  193.639999  195.759995  195.759995   \n",
       "2019-07-09  194.970001  199.460007  194.889999  199.210007  199.210007   \n",
       "2019-07-10  200.000000  202.960007  199.669998  202.729996  202.729996   \n",
       "\n",
       "              Volume  \n",
       "Date                  \n",
       "2019-07-05  11164100  \n",
       "2019-07-08   9723900  \n",
       "2019-07-09  14698600  \n",
       "2019-07-10  20571700  "
      ]
     },
     "execution_count": 20,
     "metadata": {},
     "output_type": "execute_result"
    }
   ],
   "source": [
    "fb[\"2019-07-05\":\"2019-07-10\"]"
   ]
  },
  {
   "cell_type": "code",
   "execution_count": null,
   "metadata": {},
   "outputs": [],
   "source": [
    "t=pd.to_datetime(\"7/22/2019\")\n",
    "t"
   ]
  },
  {
   "cell_type": "code",
   "execution_count": null,
   "metadata": {},
   "outputs": [],
   "source": [
    "fb.loc[fb.index>=t,:]"
   ]
  },
  {
   "cell_type": "markdown",
   "metadata": {},
   "source": [
    "## Dating the Data Set"
   ]
  },
  {
   "cell_type": "code",
   "execution_count": 21,
   "metadata": {},
   "outputs": [],
   "source": [
    "fb1=pd.read_csv(\"Datasets/FB-no-date.csv\",sep=\";\")"
   ]
  },
  {
   "cell_type": "code",
   "execution_count": 22,
   "metadata": {},
   "outputs": [
    {
     "data": {
      "text/html": [
       "<div>\n",
       "<style scoped>\n",
       "    .dataframe tbody tr th:only-of-type {\n",
       "        vertical-align: middle;\n",
       "    }\n",
       "\n",
       "    .dataframe tbody tr th {\n",
       "        vertical-align: top;\n",
       "    }\n",
       "\n",
       "    .dataframe thead th {\n",
       "        text-align: right;\n",
       "    }\n",
       "</style>\n",
       "<table border=\"1\" class=\"dataframe\">\n",
       "  <thead>\n",
       "    <tr style=\"text-align: right;\">\n",
       "      <th></th>\n",
       "      <th>Open</th>\n",
       "      <th>High</th>\n",
       "      <th>Low</th>\n",
       "      <th>Close</th>\n",
       "      <th>Adj Close</th>\n",
       "      <th>Volume</th>\n",
       "    </tr>\n",
       "  </thead>\n",
       "  <tbody>\n",
       "    <tr>\n",
       "      <th>0</th>\n",
       "      <td>162600006</td>\n",
       "      <td>163130005</td>\n",
       "      <td>161690002</td>\n",
       "      <td>162279999</td>\n",
       "      <td>162279999</td>\n",
       "      <td>11097800</td>\n",
       "    </tr>\n",
       "    <tr>\n",
       "      <th>1</th>\n",
       "      <td>163899994</td>\n",
       "      <td>167500000</td>\n",
       "      <td>163830002</td>\n",
       "      <td>167369995</td>\n",
       "      <td>167369995</td>\n",
       "      <td>18894700</td>\n",
       "    </tr>\n",
       "    <tr>\n",
       "      <th>2</th>\n",
       "      <td>167369995</td>\n",
       "      <td>171880005</td>\n",
       "      <td>166550003</td>\n",
       "      <td>171259995</td>\n",
       "      <td>171259995</td>\n",
       "      <td>28187900</td>\n",
       "    </tr>\n",
       "    <tr>\n",
       "      <th>3</th>\n",
       "      <td>172899994</td>\n",
       "      <td>173570007</td>\n",
       "      <td>171270004</td>\n",
       "      <td>172509995</td>\n",
       "      <td>172509995</td>\n",
       "      <td>21531700</td>\n",
       "    </tr>\n",
       "    <tr>\n",
       "      <th>4</th>\n",
       "      <td>171500000</td>\n",
       "      <td>171740005</td>\n",
       "      <td>167610001</td>\n",
       "      <td>169130005</td>\n",
       "      <td>169130005</td>\n",
       "      <td>18306500</td>\n",
       "    </tr>\n",
       "  </tbody>\n",
       "</table>\n",
       "</div>"
      ],
      "text/plain": [
       "        Open       High        Low      Close  Adj Close    Volume\n",
       "0  162600006  163130005  161690002  162279999  162279999  11097800\n",
       "1  163899994  167500000  163830002  167369995  167369995  18894700\n",
       "2  167369995  171880005  166550003  171259995  171259995  28187900\n",
       "3  172899994  173570007  171270004  172509995  172509995  21531700\n",
       "4  171500000  171740005  167610001  169130005  169130005  18306500"
      ]
     },
     "execution_count": 22,
     "metadata": {},
     "output_type": "execute_result"
    }
   ],
   "source": [
    "fb1.head()"
   ]
  },
  {
   "cell_type": "code",
   "execution_count": 23,
   "metadata": {},
   "outputs": [
    {
     "data": {
      "text/plain": [
       "DatetimeIndex(['2019-03-01', '2019-03-04', '2019-03-05', '2019-03-06',\n",
       "               '2019-03-07', '2019-03-08', '2019-03-11', '2019-03-12',\n",
       "               '2019-03-13', '2019-03-14', '2019-03-15', '2019-03-18',\n",
       "               '2019-03-19', '2019-03-20', '2019-03-21', '2019-03-22',\n",
       "               '2019-03-25', '2019-03-26', '2019-03-27', '2019-03-28',\n",
       "               '2019-03-29'],\n",
       "              dtype='datetime64[ns]', freq='B')"
      ]
     },
     "execution_count": 23,
     "metadata": {},
     "output_type": "execute_result"
    }
   ],
   "source": [
    "dates=pd.date_range(start=\"03/01/2019\", \n",
    "                    end=\"03/29/2019\", \n",
    "                    freq=\"B\") \n",
    "dates"
   ]
  },
  {
   "cell_type": "code",
   "execution_count": 24,
   "metadata": {},
   "outputs": [],
   "source": [
    "fb1.set_index(dates,inplace=True)"
   ]
  },
  {
   "cell_type": "code",
   "execution_count": 25,
   "metadata": {
    "scrolled": true
   },
   "outputs": [
    {
     "data": {
      "text/html": [
       "<div>\n",
       "<style scoped>\n",
       "    .dataframe tbody tr th:only-of-type {\n",
       "        vertical-align: middle;\n",
       "    }\n",
       "\n",
       "    .dataframe tbody tr th {\n",
       "        vertical-align: top;\n",
       "    }\n",
       "\n",
       "    .dataframe thead th {\n",
       "        text-align: right;\n",
       "    }\n",
       "</style>\n",
       "<table border=\"1\" class=\"dataframe\">\n",
       "  <thead>\n",
       "    <tr style=\"text-align: right;\">\n",
       "      <th></th>\n",
       "      <th>Open</th>\n",
       "      <th>High</th>\n",
       "      <th>Low</th>\n",
       "      <th>Close</th>\n",
       "      <th>Adj Close</th>\n",
       "      <th>Volume</th>\n",
       "    </tr>\n",
       "  </thead>\n",
       "  <tbody>\n",
       "    <tr>\n",
       "      <th>2019-03-01</th>\n",
       "      <td>162600006</td>\n",
       "      <td>163130005</td>\n",
       "      <td>161690002</td>\n",
       "      <td>162279999</td>\n",
       "      <td>162279999</td>\n",
       "      <td>11097800</td>\n",
       "    </tr>\n",
       "    <tr>\n",
       "      <th>2019-03-04</th>\n",
       "      <td>163899994</td>\n",
       "      <td>167500000</td>\n",
       "      <td>163830002</td>\n",
       "      <td>167369995</td>\n",
       "      <td>167369995</td>\n",
       "      <td>18894700</td>\n",
       "    </tr>\n",
       "    <tr>\n",
       "      <th>2019-03-05</th>\n",
       "      <td>167369995</td>\n",
       "      <td>171880005</td>\n",
       "      <td>166550003</td>\n",
       "      <td>171259995</td>\n",
       "      <td>171259995</td>\n",
       "      <td>28187900</td>\n",
       "    </tr>\n",
       "    <tr>\n",
       "      <th>2019-03-06</th>\n",
       "      <td>172899994</td>\n",
       "      <td>173570007</td>\n",
       "      <td>171270004</td>\n",
       "      <td>172509995</td>\n",
       "      <td>172509995</td>\n",
       "      <td>21531700</td>\n",
       "    </tr>\n",
       "    <tr>\n",
       "      <th>2019-03-07</th>\n",
       "      <td>171500000</td>\n",
       "      <td>171740005</td>\n",
       "      <td>167610001</td>\n",
       "      <td>169130005</td>\n",
       "      <td>169130005</td>\n",
       "      <td>18306500</td>\n",
       "    </tr>\n",
       "  </tbody>\n",
       "</table>\n",
       "</div>"
      ],
      "text/plain": [
       "                 Open       High        Low      Close  Adj Close    Volume\n",
       "2019-03-01  162600006  163130005  161690002  162279999  162279999  11097800\n",
       "2019-03-04  163899994  167500000  163830002  167369995  167369995  18894700\n",
       "2019-03-05  167369995  171880005  166550003  171259995  171259995  28187900\n",
       "2019-03-06  172899994  173570007  171270004  172509995  172509995  21531700\n",
       "2019-03-07  171500000  171740005  167610001  169130005  169130005  18306500"
      ]
     },
     "execution_count": 25,
     "metadata": {},
     "output_type": "execute_result"
    }
   ],
   "source": [
    "fb1.head()"
   ]
  },
  {
   "cell_type": "code",
   "execution_count": 26,
   "metadata": {},
   "outputs": [
    {
     "data": {
      "text/plain": [
       "DatetimeIndex(['2019-03-01', '2019-03-04', '2019-03-05', '2019-03-06',\n",
       "               '2019-03-07', '2019-03-08', '2019-03-11', '2019-03-12',\n",
       "               '2019-03-13', '2019-03-14', '2019-03-15', '2019-03-18',\n",
       "               '2019-03-19', '2019-03-20', '2019-03-21', '2019-03-22',\n",
       "               '2019-03-25', '2019-03-26', '2019-03-27', '2019-03-28',\n",
       "               '2019-03-29'],\n",
       "              dtype='datetime64[ns]', freq='B')"
      ]
     },
     "execution_count": 26,
     "metadata": {},
     "output_type": "execute_result"
    }
   ],
   "source": [
    "fb1.index"
   ]
  },
  {
   "cell_type": "code",
   "execution_count": null,
   "metadata": {},
   "outputs": [],
   "source": []
  },
  {
   "cell_type": "code",
   "execution_count": null,
   "metadata": {},
   "outputs": [],
   "source": []
  }
 ],
 "metadata": {
  "kernelspec": {
   "display_name": "Python 3 (ipykernel)",
   "language": "python",
   "name": "python3"
  },
  "language_info": {
   "codemirror_mode": {
    "name": "ipython",
    "version": 3
   },
   "file_extension": ".py",
   "mimetype": "text/x-python",
   "name": "python",
   "nbconvert_exporter": "python",
   "pygments_lexer": "ipython3",
   "version": "3.9.7"
  }
 },
 "nbformat": 4,
 "nbformat_minor": 2
}
